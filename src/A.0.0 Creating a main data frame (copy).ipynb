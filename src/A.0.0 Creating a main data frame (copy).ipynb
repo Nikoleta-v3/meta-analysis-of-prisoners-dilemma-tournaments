{
 "cells": [
  {
   "cell_type": "markdown",
   "metadata": {},
   "source": [
    "Creating a main data frame\n",
    "------------------------------\n",
    "\n",
    "In the following notebook we create our data set. \n",
    "\n",
    "1. The parameters data set is created\n",
    "2. For each row retrieve the corresponding data sets (noise, probend, standard etc)\n",
    "3. Get a data set with all the strategies of the axelrod python library\n",
    "4. Merge them together\n",
    "5. Write to file\n",
    "\n",
    "The following could have been implemented in the script but it was done here so we could time the process. "
   ]
  },
  {
   "cell_type": "code",
   "execution_count": 1,
   "metadata": {
    "collapsed": true
   },
   "outputs": [],
   "source": [
    "import pandas as pd\n",
    "import axelrod\n",
    "import read_in"
   ]
  },
  {
   "cell_type": "code",
   "execution_count": 2,
   "metadata": {},
   "outputs": [
    {
     "data": {
      "text/plain": [
       "'3.0.0'"
      ]
     },
     "execution_count": 2,
     "metadata": {},
     "output_type": "execute_result"
    }
   ],
   "source": [
    "axelrod.__version__"
   ]
  },
  {
   "cell_type": "code",
   "execution_count": 3,
   "metadata": {
    "collapsed": true
   },
   "outputs": [],
   "source": [
    "directory = \"../data/\""
   ]
  },
  {
   "cell_type": "code",
   "execution_count": 4,
   "metadata": {},
   "outputs": [
    {
     "data": {
      "text/html": [
       "<div>\n",
       "<table border=\"1\" class=\"dataframe\">\n",
       "  <thead>\n",
       "    <tr style=\"text-align: right;\">\n",
       "      <th></th>\n",
       "      <th>Rank</th>\n",
       "      <th>Name</th>\n",
       "      <th>Median_score</th>\n",
       "      <th>Cooperation_rating</th>\n",
       "      <th>Wins</th>\n",
       "      <th>Initial_C_rate</th>\n",
       "      <th>CC_rate</th>\n",
       "      <th>CD_rate</th>\n",
       "      <th>DC_rate</th>\n",
       "      <th>DD_rate</th>\n",
       "      <th>CC_to_C_rate</th>\n",
       "      <th>CD_to_C_rate</th>\n",
       "      <th>DC_to_C_rate</th>\n",
       "      <th>DD_to_C_rate</th>\n",
       "    </tr>\n",
       "  </thead>\n",
       "  <tbody>\n",
       "    <tr>\n",
       "      <th>0</th>\n",
       "      <td>0</td>\n",
       "      <td>Cooperator</td>\n",
       "      <td>3.507081</td>\n",
       "      <td>0.032711</td>\n",
       "      <td>172.0</td>\n",
       "      <td>0.031284</td>\n",
       "      <td>0.020439</td>\n",
       "      <td>0.012272</td>\n",
       "      <td>0.619572</td>\n",
       "      <td>0.347717</td>\n",
       "      <td>0.081861</td>\n",
       "      <td>0.108220</td>\n",
       "      <td>0.034459</td>\n",
       "      <td>0.033878</td>\n",
       "    </tr>\n",
       "    <tr>\n",
       "      <th>1</th>\n",
       "      <td>1</td>\n",
       "      <td>Eventual Cycle Hunter</td>\n",
       "      <td>3.503627</td>\n",
       "      <td>0.032001</td>\n",
       "      <td>172.0</td>\n",
       "      <td>0.034803</td>\n",
       "      <td>0.020276</td>\n",
       "      <td>0.011725</td>\n",
       "      <td>0.619246</td>\n",
       "      <td>0.348754</td>\n",
       "      <td>0.081913</td>\n",
       "      <td>0.107061</td>\n",
       "      <td>0.032011</td>\n",
       "      <td>0.034037</td>\n",
       "    </tr>\n",
       "    <tr>\n",
       "      <th>2</th>\n",
       "      <td>2</td>\n",
       "      <td>Alternator Hunter</td>\n",
       "      <td>3.478066</td>\n",
       "      <td>0.047779</td>\n",
       "      <td>167.0</td>\n",
       "      <td>0.029915</td>\n",
       "      <td>0.026793</td>\n",
       "      <td>0.020986</td>\n",
       "      <td>0.611581</td>\n",
       "      <td>0.340639</td>\n",
       "      <td>0.207054</td>\n",
       "      <td>0.332443</td>\n",
       "      <td>0.036153</td>\n",
       "      <td>0.038292</td>\n",
       "    </tr>\n",
       "    <tr>\n",
       "      <th>3</th>\n",
       "      <td>3</td>\n",
       "      <td>Worse and Worse</td>\n",
       "      <td>3.475993</td>\n",
       "      <td>0.040349</td>\n",
       "      <td>172.0</td>\n",
       "      <td>0.033239</td>\n",
       "      <td>0.026018</td>\n",
       "      <td>0.014332</td>\n",
       "      <td>0.610532</td>\n",
       "      <td>0.349119</td>\n",
       "      <td>0.067050</td>\n",
       "      <td>0.133902</td>\n",
       "      <td>0.041876</td>\n",
       "      <td>0.040933</td>\n",
       "    </tr>\n",
       "    <tr>\n",
       "      <th>4</th>\n",
       "      <td>4</td>\n",
       "      <td>Grumpy: Nice, 10, -10</td>\n",
       "      <td>3.463903</td>\n",
       "      <td>0.065585</td>\n",
       "      <td>163.0</td>\n",
       "      <td>0.032359</td>\n",
       "      <td>0.026259</td>\n",
       "      <td>0.039326</td>\n",
       "      <td>0.613458</td>\n",
       "      <td>0.320957</td>\n",
       "      <td>0.313471</td>\n",
       "      <td>0.505880</td>\n",
       "      <td>0.035639</td>\n",
       "      <td>0.049986</td>\n",
       "    </tr>\n",
       "  </tbody>\n",
       "</table>\n",
       "</div>"
      ],
      "text/plain": [
       "   Rank                   Name  Median_score  Cooperation_rating   Wins  \\\n",
       "0     0             Cooperator      3.507081            0.032711  172.0   \n",
       "1     1  Eventual Cycle Hunter      3.503627            0.032001  172.0   \n",
       "2     2      Alternator Hunter      3.478066            0.047779  167.0   \n",
       "3     3        Worse and Worse      3.475993            0.040349  172.0   \n",
       "4     4  Grumpy: Nice, 10, -10      3.463903            0.065585  163.0   \n",
       "\n",
       "   Initial_C_rate   CC_rate   CD_rate   DC_rate   DD_rate  CC_to_C_rate  \\\n",
       "0        0.031284  0.020439  0.012272  0.619572  0.347717      0.081861   \n",
       "1        0.034803  0.020276  0.011725  0.619246  0.348754      0.081913   \n",
       "2        0.029915  0.026793  0.020986  0.611581  0.340639      0.207054   \n",
       "3        0.033239  0.026018  0.014332  0.610532  0.349119      0.067050   \n",
       "4        0.032359  0.026259  0.039326  0.613458  0.320957      0.313471   \n",
       "\n",
       "   CD_to_C_rate  DC_to_C_rate  DD_to_C_rate  \n",
       "0      0.108220      0.034459      0.033878  \n",
       "1      0.107061      0.032011      0.034037  \n",
       "2      0.332443      0.036153      0.038292  \n",
       "3      0.133902      0.041876      0.040933  \n",
       "4      0.505880      0.035639      0.049986  "
      ]
     },
     "execution_count": 4,
     "metadata": {},
     "output_type": "execute_result"
    }
   ],
   "source": [
    "# the head of a frame\n",
    "frame = pd.read_csv('../data/noise-data/19350.csv')\n",
    "frame.head()"
   ]
  },
  {
   "cell_type": "code",
   "execution_count": 5,
   "metadata": {},
   "outputs": [
    {
     "name": "stdout",
     "output_type": "stream",
     "text": [
      "CPU times: user 964 ms, sys: 168 ms, total: 1.13 s\n",
      "Wall time: 1.17 s\n"
     ]
    }
   ],
   "source": [
    "%time parameters_df = read_in.parameters_data_frame(directory)"
   ]
  },
  {
   "cell_type": "code",
   "execution_count": 6,
   "metadata": {},
   "outputs": [
    {
     "data": {
      "text/html": [
       "<div>\n",
       "<table border=\"1\" class=\"dataframe\">\n",
       "  <thead>\n",
       "    <tr style=\"text-align: right;\">\n",
       "      <th></th>\n",
       "      <th>index</th>\n",
       "      <th>noise</th>\n",
       "      <th>probend</th>\n",
       "      <th>repetitions</th>\n",
       "      <th>seed</th>\n",
       "      <th>size</th>\n",
       "      <th>turns</th>\n",
       "    </tr>\n",
       "  </thead>\n",
       "  <tbody>\n",
       "    <tr>\n",
       "      <th>0</th>\n",
       "      <td>0</td>\n",
       "      <td>0.849486</td>\n",
       "      <td>0.895039</td>\n",
       "      <td>40.0</td>\n",
       "      <td>0.0</td>\n",
       "      <td>101.0</td>\n",
       "      <td>134.0</td>\n",
       "    </tr>\n",
       "    <tr>\n",
       "      <th>1</th>\n",
       "      <td>62</td>\n",
       "      <td>0.849486</td>\n",
       "      <td>0.895039</td>\n",
       "      <td>40.0</td>\n",
       "      <td>0.0</td>\n",
       "      <td>101.0</td>\n",
       "      <td>134.0</td>\n",
       "    </tr>\n",
       "    <tr>\n",
       "      <th>2</th>\n",
       "      <td>93</td>\n",
       "      <td>0.849486</td>\n",
       "      <td>0.895039</td>\n",
       "      <td>40.0</td>\n",
       "      <td>0.0</td>\n",
       "      <td>101.0</td>\n",
       "      <td>134.0</td>\n",
       "    </tr>\n",
       "    <tr>\n",
       "      <th>3</th>\n",
       "      <td>124</td>\n",
       "      <td>0.849486</td>\n",
       "      <td>0.895039</td>\n",
       "      <td>40.0</td>\n",
       "      <td>0.0</td>\n",
       "      <td>101.0</td>\n",
       "      <td>134.0</td>\n",
       "    </tr>\n",
       "    <tr>\n",
       "      <th>4</th>\n",
       "      <td>124</td>\n",
       "      <td>0.849486</td>\n",
       "      <td>0.895039</td>\n",
       "      <td>40.0</td>\n",
       "      <td>0.0</td>\n",
       "      <td>101.0</td>\n",
       "      <td>134.0</td>\n",
       "    </tr>\n",
       "  </tbody>\n",
       "</table>\n",
       "</div>"
      ],
      "text/plain": [
       "   index     noise   probend  repetitions  seed   size  turns\n",
       "0      0  0.849486  0.895039         40.0   0.0  101.0  134.0\n",
       "1     62  0.849486  0.895039         40.0   0.0  101.0  134.0\n",
       "2     93  0.849486  0.895039         40.0   0.0  101.0  134.0\n",
       "3    124  0.849486  0.895039         40.0   0.0  101.0  134.0\n",
       "4    124  0.849486  0.895039         40.0   0.0  101.0  134.0"
      ]
     },
     "execution_count": 6,
     "metadata": {},
     "output_type": "execute_result"
    }
   ],
   "source": [
    "parameters_df.drop_duplicates"
   ]
  },
  {
   "cell_type": "code",
   "execution_count": 7,
   "metadata": {},
   "outputs": [
    {
     "name": "stdout",
     "output_type": "stream",
     "text": [
      "CPU times: user 2.59 s, sys: 0 ns, total: 2.59 s\n",
      "Wall time: 2.6 s\n"
     ]
    }
   ],
   "source": [
    "%time strategies_df = read_in.strategies_properties()"
   ]
  },
  {
   "cell_type": "code",
   "execution_count": 8,
   "metadata": {},
   "outputs": [
    {
     "name": "stdout",
     "output_type": "stream",
     "text": [
      "CPU times: user 8min 1s, sys: 20.9 s, total: 8min 22s\n",
      "Wall time: 9min 3s\n"
     ]
    }
   ],
   "source": [
    "%time df = read_in.reading_in_data(parameters_df, directory)"
   ]
  },
  {
   "cell_type": "code",
   "execution_count": 9,
   "metadata": {},
   "outputs": [
    {
     "data": {
      "text/html": [
       "<div>\n",
       "<table border=\"1\" class=\"dataframe\">\n",
       "  <thead>\n",
       "    <tr style=\"text-align: right;\">\n",
       "      <th></th>\n",
       "      <th>CC_rate</th>\n",
       "      <th>CC_to_C_rate</th>\n",
       "      <th>CD_rate</th>\n",
       "      <th>CD_to_C_rate</th>\n",
       "      <th>Cooperation_rating</th>\n",
       "      <th>DC_rate</th>\n",
       "      <th>DC_to_C_rate</th>\n",
       "      <th>DD_rate</th>\n",
       "      <th>DD_to_C_rate</th>\n",
       "      <th>Initial_C_rate</th>\n",
       "      <th>Median_score</th>\n",
       "      <th>Name</th>\n",
       "      <th>Rank</th>\n",
       "      <th>Wins</th>\n",
       "      <th>noise</th>\n",
       "      <th>probend</th>\n",
       "      <th>repetitions</th>\n",
       "      <th>seed</th>\n",
       "      <th>size</th>\n",
       "      <th>turns</th>\n",
       "    </tr>\n",
       "  </thead>\n",
       "  <tbody>\n",
       "    <tr>\n",
       "      <th>0</th>\n",
       "      <td>0.098972</td>\n",
       "      <td>0.157721</td>\n",
       "      <td>0.053265</td>\n",
       "      <td>0.152564</td>\n",
       "      <td>0.152237</td>\n",
       "      <td>0.550556</td>\n",
       "      <td>0.152024</td>\n",
       "      <td>0.297207</td>\n",
       "      <td>0.150916</td>\n",
       "      <td>0.14350</td>\n",
       "      <td>3.347239</td>\n",
       "      <td>Cooperator Hunter</td>\n",
       "      <td>0</td>\n",
       "      <td>96.0</td>\n",
       "      <td>0.849486</td>\n",
       "      <td>NaN</td>\n",
       "      <td>40.0</td>\n",
       "      <td>0.0</td>\n",
       "      <td>101.0</td>\n",
       "      <td>134.0</td>\n",
       "    </tr>\n",
       "    <tr>\n",
       "      <th>1</th>\n",
       "      <td>0.116172</td>\n",
       "      <td>0.225727</td>\n",
       "      <td>0.058414</td>\n",
       "      <td>0.210793</td>\n",
       "      <td>0.174586</td>\n",
       "      <td>0.533892</td>\n",
       "      <td>0.161021</td>\n",
       "      <td>0.291522</td>\n",
       "      <td>0.154196</td>\n",
       "      <td>0.15025</td>\n",
       "      <td>3.307425</td>\n",
       "      <td>$e$</td>\n",
       "      <td>1</td>\n",
       "      <td>94.0</td>\n",
       "      <td>0.849486</td>\n",
       "      <td>NaN</td>\n",
       "      <td>40.0</td>\n",
       "      <td>0.0</td>\n",
       "      <td>101.0</td>\n",
       "      <td>134.0</td>\n",
       "    </tr>\n",
       "    <tr>\n",
       "      <th>2</th>\n",
       "      <td>0.119065</td>\n",
       "      <td>0.184686</td>\n",
       "      <td>0.066946</td>\n",
       "      <td>0.195297</td>\n",
       "      <td>0.186011</td>\n",
       "      <td>0.523808</td>\n",
       "      <td>0.184778</td>\n",
       "      <td>0.290181</td>\n",
       "      <td>0.184233</td>\n",
       "      <td>0.18450</td>\n",
       "      <td>3.270746</td>\n",
       "      <td>Hesitant QLearner</td>\n",
       "      <td>2</td>\n",
       "      <td>93.0</td>\n",
       "      <td>0.849486</td>\n",
       "      <td>NaN</td>\n",
       "      <td>40.0</td>\n",
       "      <td>0.0</td>\n",
       "      <td>101.0</td>\n",
       "      <td>134.0</td>\n",
       "    </tr>\n",
       "    <tr>\n",
       "      <th>3</th>\n",
       "      <td>0.100909</td>\n",
       "      <td>0.148978</td>\n",
       "      <td>0.069618</td>\n",
       "      <td>0.340554</td>\n",
       "      <td>0.170526</td>\n",
       "      <td>0.533244</td>\n",
       "      <td>0.151465</td>\n",
       "      <td>0.296229</td>\n",
       "      <td>0.160541</td>\n",
       "      <td>0.85475</td>\n",
       "      <td>3.269142</td>\n",
       "      <td>Opposite Grudger</td>\n",
       "      <td>3</td>\n",
       "      <td>94.0</td>\n",
       "      <td>0.849486</td>\n",
       "      <td>NaN</td>\n",
       "      <td>40.0</td>\n",
       "      <td>0.0</td>\n",
       "      <td>101.0</td>\n",
       "      <td>134.0</td>\n",
       "    </tr>\n",
       "    <tr>\n",
       "      <th>4</th>\n",
       "      <td>0.119571</td>\n",
       "      <td>0.184768</td>\n",
       "      <td>0.067466</td>\n",
       "      <td>0.194112</td>\n",
       "      <td>0.187037</td>\n",
       "      <td>0.523174</td>\n",
       "      <td>0.185247</td>\n",
       "      <td>0.289789</td>\n",
       "      <td>0.186620</td>\n",
       "      <td>0.19350</td>\n",
       "      <td>3.268843</td>\n",
       "      <td>Risky QLearner</td>\n",
       "      <td>4</td>\n",
       "      <td>93.0</td>\n",
       "      <td>0.849486</td>\n",
       "      <td>NaN</td>\n",
       "      <td>40.0</td>\n",
       "      <td>0.0</td>\n",
       "      <td>101.0</td>\n",
       "      <td>134.0</td>\n",
       "    </tr>\n",
       "  </tbody>\n",
       "</table>\n",
       "</div>"
      ],
      "text/plain": [
       "    CC_rate  CC_to_C_rate   CD_rate  CD_to_C_rate  Cooperation_rating  \\\n",
       "0  0.098972      0.157721  0.053265      0.152564            0.152237   \n",
       "1  0.116172      0.225727  0.058414      0.210793            0.174586   \n",
       "2  0.119065      0.184686  0.066946      0.195297            0.186011   \n",
       "3  0.100909      0.148978  0.069618      0.340554            0.170526   \n",
       "4  0.119571      0.184768  0.067466      0.194112            0.187037   \n",
       "\n",
       "    DC_rate  DC_to_C_rate   DD_rate  DD_to_C_rate  Initial_C_rate  \\\n",
       "0  0.550556      0.152024  0.297207      0.150916         0.14350   \n",
       "1  0.533892      0.161021  0.291522      0.154196         0.15025   \n",
       "2  0.523808      0.184778  0.290181      0.184233         0.18450   \n",
       "3  0.533244      0.151465  0.296229      0.160541         0.85475   \n",
       "4  0.523174      0.185247  0.289789      0.186620         0.19350   \n",
       "\n",
       "   Median_score               Name  Rank  Wins     noise  probend  \\\n",
       "0      3.347239  Cooperator Hunter     0  96.0  0.849486      NaN   \n",
       "1      3.307425                $e$     1  94.0  0.849486      NaN   \n",
       "2      3.270746  Hesitant QLearner     2  93.0  0.849486      NaN   \n",
       "3      3.269142   Opposite Grudger     3  94.0  0.849486      NaN   \n",
       "4      3.268843     Risky QLearner     4  93.0  0.849486      NaN   \n",
       "\n",
       "   repetitions  seed   size  turns  \n",
       "0         40.0   0.0  101.0  134.0  \n",
       "1         40.0   0.0  101.0  134.0  \n",
       "2         40.0   0.0  101.0  134.0  \n",
       "3         40.0   0.0  101.0  134.0  \n",
       "4         40.0   0.0  101.0  134.0  "
      ]
     },
     "execution_count": 9,
     "metadata": {},
     "output_type": "execute_result"
    }
   ],
   "source": [
    "df.head()"
   ]
  },
  {
   "cell_type": "code",
   "execution_count": 10,
   "metadata": {},
   "outputs": [
    {
     "data": {
      "text/plain": [
       "195"
      ]
     },
     "execution_count": 10,
     "metadata": {},
     "output_type": "execute_result"
    }
   ],
   "source": [
    "len(strategies_df)"
   ]
  },
  {
   "cell_type": "code",
   "execution_count": 11,
   "metadata": {},
   "outputs": [
    {
     "data": {
      "text/plain": [
       "195"
      ]
     },
     "execution_count": 11,
     "metadata": {},
     "output_type": "execute_result"
    }
   ],
   "source": [
    "len(df['Name'].unique())"
   ]
  },
  {
   "cell_type": "code",
   "execution_count": 12,
   "metadata": {
    "collapsed": true
   },
   "outputs": [],
   "source": [
    "df.to_csv('../data/df.csv')"
   ]
  },
  {
   "cell_type": "code",
   "execution_count": null,
   "metadata": {
    "collapsed": true
   },
   "outputs": [],
   "source": []
  },
  {
   "cell_type": "code",
   "execution_count": null,
   "metadata": {
    "collapsed": true
   },
   "outputs": [],
   "source": []
  },
  {
   "cell_type": "code",
   "execution_count": 73,
   "metadata": {
    "collapsed": true
   },
   "outputs": [],
   "source": [
    "# for strategy_name in strategies_df['Name'].unique():\n",
    "#     for param_name in strategies_with_parameters:\n",
    "#         if strategy_name in param_name:\n",
    "#             strategies_df = strategies_df.append(\n",
    "#                 strategies_df[strategies_df['Name']==strategy_name].replace(to_replace=strategy_name, value=param_name)) "
   ]
  },
  {
   "cell_type": "code",
   "execution_count": 92,
   "metadata": {
    "collapsed": true
   },
   "outputs": [],
   "source": [
    "# strategies_df = strategies_df[strategies_df['Name'].isin(df['Name'].unique())].drop_duplicates('Name')"
   ]
  },
  {
   "cell_type": "code",
   "execution_count": 16,
   "metadata": {},
   "outputs": [
    {
     "name": "stdout",
     "output_type": "stream",
     "text": [
      "CPU times: user 476 ms, sys: 752 ms, total: 1.23 s\n",
      "Wall time: 1.5 s\n"
     ]
    }
   ],
   "source": [
    "%time data_frame = pd.merge(strategies_df,  df, on='Name')"
   ]
  },
  {
   "cell_type": "markdown",
   "metadata": {},
   "source": [
    "The length here differs because of the Names of the strategies. The yml file should have the version of axelrod for which we run the tournament. But this seems to not be the case.\n",
    "**Discuss this.**"
   ]
  },
  {
   "cell_type": "code",
   "execution_count": 97,
   "metadata": {
    "collapsed": true
   },
   "outputs": [],
   "source": [
    "data_frame.to_csv('../data/data_frame.csv')"
   ]
  },
  {
   "cell_type": "code",
   "execution_count": 17,
   "metadata": {},
   "outputs": [
    {
     "data": {
      "text/plain": [
       "(1228904, 850914)"
      ]
     },
     "execution_count": 17,
     "metadata": {},
     "output_type": "execute_result"
    }
   ],
   "source": [
    "len(df), len(data_frame)"
   ]
  },
  {
   "cell_type": "code",
   "execution_count": null,
   "metadata": {
    "collapsed": true
   },
   "outputs": [],
   "source": []
  }
 ],
 "metadata": {
  "anaconda-cloud": {},
  "kernelspec": {
   "display_name": "Python [conda env:axlml]",
   "language": "python",
   "name": "conda-env-axlml-py"
  },
  "language_info": {
   "codemirror_mode": {
    "name": "ipython",
    "version": 3
   },
   "file_extension": ".py",
   "mimetype": "text/x-python",
   "name": "python",
   "nbconvert_exporter": "python",
   "pygments_lexer": "ipython3",
   "version": "3.5.2"
  }
 },
 "nbformat": 4,
 "nbformat_minor": 1
}
