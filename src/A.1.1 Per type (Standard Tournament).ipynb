{
 "cells": [
  {
   "cell_type": "markdown",
   "metadata": {},
   "source": [
    "A.0.1.1 Per type (Standard Tournament)\n",
    "-----------\n",
    "\n",
    "For a given set of players four different type of tournaments have been performed, standard, noisy, probabilistic ending, noisy and probabilistic ending. Because in our experiment computer seed have been used the four tournaments for each seed share same parameters.\n",
    "\n",
    "The same notation as in Section I will be used. Furthermore, here we define the highest cooperation rating in tournament $C^{*}_{r}$, the lowest cooperation rating in tournament  $\\tilde{C_{r}}$, the normalised rank of highest cooperator $\\bar{r_{C}}$, the normalised rank of lowest cooperator $\\bar{r_{D}}$, \n",
    "the mean cooperation rating $\\bar{C_{r}}$ and the median $\\breve{C_{r}}$."
   ]
  },
  {
   "cell_type": "markdown",
   "metadata": {},
   "source": [
    "Each tournament type."
   ]
  },
  {
   "cell_type": "code",
   "execution_count": 1,
   "metadata": {
    "collapsed": true
   },
   "outputs": [],
   "source": [
    "import pandas as pd\n",
    "import matplotlib\n",
    "import matplotlib.pyplot as plt\n",
    "import tools\n",
    "\n",
    "%matplotlib inline"
   ]
  },
  {
   "cell_type": "code",
   "execution_count": 2,
   "metadata": {
    "collapsed": true
   },
   "outputs": [],
   "source": [
    "font = {'weight': 'bold',\n",
    "        'size'   : 10}\n",
    "matplotlib.rc('font', **font)"
   ]
  },
  {
   "cell_type": "markdown",
   "metadata": {},
   "source": [
    "The structure of the analysis will be similar for all tournament types. More specifically we are looking at V sections of analysis. These include:\n",
    "\n",
    "- I. the performance of the highest cooperator\n",
    "    - what was the rank of the person with the $C^{*}_{r}$\n",
    "- II. the performance of the lowest cooperator\n",
    "    - what was the rank of the person with the $\\tilde{C_{r}}$\n",
    "- III. study the cooperating ratio of the winner $C_{W}$\n",
    "    - against the ${C^{*}}_{r}$\n",
    "    - against the $\\tilde{C_{r}}$\n",
    "    - against the $\\bar{C_{r}}$\n",
    "    - against the $\\breve{C_{r}}$\n",
    "- IV. study the cooperating ratio of the looser $C_{L}$\n",
    "    - against the ${C^{*}}_{r}$\n",
    "    - against the $\\tilde{C_{r}}$\n",
    "    - against the $\\bar{C_{r}}$\n",
    "    - against the $\\breve{C_{r}}$\n",
    "- V. the r distribution\n",
    "    - the number of winners that cooperated more than the $r$ times of: \n",
    "        - ${C^{*}}_{r}$\n",
    "        - $\\tilde{C_{r}}$\n",
    "        - $\\bar{C_{r}}$\n",
    "        - $\\breve{C_{r}}$\n"
   ]
  },
  {
   "cell_type": "markdown",
   "metadata": {
    "collapsed": true
   },
   "source": [
    "Standard\n",
    "--------"
   ]
  },
  {
   "cell_type": "code",
   "execution_count": 3,
   "metadata": {
    "collapsed": true
   },
   "outputs": [],
   "source": [
    "df = pd.read_csv('data/df.csv')"
   ]
  },
  {
   "cell_type": "code",
   "execution_count": 4,
   "metadata": {
    "collapsed": true
   },
   "outputs": [],
   "source": [
    "standar_tournaments = df[(df['noise'].isnull()) & (df['probend'].isnull())]"
   ]
  },
  {
   "cell_type": "code",
   "execution_count": 5,
   "metadata": {},
   "outputs": [
    {
     "data": {
      "image/png": "[encoded data removed]",
      "text/plain": [
       "<matplotlib.figure.Figure at 0x7fb438d5dc18>"
      ]
     },
     "metadata": {},
     "output_type": "display_data"
    }
   ],
   "source": [
    "plt.hist(standar_tournaments['Cooperation_rating']);"
   ]
  },
  {
   "cell_type": "code",
   "execution_count": 6,
   "metadata": {},
   "outputs": [
    {
     "data": {
      "image/png": "[encoded data removed]",
      "text/plain": [
       "<matplotlib.figure.Figure at 0x7fb42f58d908>"
      ]
     },
     "metadata": {},
     "output_type": "display_data"
    }
   ],
   "source": [
    "fig, axes = plt.subplots(nrows=2, ncols=2, figsize=(10, 5))\n",
    "\n",
    "fig.suptitle('States', y=1.05)\n",
    "axes[0][0].hist(standar_tournaments['CC_rate'], bins=20); axes[0][0].set_xlabel('CC state')\n",
    "axes[0][1].hist(standar_tournaments['CD_rate'], bins=20); axes[0][1].set_xlabel('CD state')\n",
    "\n",
    "axes[1][0].hist(standar_tournaments['DC_rate'], bins=20); axes[1][0].set_xlabel('DC state')\n",
    "axes[1][1].hist(standar_tournaments['DD_rate'], bins=20); axes[1][1].set_xlabel('DD state')\n",
    "plt.tight_layout()\n",
    "\n",
    "plt.show()"
   ]
  },
  {
   "cell_type": "code",
   "execution_count": null,
   "metadata": {},
   "outputs": [],
   "source": [
    "fig, axes = plt.subplots(nrows=2, ncols=2, figsize=(10, 7))\n",
    "\n",
    "fig.suptitle('States to C', y=1.05)\n",
    "\n",
    "axes[0][0].hist(standar_tournaments['CC_to_C_rate'], bins=20, color='green'); axes[0][0].set_xlabel('CC state', )\n",
    "axes[0][1].hist(standar_tournaments['CD_to_C_rate'], bins=20, color='green'); axes[0][1].set_xlabel('CD state', )\n",
    "\n",
    "axes[1][0].hist(standar_tournaments['DC_to_C_rate'], bins=20, color='green'); axes[1][0].set_xlabel('DC state', )\n",
    "axes[1][1].hist(standar_tournaments['DD_to_C_rate'], bins=20, color='green'); axes[1][1].set_xlabel('DD state',)\n",
    "plt.tight_layout()\n",
    "plt.show()"
   ]
  },
  {
   "cell_type": "code",
   "execution_count": null,
   "metadata": {
    "collapsed": true
   },
   "outputs": [],
   "source": [
    "winners = standar_tournaments[standar_tournaments['Rank'] == 0]"
   ]
  },
  {
   "cell_type": "code",
   "execution_count": null,
   "metadata": {},
   "outputs": [],
   "source": [
    "fig, axes = plt.subplots(nrows=2, ncols=2, figsize=(10, 7))\n",
    "\n",
    "fig.suptitle('States to C', y=1.05)\n",
    "\n",
    "axes[0][0].hist(winners['CC_to_C_rate'], bins=20, color='green'); axes[0][0].set_xlabel('CC state', )\n",
    "axes[0][1].hist(winners['CD_to_C_rate'], bins=20, color='green'); axes[0][1].set_xlabel('CD state', )\n",
    "\n",
    "axes[1][0].hist(winners['DC_to_C_rate'], bins=20, color='green'); axes[1][0].set_xlabel('DC state', )\n",
    "axes[1][1].hist(winners['DD_to_C_rate'], bins=20, color='green'); axes[1][1].set_xlabel('DD state',)\n",
    "plt.tight_layout()\n",
    "plt.show()"
   ]
  },
  {
   "cell_type": "code",
   "execution_count": null,
   "metadata": {
    "collapsed": true
   },
   "outputs": [],
   "source": [
    "losers = standar_tournaments.loc[standar_tournaments.groupby(['seed'], sort=False)['Rank'].idxmax()]"
   ]
  },
  {
   "cell_type": "code",
   "execution_count": null,
   "metadata": {},
   "outputs": [],
   "source": [
    "fig, axes = plt.subplots(nrows=2, ncols=2, figsize=(10, 7))\n",
    "\n",
    "fig.suptitle('States to C', y=1.05)\n",
    "\n",
    "axes[0][0].hist(losers['CC_to_C_rate'], bins=20, color='green'); axes[0][0].set_xlabel('CC state', )\n",
    "axes[0][1].hist(losers['CD_to_C_rate'], bins=20, color='green'); axes[0][1].set_xlabel('CD state', )\n",
    "\n",
    "axes[1][0].hist(losers['DC_to_C_rate'], bins=20, color='green'); axes[1][0].set_xlabel('DC state', )\n",
    "axes[1][1].hist(losers['DD_to_C_rate'], bins=20, color='green'); axes[1][1].set_xlabel('DD state',)\n",
    "plt.tight_layout()\n",
    "plt.show()"
   ]
  },
  {
   "cell_type": "markdown",
   "metadata": {},
   "source": [
    "Fixed data set\n",
    "--------------"
   ]
  },
  {
   "cell_type": "code",
   "execution_count": null,
   "metadata": {
    "collapsed": true
   },
   "outputs": [],
   "source": [
    "df, name = pd.read_csv('data/standar_tournaments.csv'), 'standard'"
   ]
  },
  {
   "cell_type": "code",
   "execution_count": null,
   "metadata": {},
   "outputs": [],
   "source": [
    "df.columns"
   ]
  },
  {
   "cell_type": "code",
   "execution_count": null,
   "metadata": {},
   "outputs": [],
   "source": [
    "df.tail()"
   ]
  },
  {
   "cell_type": "code",
   "execution_count": null,
   "metadata": {},
   "outputs": [],
   "source": [
    "df.tail(10)"
   ]
  },
  {
   "cell_type": "markdown",
   "metadata": {},
   "source": [
    "**I. Highest cooperator**\n",
    "\n",
    "What was the performance of the highest cooperator ?"
   ]
  },
  {
   "cell_type": "code",
   "execution_count": null,
   "metadata": {
    "collapsed": true,
    "scrolled": false
   },
   "outputs": [],
   "source": [
    "# tools.violin_plot(df, 'max coop', 'norm rank C', r'$C^{*}_{r}$', \n",
    "#                   r'$ \\bar{r_{C}}$',  \n",
    "#                   '{} joint plot for higher cooperators and their rank'.format(name))"
   ]
  },
  {
   "cell_type": "markdown",
   "metadata": {},
   "source": [
    "For the standard tournaments what is shown in the two joint plots (above and below), is that:\n",
    "\n",
    "**1. The highest cooperators managed to win only a few tournaments, the most frequenced $\\bar{r}$ was between 0.5 and 0.7**\n",
    "\n",
    "**2. Similar for the least cooperative strategies, they managed to win only a small number of tournaments. And they mainly came last.**"
   ]
  },
  {
   "cell_type": "markdown",
   "metadata": {},
   "source": [
    "**II. Lowest cooperator**"
   ]
  },
  {
   "cell_type": "code",
   "execution_count": null,
   "metadata": {},
   "outputs": [],
   "source": [
    "tools.violin_plot(df, 'min coop', 'norm rank D', r'$\\tilde{C_{r}}$', \n",
    "                  r'$ \\bar{r_{D}}$',  \n",
    "                  '{} joint plot for lowest cooperators and their rank'.format(name))"
   ]
  },
  {
   "cell_type": "markdown",
   "metadata": {},
   "source": [
    "**III. Winners of the tournaments**\n",
    "\n",
    "What can we tell about the cooperating ratio of the winner $C_{W}$, compared to their enviroment?"
   ]
  },
  {
   "cell_type": "code",
   "execution_count": null,
   "metadata": {},
   "outputs": [],
   "source": [
    "# winner vs max coop\n",
    "tools.violin_plot(df, 'max coop','winner coop', r'$C^{*}_{r}$', r'$C_{W}$',   \n",
    "                  '{} joint plot for winners coop against the max coop'.format(name), size=10)"
   ]
  },
  {
   "cell_type": "markdown",
   "metadata": {},
   "source": [
    "From the two joint plots we can tell the following things. \n",
    "\n",
    "**1. The have been winners, in the standard tournaments, when the players has been both the most and the least cooperative. Though, there seem to be more point in the straight line for when the player has been the least cooperative. Overall, the winner seem to be having a $C_{r}$ of 0.6.** \n",
    "\n",
    "**2. and when the winner had a $C_{r}$ of 0.6, in the tournament there have been full cooperators ($C_{r}=1$) and defectors ($C_{r}=0.0$)**"
   ]
  },
  {
   "cell_type": "code",
   "execution_count": null,
   "metadata": {},
   "outputs": [],
   "source": [
    "# winner vs min coop\n",
    "tools.violin_plot(df, 'min coop','winner coop', r'$\\tilde{C_{r}}$', \n",
    "                  r'$C_{W}$',  \n",
    "                  '{} joint plot for winners coop against the min coop'.format(name))"
   ]
  },
  {
   "cell_type": "code",
   "execution_count": null,
   "metadata": {},
   "outputs": [],
   "source": [
    "# winner vs mean coop\n",
    "tools.violin_plot(df, 'mean coop','winner coop', r'$\\bar{C_{r}}$', \n",
    "                  r'$C_{W}$',  \n",
    "                  '{} joint plot for winners coop against the mean coop'.format(name))"
   ]
  },
  {
   "cell_type": "markdown",
   "metadata": {},
   "source": [
    "**Both the mean and median plot show that our results above hold when the enviroment of our standard tournaments has been a bit more than 0.5 ($\\simeq 0.6$).**"
   ]
  },
  {
   "cell_type": "code",
   "execution_count": null,
   "metadata": {},
   "outputs": [],
   "source": [
    "# winner vs median coop\n",
    "tools.violin_plot(df, 'median coop','winner coop', r'$\\breve{C_{r}}$', \n",
    "                  r'$C_{W}$',  \n",
    "                  '{} joint plot for winners coop against the mean coop'.format(name))"
   ]
  },
  {
   "cell_type": "markdown",
   "metadata": {},
   "source": [
    "**IV. The losers**\n",
    "\n",
    "What can we tell about the cooperating ratio of the loser $C_{L}$, compared to their enviroment?"
   ]
  },
  {
   "cell_type": "code",
   "execution_count": null,
   "metadata": {},
   "outputs": [],
   "source": [
    "# loser vs max coop\n",
    "tools.violin_plot(df, 'max coop','loser coop', r'$C^{*}_{r}$', r'$C_{L}$',   \n",
    "                  '{} joint plot for losers coop against the max coop'.format(name))"
   ]
  },
  {
   "cell_type": "markdown",
   "metadata": {},
   "source": [
    "For our losers, in the standard tournaments, we can see as well that they have been **1. both the most and the least cooperative players for a number of tournaments.**\n",
    "\n",
    "But overall **2. our losers have had mainly a $C_{r}$ of 0.8.**"
   ]
  },
  {
   "cell_type": "code",
   "execution_count": null,
   "metadata": {},
   "outputs": [],
   "source": [
    "# loser vs min coop\n",
    "tools.violin_plot(df, 'min coop','loser coop', r'$\\tilde{C_{r}}$', \n",
    "                  r'$C_{L}$',  \n",
    "                  '{} joint plot for loser coop against the min coop'.format(name))"
   ]
  },
  {
   "cell_type": "code",
   "execution_count": null,
   "metadata": {},
   "outputs": [],
   "source": [
    "# loser vs mean coop\n",
    "tools.violin_plot(df, 'mean coop','loser coop', r'$\\bar{C_{r}}$', \n",
    "                  r'$C_{L}$',  \n",
    "                  '{} joint plot for losers coop against the mean coop'.format(name))"
   ]
  },
  {
   "cell_type": "code",
   "execution_count": null,
   "metadata": {},
   "outputs": [],
   "source": [
    "# loser vs median coop\n",
    "tools.violin_plot(df, 'median coop','loser coop', r'$\\breve{C_{r}}$', \n",
    "                  r'$C_{L}$',  \n",
    "                  '{} joint plot for losers coop against the mean coop'.format(name))"
   ]
  },
  {
   "cell_type": "markdown",
   "metadata": {},
   "source": [
    "**V. $r$ distribution**"
   ]
  },
  {
   "cell_type": "markdown",
   "metadata": {},
   "source": [
    "What is the $r-$ distribution?\n",
    "\n",
    "The $r-$ distribution is plotting the number of times the winner had a $C_{W}$ greater than the $r \\times x$.\n",
    "\n",
    "for $x$ is $C^{*}, \\tilde{C}, \\bar{C}, \\breve{C}$"
   ]
  },
  {
   "cell_type": "markdown",
   "metadata": {},
   "source": [
    "The following plot is showing the following:\n",
    "    \n",
    "- The winner always had greater $C$ than the most defector\n",
    "- In a standard tournament you would want to be just a bit more cooperative than the half $C$ of the $C^{*}$\n",
    "- when you are just a bit less cooperative ($\\simeq 0.8$) than the mean/median $C$. "
   ]
  },
  {
   "cell_type": "code",
   "execution_count": null,
   "metadata": {},
   "outputs": [],
   "source": [
    "tools.r_distribution(df['winner coop'], df['max coop'], df['min coop'], df['mean coop'], \n",
    "                     df['median coop'], title='$r-$ distribution for {} tournaments'.format(name))"
   ]
  },
  {
   "cell_type": "code",
   "execution_count": null,
   "metadata": {},
   "outputs": [],
   "source": [
    "df.head()"
   ]
  },
  {
   "cell_type": "code",
   "execution_count": null,
   "metadata": {
    "collapsed": true
   },
   "outputs": [],
   "source": []
  }
 ],
 "metadata": {
  "anaconda-cloud": {},
  "kernelspec": {
   "display_name": "Python [conda env:axlml]",
   "language": "python",
   "name": "conda-env-axlml-py"
  },
  "language_info": {
   "codemirror_mode": {
    "name": "ipython",
    "version": 3
   },
   "file_extension": ".py",
   "mimetype": "text/x-python",
   "name": "python",
   "nbconvert_exporter": "python",
   "pygments_lexer": "ipython3",
   "version": "3.5.2"
  }
 },
 "nbformat": 4,
 "nbformat_minor": 1
}
