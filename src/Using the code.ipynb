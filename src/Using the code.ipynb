{
 "cells": [
  {
   "cell_type": "markdown",
   "metadata": {},
   "source": [
    "Using the code\n",
    "--------------\n",
    "\n",
    "In the following notebook we create our data set. \n",
    "\n",
    "1. The parameters data set is created\n",
    "2. For each row retrieve the corresponding data sets (noise, probend, standard etc)\n",
    "3. Get a data set with all the strategies of the axelrod python library\n",
    "4. Merge them together\n",
    "5. Write to file\n",
    "\n",
    "The following could have been implemented in the script but it was done here so we could time the process. "
   ]
  },
  {
   "cell_type": "code",
   "execution_count": 1,
   "metadata": {
    "collapsed": true
   },
   "outputs": [],
   "source": [
    "import pandas as pd\n",
    "import axelrod\n",
    "import read_in"
   ]
  },
  {
   "cell_type": "code",
   "execution_count": 2,
   "metadata": {},
   "outputs": [
    {
     "data": {
      "text/plain": [
       "'3.7.0'"
      ]
     },
     "execution_count": 2,
     "metadata": {},
     "output_type": "execute_result"
    }
   ],
   "source": [
    "axelrod.__version__"
   ]
  },
  {
   "cell_type": "code",
   "execution_count": 3,
   "metadata": {
    "collapsed": true
   },
   "outputs": [],
   "source": [
    "directory = \"/home/nightwing/data/Thousand_tournaments/\""
   ]
  },
  {
   "cell_type": "code",
   "execution_count": 16,
   "metadata": {},
   "outputs": [
    {
     "name": "stdout",
     "output_type": "stream",
     "text": [
      "CPU times: user 884 ms, sys: 72 ms, total: 956 ms\n",
      "Wall time: 1.02 s\n"
     ]
    }
   ],
   "source": [
    "%time parameters_df = read_in.parameters_data_frame(directory)"
   ]
  },
  {
   "cell_type": "code",
   "execution_count": 4,
   "metadata": {},
   "outputs": [
    {
     "name": "stdout",
     "output_type": "stream",
     "text": [
      "CPU times: user 2.84 s, sys: 12 ms, total: 2.85 s\n",
      "Wall time: 2.84 s\n"
     ]
    }
   ],
   "source": [
    "%time strategies_df = read_in.strategies_properties()"
   ]
  },
  {
   "cell_type": "code",
   "execution_count": 9,
   "metadata": {},
   "outputs": [
    {
     "name": "stdout",
     "output_type": "stream",
     "text": [
      "CPU times: user 3min 43s, sys: 10.8 s, total: 3min 54s\n",
      "Wall time: 4min 9s\n"
     ]
    }
   ],
   "source": [
    "%time df = read_in.reading_in_data(parameters_df, directory)"
   ]
  },
  {
   "cell_type": "code",
   "execution_count": null,
   "metadata": {
    "collapsed": true
   },
   "outputs": [],
   "source": [
    "df = df[~df.Name.str.contains('Slow Tit For Two Tats')]"
   ]
  },
  {
   "cell_type": "code",
   "execution_count": 10,
   "metadata": {},
   "outputs": [],
   "source": [
    "#df.to_csv('df.csv')"
   ]
  },
  {
   "cell_type": "code",
   "execution_count": 5,
   "metadata": {
    "collapsed": true
   },
   "outputs": [],
   "source": [
    "df = pd.read_csv('df.csv')"
   ]
  },
  {
   "cell_type": "code",
   "execution_count": 73,
   "metadata": {},
   "outputs": [],
   "source": [
    "# for strategy_name in strategies_df['Name'].unique():\n",
    "#     for param_name in strategies_with_parameters:\n",
    "#         if strategy_name in param_name:\n",
    "#             strategies_df = strategies_df.append(\n",
    "#                 strategies_df[strategies_df['Name']==strategy_name].replace(to_replace=strategy_name, value=param_name)) "
   ]
  },
  {
   "cell_type": "code",
   "execution_count": 92,
   "metadata": {
    "collapsed": true
   },
   "outputs": [],
   "source": [
    "# strategies_df = strategies_df[strategies_df['Name'].isin(df['Name'].unique())].drop_duplicates('Name')"
   ]
  },
  {
   "cell_type": "code",
   "execution_count": 93,
   "metadata": {},
   "outputs": [
    {
     "name": "stdout",
     "output_type": "stream",
     "text": [
      "CPU times: user 1.76 s, sys: 736 ms, total: 2.5 s\n",
      "Wall time: 2.69 s\n"
     ]
    }
   ],
   "source": [
    "%time data_frame = pd.merge(strategies_df,  df, on='Name')"
   ]
  },
  {
   "cell_type": "markdown",
   "metadata": {},
   "source": [
    "The length here differs because of the Names of the strategies. The yml file should have the version of axelrod for which we run the tournament. But this seems to not be the case.\n",
    "**Discuss this.**"
   ]
  },
  {
   "cell_type": "code",
   "execution_count": 97,
   "metadata": {},
   "outputs": [],
   "source": [
    "data_frame.to_csv('../data/data_frame.csv')"
   ]
  },
  {
   "cell_type": "code",
   "execution_count": 94,
   "metadata": {},
   "outputs": [
    {
     "data": {
      "text/plain": [
       "(3457082, 3439164)"
      ]
     },
     "execution_count": 94,
     "metadata": {},
     "output_type": "execute_result"
    }
   ],
   "source": [
    "len(df), len(data_frame)"
   ]
  }
 ],
 "metadata": {
  "anaconda-cloud": {},
  "kernelspec": {
   "display_name": "Python [conda env:axlml]",
   "language": "python",
   "name": "conda-env-axlml-py"
  },
  "language_info": {
   "codemirror_mode": {
    "name": "ipython",
    "version": 3
   },
   "file_extension": ".py",
   "mimetype": "text/x-python",
   "name": "python",
   "nbconvert_exporter": "python",
   "pygments_lexer": "ipython3",
   "version": "3.5.2"
  }
 },
 "nbformat": 4,
 "nbformat_minor": 1
}
