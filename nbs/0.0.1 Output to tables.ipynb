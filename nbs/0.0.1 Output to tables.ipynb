{
 "cells": [
  {
   "cell_type": "code",
   "execution_count": 1,
   "metadata": {},
   "outputs": [],
   "source": [
    "features_labels = {\n",
    "    \"CC_to_C_rate\": \"$CC$ to $C$ rate\",\n",
    "    \"CD_to_C_rate\": \"$CD$ to $C$ rate\",\n",
    "    \"DC_to_C_rate\": \"$DC$ to $C$ rate\",\n",
    "    \"DD_to_C_rate\": \"$DD$ to $C$ rate\",\n",
    "    \"SSE\": \"SSE\",\n",
    "    \"Makes_use_of_game\": \"Make use of game\",\n",
    "    \"Makes_use_of_length\": \"Make use of length\",\n",
    "    \"Stochastic\": \"stochastic\",\n",
    "    \"Cooperation_rating\": \"$C_r$\",\n",
    "    \"Cooperation_rating_max\": \"$C_{max}$\",\n",
    "    \"Cooperation_rating_min\": \"$C_{min}$\",\n",
    "    \"Cooperation_rating_median\": \"$C_{median}$\",\n",
    "    \"Cooperation_rating_mean\": \"$C_{mean}$\",\n",
    "    \"Cooperation_rating_comp_to_max\": \"$C_r$ / $C_{max}$ \",\n",
    "    \"Cooperation_rating_comp_to_min\": \"$C_r$ / $C_{min}$\",\n",
    "    \"Cooperation_rating_comp_to_median\": \"$C_r$ / $C_{median}$\",\n",
    "    \"Cooperation_rating_comp_to_mean\": \"$C_r$ / $C_{mean}$\",\n",
    "    \"turns\": \"$n$\",\n",
    "    \"noise\": \"$p$\",\n",
    "    \"probend\": \"$e$\"\n",
    "}"
   ]
  },
  {
   "cell_type": "code",
   "execution_count": 2,
   "metadata": {},
   "outputs": [],
   "source": [
    "import pandas as pd"
   ]
  },
  {
   "cell_type": "code",
   "execution_count": 3,
   "metadata": {},
   "outputs": [],
   "source": [
    "def string_to_dataframe(importance_string, interpreter_string, features_labels=features_labels):\n",
    "    importance_string = importance_string.split('\\n')\n",
    "    interpreter_string = interpreter_string.split('\\n')\n",
    "    \n",
    "    seperated_importance = [string.split(' ') for string in importance_string]\n",
    "    \n",
    "    importance = {}\n",
    "    for string in seperated_importance:\n",
    "        label = features_labels[string[3]]\n",
    "        importance[label] = float(string[4].replace('(', '').replace(')', ''))\n",
    "        \n",
    "    df = pd.DataFrame(importance.values(), index=importance.keys(), columns=['importance'])\n",
    "    \n",
    "    \n",
    "    seperate_interpreter = [string.split(' ') for string in interpreter_string]\n",
    "    n_values = len(seperate_interpreter[0][2].split(','))\n",
    "    \n",
    "    interpreter = {}\n",
    "    for string in seperate_interpreter:\n",
    "        label = features_labels[string[1]]\n",
    "        interpreter[label] = [float(s.replace('(', '').replace(')', '')) for s in string[2].split(',')]\n",
    "\n",
    "    for i in range(n_values):\n",
    "        df['cluster %s' % (i + 1)] = [interpreter[index][i] for index in df.index]\n",
    "\n",
    "    return df.sort_values(by=['importance'], ascending=False)"
   ]
  },
  {
   "cell_type": "markdown",
   "metadata": {},
   "source": [
    "**standard**"
   ]
  },
  {
   "cell_type": "code",
   "execution_count": 4,
   "metadata": {},
   "outputs": [],
   "source": [
    "std_string = \"\"\"Feature CC_to_C_rate (-9.110785936610319e-05,9.110785936609432e-05) \n",
    "Feature Cooperation_rating_comp_to_min (-2.2397482089641633e-05,2.2397482089641325e-05) \n",
    "Feature Cooperation_rating_min (-3.734474876391745e-05,3.734474876391773e-05) \n",
    "Feature Cooperation_rating_mean (-3.0903373046959824e-05,3.0903373046966045e-05) \n",
    "Feature Makes_use_of_length (-1.634554410016498e-05,1.634554410016278e-05) \n",
    "Feature Cooperation_rating_comp_to_max (2.776858728811475e-05,-2.7768587288111408e-05) \n",
    "Feature Cooperation_rating_max (3.271389011141339e-05,-3.271389011141294e-05) \n",
    "Feature CD_to_C_rate (0.00027663495834549,-0.00027663495834548695) \n",
    "Feature turns (-0.0001592354460578839,0.00015923544605788274) \n",
    "Feature Cooperation_rating_comp_to_median (0.0003460205168903749,-0.0003460205168903915) \n",
    "Feature Stochastic (-6.408505317207419e-05,6.408505317207622e-05) \n",
    "Feature Cooperation_rating (8.763763041954461e-05,-8.763763041953096e-05) \n",
    "Feature SSE (-0.00031709149348213106,0.00031709149348213106) \n",
    "Feature Cooperation_rating_median (2.7925789294798433e-05,-2.7925789294801956e-05) \n",
    "Feature DD_to_C_rate (6.237718184706218e-05,-6.237718184705811e-05) \n",
    "Feature Cooperation_rating_comp_to_mean (-0.00011150282550043876,0.00011150282550044775) \n",
    "Feature Makes_use_of_game (-2.306252809262154e-06,2.306252809264154e-06) \n",
    "Feature DC_to_C_rate (-0.00032063149754870996,0.00032063149754870014) \"\"\""
   ]
  },
  {
   "cell_type": "code",
   "execution_count": 5,
   "metadata": {},
   "outputs": [],
   "source": [
    "std_importance = \"\"\"1. feature 16: Cooperation_rating_comp_to_mean (0.170318) \n",
    "2. feature 4: SSE (0.163466) \n",
    "3. feature 15: Cooperation_rating_comp_to_median (0.159947) \n",
    "4. feature 1: CD_to_C_rate (0.132096) \n",
    "5. feature 13: Cooperation_rating_comp_to_max (0.072897) \n",
    "6. feature 0: CC_to_C_rate (0.072634) \n",
    "7. feature 8: Cooperation_rating (0.063826) \n",
    "8. feature 3: DD_to_C_rate (0.050942) \n",
    "9. feature 2: DC_to_C_rate (0.042803) \n",
    "10. feature 17: turns (0.021574) \n",
    "11. feature 11: Cooperation_rating_median (0.015318) \n",
    "12. feature 12: Cooperation_rating_mean (0.010065) \n",
    "13. feature 7: Stochastic (0.004977) \n",
    "14. feature 14: Cooperation_rating_comp_to_min (0.004783) \n",
    "15. feature 5: Makes_use_of_game (0.003964) \n",
    "16. feature 9: Cooperation_rating_max (0.003928) \n",
    "17. feature 10: Cooperation_rating_min (0.003700) \n",
    "18. feature 6: Makes_use_of_length (0.002762) \"\"\""
   ]
  },
  {
   "cell_type": "code",
   "execution_count": 6,
   "metadata": {},
   "outputs": [],
   "source": [
    "std = string_to_dataframe(std_importance, std_string, features_labels=features_labels)"
   ]
  },
  {
   "cell_type": "code",
   "execution_count": 10,
   "metadata": {},
   "outputs": [],
   "source": [
    "std = std.sort_values(['cluster 2'], ascending=False)"
   ]
  },
  {
   "cell_type": "code",
   "execution_count": 11,
   "metadata": {},
   "outputs": [],
   "source": [
    "textfile = open('../paper/tree_interpreter_std.tex', 'w')\n",
    "textfile.write(std.to_latex().replace('\\$', '$').replace('\\_', '_').replace('\\{', '{').replace('\\}', '}'))\n",
    "textfile.close()"
   ]
  },
  {
   "cell_type": "markdown",
   "metadata": {},
   "source": [
    "**noise**"
   ]
  },
  {
   "cell_type": "code",
   "execution_count": 12,
   "metadata": {},
   "outputs": [],
   "source": [
    "noise_string = \"\"\"Feature Cooperation_rating_comp_to_max (7.911208753729139e-05,-0.00016273790432388822,8.36258167865632e-05) \n",
    "Feature turns (-1.9266280764224178e-05,-2.3056375239038254e-05,4.2322656003264865e-05) \n",
    "Feature Cooperation_rating_mean (7.31506763051803e-05,1.8224881467898005e-05,-9.137555777307832e-05) \n",
    "Feature Cooperation_rating (0.00014543422787561877,-0.00013565964551773385,-9.774582357886366e-06) \n",
    "Feature Cooperation_rating_min (8.93941242954445e-05,-5.0398495651011846e-05,-3.8995628644426515e-05) \n",
    "Feature SSE (-2.0251798215303103e-05,-2.8372473184154127e-05,4.8624271399482925e-05) \n",
    "Feature Cooperation_rating_max (6.398979482544094e-05,-7.014521297995422e-05,6.155418154500324e-06) \n",
    "Feature Makes_use_of_game (4.566206464217333e-05,-3.472481522152727e-05,-1.0937249420645257e-05) \n",
    "Feature CC_to_C_rate (5.423711304967463e-05,1.071153577570789e-05,-6.494864882537428e-05) \n",
    "Feature Cooperation_rating_comp_to_mean (-0.00025309244538049915,8.431109194964561e-05,0.00016878135343082948) \n",
    "Feature Cooperation_rating_comp_to_min (2.959008537808679e-05,-3.397646722826486e-05,4.3863818501859865e-06) \n",
    "Feature CD_to_C_rate (0.00012951697664398266,8.250462408475365e-06,-0.0001377674390524468) \n",
    "Feature noise (3.626813613148434e-06,-8.105062328269461e-05,7.742380966954428e-05) \n",
    "Feature Stochastic (1.2571014487794403e-05,-1.3740556341294001e-05,1.169541853499842e-06) \n",
    "Feature Cooperation_rating_comp_to_median (0.0002897528587758612,-0.00043925673750652553,0.00014950387873065947) \n",
    "Feature DC_to_C_rate (-0.00041657228600404465,0.0004076732054220693,8.899080581980918e-06) \n",
    "Feature Makes_use_of_length (3.6022678895231016e-05,4.233052176130216e-05,-7.835320065653346e-05) \n",
    "Feature Cooperation_rating_median (4.941209701563696e-05,-0.00013812962878685084,8.871753177123363e-05) \n",
    "Feature DD_to_C_rate (-9.773313067082099e-05,6.257537858155746e-05,3.515775208926696e-05)\"\"\""
   ]
  },
  {
   "cell_type": "code",
   "execution_count": 13,
   "metadata": {},
   "outputs": [],
   "source": [
    "noise_importance = \"\"\"1. feature 16: Cooperation_rating_comp_to_mean (0.210042) \n",
    "2. feature 15: Cooperation_rating_comp_to_median (0.192221) \n",
    "3. feature 2: DC_to_C_rate (0.102953) \n",
    "4. feature 17: noise (0.078307) \n",
    "5. feature 13: Cooperation_rating_comp_to_max (0.067818) \n",
    "6. feature 4: SSE (0.052139) \n",
    "7. feature 3: DD_to_C_rate (0.045927) \n",
    "8. feature 8: Cooperation_rating (0.039795) \n",
    "9. feature 11: Cooperation_rating_median (0.038062) \n",
    "10. feature 0: CC_to_C_rate (0.031041) \n",
    "11. feature 12: Cooperation_rating_mean (0.030814) \n",
    "12. feature 1: CD_to_C_rate (0.030002) \n",
    "13. feature 14: Cooperation_rating_comp_to_min (0.021302) \n",
    "14. feature 10: Cooperation_rating_min (0.018225) \n",
    "15. feature 9: Cooperation_rating_max (0.015088) \n",
    "16. feature 18: turns (0.013999) \n",
    "17. feature 6: Makes_use_of_length (0.006853) \n",
    "18. feature 7: Stochastic (0.003666) \n",
    "19. feature 5: Makes_use_of_game (0.001748)\"\"\""
   ]
  },
  {
   "cell_type": "code",
   "execution_count": 14,
   "metadata": {},
   "outputs": [],
   "source": [
    "noise = string_to_dataframe(noise_importance, noise_string, features_labels=features_labels)"
   ]
  },
  {
   "cell_type": "code",
   "execution_count": 19,
   "metadata": {},
   "outputs": [],
   "source": [
    "noise = noise.round(5).sort_values(['cluster 3'], ascending=False)"
   ]
  },
  {
   "cell_type": "code",
   "execution_count": 20,
   "metadata": {},
   "outputs": [],
   "source": [
    "textfile = open('../paper/tree_interpreter_noise.tex', 'w')\n",
    "textfile.write(noise.to_latex().replace('\\$', '$').replace('\\_', '_').replace('\\{', '{').replace('\\}', '}'))\n",
    "textfile.close()"
   ]
  },
  {
   "cell_type": "markdown",
   "metadata": {},
   "source": [
    "**probend**"
   ]
  },
  {
   "cell_type": "code",
   "execution_count": 6,
   "metadata": {},
   "outputs": [],
   "source": [
    "probend_string = \"\"\"Feature Cooperation_rating_comp_to_max (-0.00018223406315573312,0.00018223406315572658) \n",
    "Feature Cooperation_rating_mean (8.860361221436482e-05,-8.860361221436458e-05) \n",
    "Feature Cooperation_rating_min (-1.6509911633067613e-05,1.6509911633067203e-05) \n",
    "Feature SSE (-4.926424550630194e-05,4.926424550630864e-05) \n",
    "Feature DC_to_C_rate (-0.00023769502672472284,0.00023769502672471205) \n",
    "Feature Cooperation_rating_comp_to_mean (0.00030256447689577657,-0.0003025644768958106) \n",
    "Feature Cooperation_rating_comp_to_median (-0.00023700725224595382,0.00023700725224595504) \n",
    "Feature CD_to_C_rate (4.938616160113462e-05,-4.938616160113325e-05) \n",
    "Feature Makes_use_of_game (8.264413457259129e-05,-8.264413457259294e-05) \n",
    "Feature Cooperation_rating_median (-7.932075320096616e-05,7.9320753200965e-05) \n",
    "Feature Makes_use_of_length (0.00010980506584169082,-0.00010980506584169039) \n",
    "Feature Stochastic (-8.509874198426976e-07,8.509874198437184e-07) \n",
    "Feature DD_to_C_rate (-3.7960161133949204e-05,3.7960161133948784e-05) \n",
    "Feature Cooperation_rating_max (-1.1281180203797799e-05,1.1281180203800535e-05) \n",
    "Feature Cooperation_rating_comp_to_min (4.730449823424091e-06,-4.7304498234328275e-06) \n",
    "Feature probend (0.000166862664320531,-0.00016686266432052696) \n",
    "Feature CC_to_C_rate (3.4322783239223825e-05,-3.432278323922561e-05) \n",
    "Feature Cooperation_rating (0.00031771214395055736,-0.000317712143950555) \"\"\""
   ]
  },
  {
   "cell_type": "code",
   "execution_count": 14,
   "metadata": {},
   "outputs": [],
   "source": [
    "probend_importance = \"\"\"1. feature 15: Cooperation_rating_comp_to_median (0.236815) \n",
    "2. feature 16: Cooperation_rating_comp_to_mean (0.205196) \n",
    "3. feature 13: Cooperation_rating_comp_to_max (0.174087) \n",
    "4. feature 11: Cooperation_rating_median (0.076008) \n",
    "5. feature 8: Cooperation_rating (0.075681) \n",
    "6. feature 17: probend (0.058974) \n",
    "7. feature 0: CC_to_C_rate (0.034741) \n",
    "8. feature 12: Cooperation_rating_mean (0.030948) \n",
    "9. feature 5: Makes_use_of_game (0.027132) \n",
    "10. feature 1: CD_to_C_rate (0.019163) \n",
    "11. feature 4: SSE (0.014754) \n",
    "12. feature 2: DC_to_C_rate (0.014604) \n",
    "13. feature 6: Makes_use_of_length (0.010730) \n",
    "14. feature 3: DD_to_C_rate (0.009583) \n",
    "15. feature 7: Stochastic (0.005788) \n",
    "16. feature 10: Cooperation_rating_min (0.002475) \n",
    "17. feature 14: Cooperation_rating_comp_to_min (0.002376) \n",
    "18. feature 9: Cooperation_rating_max (0.000944)\"\"\""
   ]
  },
  {
   "cell_type": "code",
   "execution_count": 15,
   "metadata": {},
   "outputs": [],
   "source": [
    "probend = string_to_dataframe(probend_importance, probend_string,)"
   ]
  },
  {
   "cell_type": "code",
   "execution_count": 20,
   "metadata": {},
   "outputs": [],
   "source": [
    "probend = probend.round(5)"
   ]
  },
  {
   "cell_type": "code",
   "execution_count": 21,
   "metadata": {},
   "outputs": [],
   "source": [
    "textfile = open('../paper/tree_interpreter_probend.tex', 'w')\n",
    "textfile.write(probend.to_latex().replace('\\$', '$').replace('\\_', '_').replace('\\{', '{').replace('\\}', '}'))\n",
    "textfile.close()"
   ]
  },
  {
   "cell_type": "markdown",
   "metadata": {},
   "source": [
    "**probend noise**"
   ]
  },
  {
   "cell_type": "code",
   "execution_count": 158,
   "metadata": {},
   "outputs": [],
   "source": [
    "probend_noise_importance = \"\"\"1. feature 15: Cooperation_rating_comp_to_median (0.236865) \n",
    "2. feature 16: Cooperation_rating_comp_to_mean (0.138441) \n",
    "3. feature 12: Cooperation_rating_mean (0.064621) \n",
    "4. feature 11: Cooperation_rating_median (0.059323) \n",
    "5. feature 8: Cooperation_rating (0.056939) \n",
    "6. feature 13: Cooperation_rating_comp_to_max (0.050807) \n",
    "7. feature 3: DD_to_C_rate (0.050716) \n",
    "8. feature 18: noise (0.049575) \n",
    "9. feature 2: DC_to_C_rate (0.049460) \n",
    "10. feature 1: CD_to_C_rate (0.047668) \n",
    "11. feature 4: SSE (0.041639) \n",
    "12. feature 0: CC_to_C_rate (0.035869) \n",
    "13. feature 14: Cooperation_rating_comp_to_min (0.034868) \n",
    "14. feature 17: probend (0.030100) \n",
    "15. feature 10: Cooperation_rating_min (0.020051) \n",
    "16. feature 9: Cooperation_rating_max (0.018969) \n",
    "17. feature 7: Stochastic (0.004813) \n",
    "18. feature 5: Makes_use_of_game (0.004732) \n",
    "19. feature 6: Makes_use_of_length (0.004544) \"\"\""
   ]
  },
  {
   "cell_type": "code",
   "execution_count": 161,
   "metadata": {},
   "outputs": [],
   "source": [
    "probend_noise_string = \"\"\"Feature Cooperation_rating_mean (0.0003974770113787899,-0.00016988674545496062,5.160774642001981e-05,-0.00027919801234385086) \n",
    "Feature DC_to_C_rate (0.0004171394574735625,-4.9731267830766444e-05,2.62621156905265e-06,-0.00037003440121184303) \n",
    "Feature Cooperation_rating_min (0.00013775169627478035,-6.197036787312956e-05,8.852401582273175e-07,-7.666656855987476e-05) \n",
    "Feature CC_to_C_rate (5.4772749428511656e-05,-1.6738754409078188e-05,3.896894085912388e-06,-4.193088910534186e-05) \n",
    "Feature Stochastic (-5.197178012445056e-05,-2.684676415554764e-06,-1.0004118959206483e-05,6.466057549920856e-05) \n",
    "Feature noise (-2.997418531064465e-05,-3.0079767851248646e-05,-5.9735460043373204e-05,0.00011978941320527551) \n",
    "Feature DD_to_C_rate (0.00010180014653227784,2.9568711534574464e-05,-2.297378313176514e-05,-0.000108395074935096) \n",
    "Feature Makes_use_of_length (-4.8324062643353565e-05,2.5332875073501844e-05,8.208843545844538e-06,1.4782344024009164e-05) \n",
    "Feature Cooperation_rating_comp_to_max (0.00016348115228030804,-3.7520315997450144e-05,8.81729446978767e-06,-0.00013477813075263404) \n",
    "Feature CD_to_C_rate (0.00014682789821499103,-3.825490908434591e-05,-0.00010025070874974742,-8.322280380904208e-06) \n",
    "Feature SSE (-3.831315341254034e-05,-2.581235208131556e-05,-3.224090106277963e-05,9.636640655665707e-05) \n",
    "Feature Cooperation_rating_max (-0.000125245751413186,-1.209600823971652e-05,-4.974219802907827e-05,0.00018708395768197845) \n",
    "Feature Cooperation_rating_comp_to_min (0.0001985312202619508,-4.0685447039992454e-05,-0.00011696881303343388,-4.087696018852226e-05) \n",
    "Feature Cooperation_rating_comp_to_mean (0.00015649500462272024,0.00010535916873307002,-1.1766950397202456e-05,-0.0002500872229585883) \n",
    "Feature Cooperation_rating_median (-0.00012087009275540358,-5.029006896836464e-06,7.426525293083274e-05,5.163384672139909e-05) \n",
    "Feature Cooperation_rating (0.00022791764047062226,-2.547884391343503e-05,-0.00018118520664995357,-2.1253589907238307e-05) \n",
    "Feature probend (0.0002219820465969925,-0.00015421733374800474,3.0498960796539087e-06,-7.081460892865563e-05) \n",
    "Feature Makes_use_of_game (7.162041975772883e-05,-1.0636354218699805e-06,5.14170605590139e-06,-7.569849039175958e-05) \n",
    "Feature Cooperation_rating_comp_to_median (-6.599143693901817e-05,-0.00026321771177886463,9.001717893277873e-05,0.00023919196978510924) \"\"\""
   ]
  },
  {
   "cell_type": "code",
   "execution_count": 162,
   "metadata": {},
   "outputs": [],
   "source": [
    "probend_noise = string_to_dataframe(probend_noise_importance, probend_noise_string)"
   ]
  },
  {
   "cell_type": "code",
   "execution_count": 164,
   "metadata": {},
   "outputs": [],
   "source": [
    "textfile = open('../paper/tree_interpreter_probend_noise.tex', 'w')\n",
    "textfile.write(probend_noise.to_latex().replace('\\$', '$').replace('\\_', '_').replace('\\{', '{').replace('\\}', '}'))\n",
    "textfile.close()"
   ]
  },
  {
   "cell_type": "code",
   "execution_count": null,
   "metadata": {},
   "outputs": [],
   "source": []
  }
 ],
 "metadata": {
  "kernelspec": {
   "display_name": "axlml",
   "language": "python",
   "name": "axlml"
  },
  "language_info": {
   "codemirror_mode": {
    "name": "ipython",
    "version": 3
   },
   "file_extension": ".py",
   "mimetype": "text/x-python",
   "name": "python",
   "nbconvert_exporter": "python",
   "pygments_lexer": "ipython3",
   "version": "3.6.7"
  }
 },
 "nbformat": 4,
 "nbformat_minor": 2
}
