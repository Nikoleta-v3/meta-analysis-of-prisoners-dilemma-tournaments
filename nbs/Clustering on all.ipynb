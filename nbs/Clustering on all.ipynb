{
 "cells": [
  {
   "cell_type": "code",
   "execution_count": 1,
   "metadata": {},
   "outputs": [],
   "source": [
    "import dask.dataframe as dd\n",
    "import pandas as pd\n",
    "\n",
    "import dask_ml.cluster"
   ]
  },
  {
   "cell_type": "code",
   "execution_count": 2,
   "metadata": {},
   "outputs": [],
   "source": [
    "import matplotlib.pyplot as plt"
   ]
  },
  {
   "cell_type": "code",
   "execution_count": 3,
   "metadata": {},
   "outputs": [],
   "source": [
    "import itertools"
   ]
  },
  {
   "cell_type": "code",
   "execution_count": 4,
   "metadata": {},
   "outputs": [],
   "source": [
    "import tqdm"
   ]
  },
  {
   "cell_type": "code",
   "execution_count": 5,
   "metadata": {},
   "outputs": [],
   "source": [
    "def get_clusters_on(ddf, columns, upper_n_clusters):\n",
    "\n",
    "    data = ddf[columns].compute()\n",
    "    for n_clusters in range(2, upper_n_clusters):\n",
    "        kmeans = dask_ml.cluster.KMeans(n_clusters=n_clusters, random_state=0).fit(data)\n",
    "        ddf['Clusters on {} - {}: n = {}'.format(*columns_to_cluster, n_clusters)] = dd.from_dask_array(kmeans.labels_)\n",
    "    \n",
    "    return ddf"
   ]
  },
  {
   "cell_type": "markdown",
   "metadata": {},
   "source": [
    "**Read data**"
   ]
  },
  {
   "cell_type": "code",
   "execution_count": 5,
   "metadata": {},
   "outputs": [],
   "source": [
    "df = pd.read_csv('../data/processed_data_sample.csv')"
   ]
  },
  {
   "cell_type": "code",
   "execution_count": 6,
   "metadata": {},
   "outputs": [],
   "source": [
    "ddf = dd.from_pandas(df, npartitions=16)"
   ]
  },
  {
   "cell_type": "code",
   "execution_count": 7,
   "metadata": {},
   "outputs": [],
   "source": [
    "# ddf = ddf.fillna(0)"
   ]
  },
  {
   "cell_type": "markdown",
   "metadata": {},
   "source": [
    "**Clustering Tuples**"
   ]
  },
  {
   "cell_type": "code",
   "execution_count": 10,
   "metadata": {},
   "outputs": [],
   "source": [
    "columns = ddf.columns[1:].drop(['Memory_depth',\n",
    "                      'Unnamed: 0.1',\n",
    "                      'Unnamed: 0.1.1',\n",
    "                      'Unnamed: 0.1.1.1',\n",
    "                      'Name', 'Rank', 'seed',\n",
    "                      'Makes_use_of_game',\n",
    "                      'Makes_use_of_length',\n",
    "                      'Unnamed: 0.1.1.1.1',\n",
    "                               'Stochastic'])"
   ]
  },
  {
   "cell_type": "code",
   "execution_count": 11,
   "metadata": {},
   "outputs": [
    {
     "data": {
      "text/plain": [
       "Index(['CC_rate', 'CC_to_C_rate', 'CD_rate', 'CD_to_C_rate',\n",
       "       'Cooperation_rating', 'DC_rate', 'DC_to_C_rate', 'DD_rate',\n",
       "       'DD_to_C_rate', 'Initial_C_rate', 'Median_score', 'Normalized_Rank',\n",
       "       'SSeeror', 'Wins', 'noise', 'probend', 'repetitions', 'size', 'turns'],\n",
       "      dtype='object')"
      ]
     },
     "execution_count": 11,
     "metadata": {},
     "output_type": "execute_result"
    }
   ],
   "source": [
    "columns"
   ]
  },
  {
   "cell_type": "code",
   "execution_count": 12,
   "metadata": {},
   "outputs": [],
   "source": [
    "columns_to_cluster = itertools.combinations(columns, 2)"
   ]
  },
  {
   "cell_type": "code",
   "execution_count": 13,
   "metadata": {},
   "outputs": [],
   "source": [
    "for column_one, column_two in columns_to_cluster:\n",
    "    #ddf = get_clusters_on(ddf, list(columns), 4)\n",
    "    \n",
    "    sample = ddf.sample(frac=0.01)\n",
    "    \n",
    "    fig, axes = plt.subplots(nrows=1, ncols=1, figsize=(5, 4))\n",
    "\n",
    "    x = sample[column_one].compute()\n",
    "    y = sample[column_two].compute()\n",
    "\n",
    "    \n",
    "    axes.scatter(x, y,);\n",
    "\n",
    "    fig.suptitle('Scatter on {} - {}'.format(column_one, column_two));\n",
    "    fig.savefig('../images/clustering/{}_{}.png'.format(column_one, column_two));\n",
    "    plt.close();"
   ]
  },
  {
   "cell_type": "code",
   "execution_count": null,
   "metadata": {},
   "outputs": [],
   "source": []
  }
 ],
 "metadata": {
  "kernelspec": {
   "display_name": "axlml",
   "language": "python",
   "name": "axlml"
  },
  "language_info": {
   "codemirror_mode": {
    "name": "ipython",
    "version": 3
   },
   "file_extension": ".py",
   "mimetype": "text/x-python",
   "name": "python",
   "nbconvert_exporter": "python",
   "pygments_lexer": "ipython3",
   "version": "3.5.2"
  }
 },
 "nbformat": 4,
 "nbformat_minor": 2
}
