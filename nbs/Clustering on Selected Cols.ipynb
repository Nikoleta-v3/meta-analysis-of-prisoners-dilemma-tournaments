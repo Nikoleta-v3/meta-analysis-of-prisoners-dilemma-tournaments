{
 "cells": [
  {
   "cell_type": "code",
   "execution_count": 1,
   "metadata": {},
   "outputs": [],
   "source": [
    "import numpy as np\n",
    "import pandas as pd\n",
    "\n",
    "import dask.dataframe as dd\n",
    "import dask_ml.cluster"
   ]
  },
  {
   "cell_type": "code",
   "execution_count": 2,
   "metadata": {},
   "outputs": [],
   "source": [
    "from dask.distributed import Client\n"
   ]
  },
  {
   "cell_type": "code",
   "execution_count": 3,
   "metadata": {},
   "outputs": [],
   "source": [
    "import matplotlib.pyplot as plt"
   ]
  },
  {
   "cell_type": "code",
   "execution_count": 4,
   "metadata": {},
   "outputs": [],
   "source": [
    "clustering_on = [\"Normalized_Rank\", \"Median_score\"]\n",
    "upper_n_clusters = 5\n",
    "num_of_workers = 1"
   ]
  },
  {
   "cell_type": "code",
   "execution_count": 5,
   "metadata": {},
   "outputs": [],
   "source": [
    "df = pd.read_csv('../data/sample_processed.csv')\n",
    "ddf = dd.from_pandas(df, npartitions=num_of_workers * 4)"
   ]
  },
  {
   "cell_type": "code",
   "execution_count": 35,
   "metadata": {},
   "outputs": [],
   "source": [
    "import imp\n",
    "\n",
    "clustering = imp.load_source('clustering', '../src/cluster_analysis.py')"
   ]
  },
  {
   "cell_type": "markdown",
   "metadata": {},
   "source": [
    "**Clustering**"
   ]
  },
  {
   "cell_type": "code",
   "execution_count": 7,
   "metadata": {},
   "outputs": [],
   "source": [
    "client = Client()"
   ]
  },
  {
   "cell_type": "code",
   "execution_count": 8,
   "metadata": {},
   "outputs": [],
   "source": [
    "data = ddf[clustering_on].compute(num_workers=num_of_workers)"
   ]
  },
  {
   "cell_type": "code",
   "execution_count": 9,
   "metadata": {},
   "outputs": [],
   "source": [
    "ddf, silhouette_avgs, num_of_clusters_to_fit = clustering.cluster_analysis(\n",
    "    data, ddf, clustering_on, upper_n_clusters, num_of_workers\n",
    ")"
   ]
  },
  {
   "cell_type": "code",
   "execution_count": 10,
   "metadata": {},
   "outputs": [],
   "source": [
    "sample_frac = 0.6"
   ]
  },
  {
   "cell_type": "code",
   "execution_count": null,
   "metadata": {},
   "outputs": [],
   "source": [
    "sample = ddf.sample(frac=sample_frac)"
   ]
  },
  {
   "cell_type": "code",
   "execution_count": 36,
   "metadata": {},
   "outputs": [],
   "source": [
    "clustering.draw_clusters_plot(sample, upper_n_clusters, '')"
   ]
  },
  {
   "cell_type": "markdown",
   "metadata": {},
   "source": [
    "**Random Forest**"
   ]
  },
  {
   "cell_type": "code",
   "execution_count": 38,
   "metadata": {},
   "outputs": [],
   "source": [
    "features = [\n",
    "    \"CC_to_C_rate\",\n",
    "    \"CD_to_C_rate\",\n",
    "    \"DC_to_C_rate\",\n",
    "    \"DD_to_C_rate\",\n",
    "    \"SSE\",\n",
    "    \"Makes_use_of_game\",\n",
    "    \"Makes_use_of_length\",\n",
    "    \"Stochastic\",\n",
    "    \"Cooperation_rating\",\n",
    "    \"Cooperation_rating_max\",\n",
    "    \"Cooperation_rating_min\",\n",
    "    \"Cooperation_rating_median\",\n",
    "    \"Cooperation_rating_mean\",\n",
    "    \"Cooperation_rating_comp_to_max\",\n",
    "    \"Cooperation_rating_comp_to_min\",\n",
    "    \"Cooperation_rating_comp_to_median\",\n",
    "    \"Cooperation_rating_comp_to_mean\",\n",
    "]"
   ]
  },
  {
   "cell_type": "code",
   "execution_count": 45,
   "metadata": {},
   "outputs": [],
   "source": [
    "import dask.array as da\n",
    "import operator"
   ]
  },
  {
   "cell_type": "code",
   "execution_count": 46,
   "metadata": {},
   "outputs": [],
   "source": [
    "chosen_n_cluster = max(silhouette_avgs.items(), key=operator.itemgetter(1))[\n",
    "    0\n",
    "]"
   ]
  },
  {
   "cell_type": "code",
   "execution_count": 47,
   "metadata": {},
   "outputs": [],
   "source": [
    "X = da.array(ddf[features].compute(num_workers=num_of_workers))\n",
    "y = da.array(ddf[chosen_n_cluster].compute(num_workers=num_of_workers))\n",
    "\n",
    "random_forest, importances, std, indices = clustering.random_forest_analysis(\n",
    "    X, y, num_of_workers\n",
    ")"
   ]
  },
  {
   "cell_type": "code",
   "execution_count": 70,
   "metadata": {},
   "outputs": [],
   "source": [
    "features_labels = {\"CC_to_C_rate\": \"$CC$ to $C$ rate\",\n",
    "                   \"CD_to_C_rate\": \"$CD$ to $C$ rate\",\n",
    "                   \"DC_to_C_rate\": \"$DC$ to $C$ rate\",\n",
    "                   \"DD_to_C_rate\": \"$DD$ to $C$ rate\",\n",
    "                   \"SSE\": \"SSE\",\n",
    "                   \"Makes_use_of_game\": \"Make use of game\",\n",
    "                   \"Makes_use_of_length\": \"Make use of lenght\",\n",
    "                   \"Stochastic\": \"stochastic\",\n",
    "                    \"Cooperation_rating\": r\"$C_r$\",\n",
    "                    \"Cooperation_rating_max\": r\"$C_{max}$\",\n",
    "                    \"Cooperation_rating_min\": r\"$C_{min}$\",\n",
    "                    \"Cooperation_rating_median\": r\"$C_{median}$\",\n",
    "                    \"Cooperation_rating_mean\": r\"$C_{mean}$\",\n",
    "                    \"Cooperation_rating_comp_to_max\": r\"$C_r$ / $C_{max}$ \",\n",
    "                    \"Cooperation_rating_comp_to_min\": r\"$C_r$ / $C_{min}$\",\n",
    "                    \"Cooperation_rating_comp_to_median\": r\"$C_r$ / $C_{median}$\",\n",
    "                    \"Cooperation_rating_comp_to_mean\": r\"$C_r$ / $C_{mean}$\"}"
   ]
  },
  {
   "cell_type": "code",
   "execution_count": null,
   "metadata": {},
   "outputs": [],
   "source": []
  },
  {
   "cell_type": "code",
   "execution_count": 71,
   "metadata": {},
   "outputs": [
    {
     "data": {
      "image/png": "[encoded data removed]",
      "text/plain": [
       "<Figure size 432x288 with 1 Axes>"
      ]
     },
     "metadata": {},
     "output_type": "display_data"
    }
   ],
   "source": [
    "# def draw_feature_importance_bar_plot(\n",
    "#     X, importances, std, indices, features, output_directory\n",
    "# ):\n",
    "plt.figure()\n",
    "plt.title(\"Feature importances\")\n",
    "plt.bar(\n",
    "    range(X.shape[1]),\n",
    "    importances[indices],\n",
    "    color=\"r\",\n",
    "    yerr=std[indices],\n",
    "    align=\"center\",\n",
    ")\n",
    "\n",
    "xticks = [features[f] for f in indices]\n",
    "labels = [features_labels[feature] for feature in xticks]\n",
    "\n",
    "plt.xticks(range(X.shape[1]), labels, rotation=90)\n",
    "plt.xlim([-1, X.shape[1]]);\n",
    "#     plt.savefig(\n",
    "#         \"%sfeature_importance_bar_plot.pdf\" % output_directory,\n",
    "#         bbox_inches=\"tight\",\n",
    "#     )"
   ]
  },
  {
   "cell_type": "code",
   "execution_count": 53,
   "metadata": {},
   "outputs": [
    {
     "data": {
      "text/plain": [
       "range(0, 17)"
      ]
     },
     "execution_count": 53,
     "metadata": {},
     "output_type": "execute_result"
    }
   ],
   "source": [
    "range(X.shape[1])"
   ]
  },
  {
   "cell_type": "code",
   "execution_count": null,
   "metadata": {},
   "outputs": [],
   "source": []
  }
 ],
 "metadata": {
  "kernelspec": {
   "display_name": "axlml",
   "language": "python",
   "name": "axlml"
  },
  "language_info": {
   "codemirror_mode": {
    "name": "ipython",
    "version": 3
   },
   "file_extension": ".py",
   "mimetype": "text/x-python",
   "name": "python",
   "nbconvert_exporter": "python",
   "pygments_lexer": "ipython3",
   "version": "3.5.2"
  }
 },
 "nbformat": 4,
 "nbformat_minor": 2
}
