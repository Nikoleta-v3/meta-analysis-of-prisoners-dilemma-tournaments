{
 "cells": [
  {
   "cell_type": "markdown",
   "metadata": {},
   "source": [
    "Linear Regression\n",
    "=================\n",
    "\n",
    "A multivariate linear regression is fitted to understand the effects of the features on the normalised rank."
   ]
  },
  {
   "cell_type": "code",
   "execution_count": 107,
   "metadata": {},
   "outputs": [],
   "source": [
    "import pandas as pd\n",
    "import dask.dataframe as dd\n",
    "\n",
    "import imp\n",
    "\n",
    "plot = imp.load_source('plot', '../src/plot.py')"
   ]
  },
  {
   "cell_type": "code",
   "execution_count": 108,
   "metadata": {},
   "outputs": [],
   "source": [
    "import statsmodels.api as sm\n",
    "import matplotlib.pyplot as plt\n",
    "import seaborn as sns\n",
    "import matplotlib"
   ]
  },
  {
   "cell_type": "code",
   "execution_count": 109,
   "metadata": {},
   "outputs": [],
   "source": [
    "import warnings\n",
    "warnings.filterwarnings('ignore')"
   ]
  },
  {
   "cell_type": "code",
   "execution_count": 110,
   "metadata": {},
   "outputs": [],
   "source": [
    "features = [\n",
    "    \"CC_to_C_rate\",\n",
    "    \"CD_to_C_rate\",\n",
    "    \"DC_to_C_rate\",\n",
    "    \"DD_to_C_rate\",\n",
    "    \"SSE\",\n",
    "    \"Cooperation_rating\",\n",
    "    \"Cooperation_rating_max\",\n",
    "    \"Cooperation_rating_min\",\n",
    "    \"Cooperation_rating_median\",\n",
    "    \"Cooperation_rating_mean\",\n",
    "    \"Cooperation_rating_comp_to_max\",\n",
    "    \"Cooperation_rating_comp_to_min\",\n",
    "    \"Cooperation_rating_comp_to_median\",\n",
    "    \"Cooperation_rating_comp_to_mean\",\n",
    "    \"repetitions\",\n",
    "]"
   ]
  },
  {
   "cell_type": "markdown",
   "metadata": {},
   "source": [
    "# Main Paper Results"
   ]
  },
  {
   "cell_type": "code",
   "execution_count": 111,
   "metadata": {},
   "outputs": [],
   "source": [
    "dfs = []\n",
    "for name in ['standard', 'subset_noise', 'subset_probend', 'subset_probend_noise']:\n",
    "    df = pd.read_csv(f'../data/{name}_processed.csv', index_col=0)\n",
    "    df['type'] = name\n",
    "    dfs.append(df)"
   ]
  },
  {
   "cell_type": "code",
   "execution_count": 112,
   "metadata": {},
   "outputs": [],
   "source": [
    "types = ['standard', 'noise', 'probend', 'probend_noise']"
   ]
  },
  {
   "cell_type": "markdown",
   "metadata": {},
   "source": [
    "**Standard Tournaments**"
   ]
  },
  {
   "cell_type": "code",
   "execution_count": 113,
   "metadata": {},
   "outputs": [],
   "source": [
    "a_type = types[0]\n",
    "\n",
    "df = dfs[0]\n",
    "    \n",
    "xs = features.copy()\n",
    "\n",
    "xs += [\"turns\", \"memory_usage\"]"
   ]
  },
  {
   "cell_type": "code",
   "execution_count": 114,
   "metadata": {},
   "outputs": [],
   "source": [
    "xs.remove('Cooperation_rating')\n",
    "xs.remove('Cooperation_rating_comp_to_median')\n",
    "xs.remove('Cooperation_rating_comp_to_max')\n",
    "xs.remove('Cooperation_rating_median')\n",
    "xs.remove('DD_to_C_rate')"
   ]
  },
  {
   "cell_type": "code",
   "execution_count": 115,
   "metadata": {},
   "outputs": [],
   "source": [
    "plt.figure(figsize=(12,10))\n",
    "\n",
    "cor = df[xs].corr()\n",
    "\n",
    "sns.heatmap(cor, annot=True, cmap=\"viridis\");"
   ]
  },
  {
   "cell_type": "code",
   "execution_count": 116,
   "metadata": {},
   "outputs": [],
   "source": [
    "features_standard = xs.copy()"
   ]
  },
  {
   "cell_type": "code",
   "execution_count": 117,
   "metadata": {},
   "outputs": [
    {
     "name": "stdout",
     "output_type": "stream",
     "text": [
      "============\n",
      "standard\n",
      "============\n",
      "                            OLS Regression Results                            \n",
      "==============================================================================\n",
      "Dep. Variable:                      y   R-squared:                       0.541\n",
      "Model:                            OLS   Adj. R-squared:                  0.541\n",
      "Method:                 Least Squares   F-statistic:                 9.851e+04\n",
      "Date:                Fri, 01 Dec 2023   Prob (F-statistic):               0.00\n",
      "Time:                        14:42:11   Log-Likelihood:             2.0192e+05\n",
      "No. Observations:             1002803   AIC:                        -4.038e+05\n",
      "Df Residuals:                 1002790   BIC:                        -4.037e+05\n",
      "Df Model:                          12                                         \n",
      "Covariance Type:            nonrobust                                         \n",
      "===================================================================================================\n",
      "                                      coef    std err          t      P>|t|      [0.025      0.975]\n",
      "---------------------------------------------------------------------------------------------------\n",
      "constant                            0.6952      0.010     71.222      0.000       0.676       0.714\n",
      "CC_to_C_rate                       -0.0419      0.001    -41.221      0.000      -0.044      -0.040\n",
      "CD_to_C_rate                        0.2970      0.001    475.103      0.000       0.296       0.298\n",
      "DC_to_C_rate                        0.1982      0.001    360.605      0.000       0.197       0.199\n",
      "SSE                                 0.2584      0.001    445.844      0.000       0.257       0.260\n",
      "Cooperation_rating_max             -0.0685      0.010     -6.651      0.000      -0.089      -0.048\n",
      "Cooperation_rating_min             -0.1609      0.006    -27.729      0.000      -0.172      -0.149\n",
      "Cooperation_rating_mean             0.1167      0.007     17.005      0.000       0.103       0.130\n",
      "Cooperation_rating_comp_to_min      0.0570      0.002     29.022      0.000       0.053       0.061\n",
      "Cooperation_rating_comp_to_mean    -0.4682      0.001   -565.679      0.000      -0.470      -0.467\n",
      "repetitions                      7.419e-06   7.53e-06      0.985      0.325   -7.35e-06    2.22e-05\n",
      "turns                            2.618e-05   3.95e-06      6.635      0.000    1.84e-05    3.39e-05\n",
      "memory_usage                       -0.0102      0.000    -65.048      0.000      -0.010      -0.010\n",
      "==============================================================================\n",
      "Omnibus:                    32390.174   Durbin-Watson:                   0.833\n",
      "Prob(Omnibus):                  0.000   Jarque-Bera (JB):            85330.802\n",
      "Skew:                          -0.102   Prob(JB):                         0.00\n",
      "Kurtosis:                       4.415   Cond. No.                     8.89e+03\n",
      "==============================================================================\n",
      "\n",
      "Notes:\n",
      "[1] Standard Errors assume that the covariance matrix of the errors is correctly specified.\n",
      "[2] The condition number is large, 8.89e+03. This might indicate that there are\n",
      "strong multicollinearity or other numerical problems.\n"
     ]
    }
   ],
   "source": [
    "X = df[features_standard].values\n",
    "y = df['Normalized_Rank'].values\n",
    "\n",
    "X = sm.add_constant(X)\n",
    "model = sm.OLS(y, X).fit()\n",
    "\n",
    "print(\"============\")\n",
    "print(f\"{a_type}\")\n",
    "print(\"============\")\n",
    "print(model.summary(xname=['constant'] + xs))"
   ]
  },
  {
   "cell_type": "markdown",
   "metadata": {},
   "source": [
    "**Noisy Tournaments**"
   ]
  },
  {
   "cell_type": "code",
   "execution_count": 118,
   "metadata": {},
   "outputs": [],
   "source": [
    "index = 1\n",
    "a_type = types[index]\n",
    "df = dfs[index]\n",
    "    \n",
    "xs = features.copy()\n",
    "xs += ['noise', 'memory_usage']"
   ]
  },
  {
   "cell_type": "code",
   "execution_count": 119,
   "metadata": {},
   "outputs": [],
   "source": [
    "xs.remove('Cooperation_rating')\n",
    "xs.remove('Cooperation_rating_median')\n",
    "xs.remove('Cooperation_rating_comp_to_max')\n",
    "xs.remove('DD_to_C_rate')"
   ]
  },
  {
   "cell_type": "code",
   "execution_count": 120,
   "metadata": {},
   "outputs": [],
   "source": [
    "plt.figure(figsize=(12,10))\n",
    "\n",
    "cor = df[xs].corr()\n",
    "\n",
    "sns.heatmap(cor, annot=True, cmap=\"viridis\");"
   ]
  },
  {
   "cell_type": "code",
   "execution_count": 121,
   "metadata": {},
   "outputs": [],
   "source": [
    "features_noisy = xs.copy()"
   ]
  },
  {
   "cell_type": "code",
   "execution_count": 122,
   "metadata": {},
   "outputs": [
    {
     "name": "stdout",
     "output_type": "stream",
     "text": [
      "============\n",
      "noise\n",
      "============\n",
      "                                 OLS Regression Results                                \n",
      "=======================================================================================\n",
      "Dep. Variable:                      y   R-squared (uncentered):                   0.840\n",
      "Model:                            OLS   Adj. R-squared (uncentered):              0.840\n",
      "Method:                 Least Squares   F-statistic:                          4.139e+04\n",
      "Date:                Fri, 01 Dec 2023   Prob (F-statistic):                        0.00\n",
      "Time:                        14:42:32   Log-Likelihood:                          4550.3\n",
      "No. Observations:              102337   AIC:                                     -9075.\n",
      "Df Residuals:                  102324   BIC:                                     -8951.\n",
      "Df Model:                          13                                                  \n",
      "Covariance Type:            nonrobust                                                  \n",
      "=====================================================================================================\n",
      "                                        coef    std err          t      P>|t|      [0.025      0.975]\n",
      "-----------------------------------------------------------------------------------------------------\n",
      "CC_to_C_rate                         -0.1593      0.004    -36.763      0.000      -0.168      -0.151\n",
      "CD_to_C_rate                          0.0621      0.003     17.795      0.000       0.055       0.069\n",
      "DC_to_C_rate                          0.1404      0.003     43.280      0.000       0.134       0.147\n",
      "SSE                                   0.3292      0.003    118.140      0.000       0.324       0.335\n",
      "Cooperation_rating_max                0.5082      0.010     48.736      0.000       0.488       0.529\n",
      "Cooperation_rating_min                0.0383      0.032      1.183      0.237      -0.025       0.102\n",
      "Cooperation_rating_mean              -0.1346      0.017     -7.960      0.000      -0.168      -0.101\n",
      "Cooperation_rating_comp_to_min        0.0069      0.006      1.121      0.262      -0.005       0.019\n",
      "Cooperation_rating_comp_to_median     0.0595      0.021      2.819      0.005       0.018       0.101\n",
      "Cooperation_rating_comp_to_mean      -0.0589      0.021     -2.794      0.005      -0.100      -0.018\n",
      "repetitions                        2.263e-05    2.8e-05      0.807      0.420   -3.23e-05    7.76e-05\n",
      "noise                                 0.3132      0.041      7.599      0.000       0.232       0.394\n",
      "memory_usage                         -0.0084      0.001    -16.258      0.000      -0.009      -0.007\n",
      "==============================================================================\n",
      "Omnibus:                     1572.735   Durbin-Watson:                   0.634\n",
      "Prob(Omnibus):                  0.000   Jarque-Bera (JB):              915.215\n",
      "Skew:                           0.031   Prob(JB):                    1.83e-199\n",
      "Kurtosis:                       2.541   Cond. No.                     4.13e+03\n",
      "==============================================================================\n",
      "\n",
      "Notes:\n",
      "[1] R² is computed without centering (uncentered) since the model does not contain a constant.\n",
      "[2] Standard Errors assume that the covariance matrix of the errors is correctly specified.\n",
      "[3] The condition number is large, 4.13e+03. This might indicate that there are\n",
      "strong multicollinearity or other numerical problems.\n"
     ]
    }
   ],
   "source": [
    "X = df[features_noisy].values\n",
    "y = df['Normalized_Rank'].values\n",
    "\n",
    "model = sm.OLS(y, X).fit()\n",
    "\n",
    "print(\"============\")\n",
    "print(f\"{a_type}\")\n",
    "print(\"============\")\n",
    "print(model.summary(xname=xs))"
   ]
  },
  {
   "cell_type": "markdown",
   "metadata": {},
   "source": [
    "**Probabilistic Ending Tournaments**"
   ]
  },
  {
   "cell_type": "code",
   "execution_count": 123,
   "metadata": {},
   "outputs": [],
   "source": [
    "index = 2\n",
    "a_type = types[index]\n",
    "df = dfs[index]\n",
    "    \n",
    "xs = features.copy()\n",
    "xs += [\"probend\"]"
   ]
  },
  {
   "cell_type": "code",
   "execution_count": 124,
   "metadata": {},
   "outputs": [],
   "source": [
    "xs.remove('Cooperation_rating')\n",
    "xs.remove('Cooperation_rating_median')\n",
    "xs.remove('Cooperation_rating_comp_to_max')\n",
    "xs.remove('DD_to_C_rate')"
   ]
  },
  {
   "cell_type": "code",
   "execution_count": 125,
   "metadata": {},
   "outputs": [],
   "source": [
    "plt.figure(figsize=(12,10))\n",
    "\n",
    "cor = df[xs].corr()\n",
    "\n",
    "sns.heatmap(cor, annot=True, cmap=\"viridis\");"
   ]
  },
  {
   "cell_type": "code",
   "execution_count": 126,
   "metadata": {},
   "outputs": [],
   "source": [
    "features_probend = xs.copy()"
   ]
  },
  {
   "cell_type": "code",
   "execution_count": 127,
   "metadata": {},
   "outputs": [
    {
     "name": "stdout",
     "output_type": "stream",
     "text": [
      "============\n",
      "probend\n",
      "============\n",
      "                                 OLS Regression Results                                \n",
      "=======================================================================================\n",
      "Dep. Variable:                      y   R-squared (uncentered):                   0.862\n",
      "Model:                            OLS   Adj. R-squared (uncentered):              0.862\n",
      "Method:                 Least Squares   F-statistic:                          5.120e+04\n",
      "Date:                Fri, 01 Dec 2023   Prob (F-statistic):                        0.00\n",
      "Time:                        14:42:46   Log-Likelihood:                          11474.\n",
      "No. Observations:               98702   AIC:                                 -2.292e+04\n",
      "Df Residuals:                   98690   BIC:                                 -2.281e+04\n",
      "Df Model:                          12                                                  \n",
      "Covariance Type:            nonrobust                                                  \n",
      "=====================================================================================================\n",
      "                                        coef    std err          t      P>|t|      [0.025      0.975]\n",
      "-----------------------------------------------------------------------------------------------------\n",
      "CC_to_C_rate                         -0.0453      0.004    -12.154      0.000      -0.053      -0.038\n",
      "CD_to_C_rate                          0.4115      0.002    189.196      0.000       0.407       0.416\n",
      "DC_to_C_rate                          0.1926      0.002    101.719      0.000       0.189       0.196\n",
      "SSE                                   0.1905      0.002     94.801      0.000       0.187       0.194\n",
      "Cooperation_rating_max                0.5920      0.018     33.031      0.000       0.557       0.627\n",
      "Cooperation_rating_min               -0.0026      0.020     -0.126      0.899      -0.042       0.037\n",
      "Cooperation_rating_mean              -0.1703      0.028     -5.989      0.000      -0.226      -0.115\n",
      "Cooperation_rating_comp_to_min        0.0652      0.007      8.865      0.000       0.051       0.080\n",
      "Cooperation_rating_comp_to_median    -0.1716      0.029     -5.903      0.000      -0.229      -0.115\n",
      "Cooperation_rating_comp_to_mean      -0.1200      0.027     -4.478      0.000      -0.173      -0.067\n",
      "repetitions                        6.316e-05   2.63e-05      2.404      0.016    1.17e-05       0.000\n",
      "probend                              -0.0776      0.030     -2.628      0.009      -0.135      -0.020\n",
      "==============================================================================\n",
      "Omnibus:                     1028.583   Durbin-Watson:                   0.912\n",
      "Prob(Omnibus):                  0.000   Jarque-Bera (JB):             1073.992\n",
      "Skew:                          -0.240   Prob(JB):                    6.10e-234\n",
      "Kurtosis:                       3.177   Cond. No.                     3.84e+03\n",
      "==============================================================================\n",
      "\n",
      "Notes:\n",
      "[1] R² is computed without centering (uncentered) since the model does not contain a constant.\n",
      "[2] Standard Errors assume that the covariance matrix of the errors is correctly specified.\n",
      "[3] The condition number is large, 3.84e+03. This might indicate that there are\n",
      "strong multicollinearity or other numerical problems.\n"
     ]
    }
   ],
   "source": [
    "X = df[features_probend].values\n",
    "y = df['Normalized_Rank'].values\n",
    "\n",
    "model = sm.OLS(y, X).fit()\n",
    "\n",
    "print(\"============\")\n",
    "print(f\"{a_type}\")\n",
    "print(\"============\")\n",
    "print(model.summary(xname=xs))"
   ]
  },
  {
   "cell_type": "markdown",
   "metadata": {},
   "source": [
    "**Noisy Probabilistic Ending Tournaments**"
   ]
  },
  {
   "cell_type": "code",
   "execution_count": 128,
   "metadata": {},
   "outputs": [],
   "source": [
    "index = 3\n",
    "a_type = types[index]\n",
    "df = dfs[index]\n",
    "    \n",
    "xs = features.copy()\n",
    "xs += [\"probend\", \"noise\"]"
   ]
  },
  {
   "cell_type": "code",
   "execution_count": 129,
   "metadata": {},
   "outputs": [],
   "source": [
    "xs.remove('Cooperation_rating')\n",
    "xs.remove('Cooperation_rating_median')\n",
    "xs.remove('Cooperation_rating_comp_to_median')\n",
    "xs.remove('Cooperation_rating_comp_to_max')\n",
    "xs.remove('DD_to_C_rate')"
   ]
  },
  {
   "cell_type": "code",
   "execution_count": 130,
   "metadata": {},
   "outputs": [],
   "source": [
    "plt.figure(figsize=(12,10))\n",
    "\n",
    "cor = df[xs].corr()\n",
    "\n",
    "sns.heatmap(cor, annot=True, cmap=\"viridis\");"
   ]
  },
  {
   "cell_type": "code",
   "execution_count": 131,
   "metadata": {},
   "outputs": [],
   "source": [
    "features_probend_noisy = xs.copy()"
   ]
  },
  {
   "cell_type": "code",
   "execution_count": 132,
   "metadata": {},
   "outputs": [
    {
     "name": "stdout",
     "output_type": "stream",
     "text": [
      "============\n",
      "probend_noise\n",
      "============\n",
      "                                 OLS Regression Results                                \n",
      "=======================================================================================\n",
      "Dep. Variable:                      y   R-squared (uncentered):                   0.882\n",
      "Model:                            OLS   Adj. R-squared (uncentered):              0.882\n",
      "Method:                 Least Squares   F-statistic:                              6035.\n",
      "Date:                Fri, 01 Dec 2023   Prob (F-statistic):                        0.00\n",
      "Time:                        14:42:55   Log-Likelihood:                          1904.0\n",
      "No. Observations:                9681   AIC:                                     -3784.\n",
      "Df Residuals:                    9669   BIC:                                     -3698.\n",
      "Df Model:                          12                                                  \n",
      "Covariance Type:            nonrobust                                                  \n",
      "===================================================================================================\n",
      "                                      coef    std err          t      P>|t|      [0.025      0.975]\n",
      "---------------------------------------------------------------------------------------------------\n",
      "CC_to_C_rate                        0.0309      0.015      2.120      0.034       0.002       0.059\n",
      "CD_to_C_rate                        0.2902      0.010     28.970      0.000       0.271       0.310\n",
      "DC_to_C_rate                        0.1916      0.009     20.640      0.000       0.173       0.210\n",
      "SSE                                 0.2269      0.008     27.263      0.000       0.211       0.243\n",
      "Cooperation_rating_max              0.3575      0.045      7.984      0.000       0.270       0.445\n",
      "Cooperation_rating_min              0.0641      0.070      0.909      0.363      -0.074       0.202\n",
      "Cooperation_rating_mean            -0.5190      0.082     -6.316      0.000      -0.680      -0.358\n",
      "Cooperation_rating_comp_to_min      0.0413      0.020      2.038      0.042       0.002       0.081\n",
      "Cooperation_rating_comp_to_mean     0.0991      0.015      6.754      0.000       0.070       0.128\n",
      "repetitions                         0.0002   8.08e-05      2.069      0.039    8.75e-06       0.000\n",
      "probend                             0.3924      0.139      2.816      0.005       0.119       0.666\n",
      "noise                              -0.0450      0.114     -0.396      0.692      -0.268       0.178\n",
      "==============================================================================\n",
      "Omnibus:                       34.403   Durbin-Watson:                   0.829\n",
      "Prob(Omnibus):                  0.000   Jarque-Bera (JB):               40.544\n",
      "Skew:                          -0.082   Prob(JB):                     1.57e-09\n",
      "Kurtosis:                       3.271   Cond. No.                     5.50e+03\n",
      "==============================================================================\n",
      "\n",
      "Notes:\n",
      "[1] R² is computed without centering (uncentered) since the model does not contain a constant.\n",
      "[2] Standard Errors assume that the covariance matrix of the errors is correctly specified.\n",
      "[3] The condition number is large, 5.5e+03. This might indicate that there are\n",
      "strong multicollinearity or other numerical problems.\n"
     ]
    }
   ],
   "source": [
    "X = df[features_probend_noisy].values\n",
    "y = df['Normalized_Rank'].values\n",
    "\n",
    "model = sm.OLS(y, X).fit()\n",
    "\n",
    "print(\"============\")\n",
    "print(f\"{a_type}\")\n",
    "print(\"============\")\n",
    "print(model.summary(xname=xs))"
   ]
  },
  {
   "cell_type": "code",
   "execution_count": 133,
   "metadata": {},
   "outputs": [],
   "source": [
    "tables = []\n",
    "rs = []\n",
    "for i, xs in enumerate([features_standard, features_noisy, features_probend, features_probend_noisy]):\n",
    "    df = dfs[i]\n",
    "\n",
    "    X = df[xs].values\n",
    "    y = df['Normalized_Rank'].values\n",
    "\n",
    "    X = sm.add_constant(X)\n",
    "    model = sm.OLS(y, X).fit()\n",
    "    \n",
    "    table = model.summary2(xname=['constant'] + xs)\n",
    "    rs.append(table.tables[0][2][0] + table.tables[0][3][0])\n",
    "    table = table.tables[1][['Coef.', 'P>|t|']].round(5)\n",
    "    table.index = ['constant'] + [plot.features_labels[index] for index in table.index[1:]]\n",
    "    \n",
    "    tables.append(table)"
   ]
  },
  {
   "cell_type": "code",
   "execution_count": 135,
   "metadata": {},
   "outputs": [],
   "source": [
    "regression_table = pd.concat(tables, axis=1).round(3)"
   ]
  },
  {
   "cell_type": "code",
   "execution_count": 136,
   "metadata": {},
   "outputs": [],
   "source": [
    "file = open('../paper/regression_results.tex', \"w\")\n",
    "table_to_write = regression_table.to_latex().replace('\\$', '$').replace('\\_', '_').replace('NaN', '  -')\n",
    "file.write(table_to_write.replace('\\{', '{').replace('\\}', '}'))\n",
    "file.close()"
   ]
  },
  {
   "cell_type": "code",
   "execution_count": 137,
   "metadata": {
    "scrolled": true
   },
   "outputs": [
    {
     "data": {
      "text/plain": [
       "['Adj. R-squared:0.541',\n",
       " 'Adj. R-squared:0.373',\n",
       " 'Adj. R-squared:0.457',\n",
       " 'Adj. R-squared:0.537']"
      ]
     },
     "execution_count": 137,
     "metadata": {},
     "output_type": "execute_result"
    }
   ],
   "source": [
    "rs"
   ]
  },
  {
   "cell_type": "markdown",
   "metadata": {},
   "source": [
    "# Supplementary Information"
   ]
  },
  {
   "cell_type": "code",
   "execution_count": 138,
   "metadata": {},
   "outputs": [],
   "source": [
    "dfs = []\n",
    "for name in ['standard', 'noise', 'probend', 'probend_noise']:\n",
    "    df = pd.read_csv(f'../data/{name}_processed.csv', index_col=0)\n",
    "    df['type'] = name\n",
    "    dfs.append(df)"
   ]
  },
  {
   "cell_type": "code",
   "execution_count": 139,
   "metadata": {},
   "outputs": [],
   "source": [
    "types = ['standard', 'noise', 'probend', 'probend_noise']"
   ]
  },
  {
   "cell_type": "markdown",
   "metadata": {},
   "source": [
    "**Standard Tournaments**"
   ]
  },
  {
   "cell_type": "code",
   "execution_count": 140,
   "metadata": {},
   "outputs": [],
   "source": [
    "a_type = types[0]\n",
    "\n",
    "df = dfs[0]\n",
    "    \n",
    "xs = features.copy()\n",
    "\n",
    "xs += [\"turns\", \"memory_usage\"]"
   ]
  },
  {
   "cell_type": "code",
   "execution_count": 141,
   "metadata": {},
   "outputs": [],
   "source": [
    "xs.remove('Cooperation_rating')\n",
    "xs.remove('Cooperation_rating_comp_to_median')\n",
    "xs.remove('Cooperation_rating_comp_to_max')\n",
    "xs.remove('Cooperation_rating_median')\n",
    "xs.remove('DD_to_C_rate')"
   ]
  },
  {
   "cell_type": "code",
   "execution_count": 142,
   "metadata": {},
   "outputs": [
    {
     "data": {
      "image/png": "[encoded data removed]",
      "text/plain": [
       "<Figure size 1200x1000 with 2 Axes>"
      ]
     },
     "metadata": {},
     "output_type": "display_data"
    }
   ],
   "source": [
    "plt.figure(figsize=(12,10))\n",
    "\n",
    "cor = df[xs].corr()\n",
    "\n",
    "sns.heatmap(cor, annot=True, cmap=\"viridis\");"
   ]
  },
  {
   "cell_type": "code",
   "execution_count": 143,
   "metadata": {},
   "outputs": [],
   "source": [
    "features_standard = xs.copy()"
   ]
  },
  {
   "cell_type": "code",
   "execution_count": 144,
   "metadata": {},
   "outputs": [
    {
     "name": "stdout",
     "output_type": "stream",
     "text": [
      "============\n",
      "standard\n",
      "============\n",
      "                            OLS Regression Results                            \n",
      "==============================================================================\n",
      "Dep. Variable:                      y   R-squared:                       0.541\n",
      "Model:                            OLS   Adj. R-squared:                  0.541\n",
      "Method:                 Least Squares   F-statistic:                 9.851e+04\n",
      "Date:                Fri, 01 Dec 2023   Prob (F-statistic):               0.00\n",
      "Time:                        14:44:21   Log-Likelihood:             2.0192e+05\n",
      "No. Observations:             1002803   AIC:                        -4.038e+05\n",
      "Df Residuals:                 1002790   BIC:                        -4.037e+05\n",
      "Df Model:                          12                                         \n",
      "Covariance Type:            nonrobust                                         \n",
      "===================================================================================================\n",
      "                                      coef    std err          t      P>|t|      [0.025      0.975]\n",
      "---------------------------------------------------------------------------------------------------\n",
      "constant                            0.6952      0.010     71.222      0.000       0.676       0.714\n",
      "CC_to_C_rate                       -0.0419      0.001    -41.221      0.000      -0.044      -0.040\n",
      "CD_to_C_rate                        0.2970      0.001    475.103      0.000       0.296       0.298\n",
      "DC_to_C_rate                        0.1982      0.001    360.605      0.000       0.197       0.199\n",
      "SSE                                 0.2584      0.001    445.844      0.000       0.257       0.260\n",
      "Cooperation_rating_max             -0.0685      0.010     -6.651      0.000      -0.089      -0.048\n",
      "Cooperation_rating_min             -0.1609      0.006    -27.729      0.000      -0.172      -0.149\n",
      "Cooperation_rating_mean             0.1167      0.007     17.005      0.000       0.103       0.130\n",
      "Cooperation_rating_comp_to_min      0.0570      0.002     29.022      0.000       0.053       0.061\n",
      "Cooperation_rating_comp_to_mean    -0.4682      0.001   -565.679      0.000      -0.470      -0.467\n",
      "repetitions                      7.419e-06   7.53e-06      0.985      0.325   -7.35e-06    2.22e-05\n",
      "turns                            2.618e-05   3.95e-06      6.635      0.000    1.84e-05    3.39e-05\n",
      "memory_usage                       -0.0102      0.000    -65.048      0.000      -0.010      -0.010\n",
      "==============================================================================\n",
      "Omnibus:                    32390.174   Durbin-Watson:                   0.833\n",
      "Prob(Omnibus):                  0.000   Jarque-Bera (JB):            85330.802\n",
      "Skew:                          -0.102   Prob(JB):                         0.00\n",
      "Kurtosis:                       4.415   Cond. No.                     8.89e+03\n",
      "==============================================================================\n",
      "\n",
      "Notes:\n",
      "[1] Standard Errors assume that the covariance matrix of the errors is correctly specified.\n",
      "[2] The condition number is large, 8.89e+03. This might indicate that there are\n",
      "strong multicollinearity or other numerical problems.\n"
     ]
    }
   ],
   "source": [
    "X = df[features_standard].values\n",
    "y = df['Normalized_Rank'].values\n",
    "\n",
    "X = sm.add_constant(X)\n",
    "model = sm.OLS(y, X).fit()\n",
    "\n",
    "print(\"============\")\n",
    "print(f\"{a_type}\")\n",
    "print(\"============\")\n",
    "print(model.summary(xname=['constant'] + xs))"
   ]
  },
  {
   "cell_type": "markdown",
   "metadata": {},
   "source": [
    "**Noisy Tournaments**"
   ]
  },
  {
   "cell_type": "code",
   "execution_count": 145,
   "metadata": {},
   "outputs": [],
   "source": [
    "index = 1\n",
    "a_type = types[index]\n",
    "df = dfs[index]\n",
    "    \n",
    "xs = features.copy()\n",
    "xs += ['noise', 'memory_usage']"
   ]
  },
  {
   "cell_type": "code",
   "execution_count": 146,
   "metadata": {},
   "outputs": [],
   "source": [
    "xs.remove('Cooperation_rating')\n",
    "xs.remove('Cooperation_rating_median')\n",
    "xs.remove('Cooperation_rating_comp_to_median')\n",
    "xs.remove('Cooperation_rating_comp_to_max')\n",
    "xs.remove('Cooperation_rating_max')\n",
    "xs.remove('DD_to_C_rate')"
   ]
  },
  {
   "cell_type": "code",
   "execution_count": 120,
   "metadata": {},
   "outputs": [],
   "source": [
    "plt.figure(figsize=(12,10))\n",
    "\n",
    "cor = df[xs].corr()\n",
    "\n",
    "sns.heatmap(cor, annot=True, cmap=\"viridis\");"
   ]
  },
  {
   "cell_type": "code",
   "execution_count": 147,
   "metadata": {},
   "outputs": [],
   "source": [
    "features_noisy = xs.copy()"
   ]
  },
  {
   "cell_type": "code",
   "execution_count": 148,
   "metadata": {},
   "outputs": [
    {
     "name": "stdout",
     "output_type": "stream",
     "text": [
      "============\n",
      "noise\n",
      "============\n",
      "                                 OLS Regression Results                                \n",
      "=======================================================================================\n",
      "Dep. Variable:                      y   R-squared (uncentered):                   0.894\n",
      "Model:                            OLS   Adj. R-squared (uncentered):              0.894\n",
      "Method:                 Least Squares   F-statistic:                          7.653e+05\n",
      "Date:                Fri, 01 Dec 2023   Prob (F-statistic):                        0.00\n",
      "Time:                        14:44:22   Log-Likelihood:                      2.4819e+05\n",
      "No. Observations:             1002950   AIC:                                 -4.964e+05\n",
      "Df Residuals:                 1002939   BIC:                                 -4.962e+05\n",
      "Df Model:                          11                                                  \n",
      "Covariance Type:            nonrobust                                                  \n",
      "===================================================================================================\n",
      "                                      coef    std err          t      P>|t|      [0.025      0.975]\n",
      "---------------------------------------------------------------------------------------------------\n",
      "CC_to_C_rate                        0.1595      0.002     92.244      0.000       0.156       0.163\n",
      "CD_to_C_rate                       -0.0466      0.001    -31.057      0.000      -0.050      -0.044\n",
      "DC_to_C_rate                        0.0438      0.001     31.444      0.000       0.041       0.047\n",
      "SSE                                 0.2305      0.001    190.674      0.000       0.228       0.233\n",
      "Cooperation_rating_min              0.8282      0.004    231.244      0.000       0.821       0.835\n",
      "Cooperation_rating_mean            -0.0301      0.003    -11.439      0.000      -0.035      -0.025\n",
      "Cooperation_rating_comp_to_min     -0.3934      0.002   -219.638      0.000      -0.397      -0.390\n",
      "Cooperation_rating_comp_to_mean     0.3620      0.002    226.553      0.000       0.359       0.365\n",
      "repetitions                         0.0001   7.15e-06     16.876      0.000       0.000       0.000\n",
      "noise                              -0.0575      0.001    -66.258      0.000      -0.059      -0.056\n",
      "memory_usage                        0.0017      0.000     11.558      0.000       0.001       0.002\n",
      "==============================================================================\n",
      "Omnibus:                    55932.446   Durbin-Watson:                   0.491\n",
      "Prob(Omnibus):                  0.000   Jarque-Bera (JB):           165040.819\n",
      "Skew:                           0.272   Prob(JB):                         0.00\n",
      "Kurtosis:                       4.911   Cond. No.                     1.39e+03\n",
      "==============================================================================\n",
      "\n",
      "Notes:\n",
      "[1] R² is computed without centering (uncentered) since the model does not contain a constant.\n",
      "[2] Standard Errors assume that the covariance matrix of the errors is correctly specified.\n",
      "[3] The condition number is large, 1.39e+03. This might indicate that there are\n",
      "strong multicollinearity or other numerical problems.\n"
     ]
    }
   ],
   "source": [
    "X = df[features_noisy].values\n",
    "y = df['Normalized_Rank'].values\n",
    "\n",
    "model = sm.OLS(y, X).fit()\n",
    "\n",
    "print(\"============\")\n",
    "print(f\"{a_type}\")\n",
    "print(\"============\")\n",
    "print(model.summary(xname=xs))"
   ]
  },
  {
   "cell_type": "markdown",
   "metadata": {},
   "source": [
    "**Probabilistic Ending Tournaments**"
   ]
  },
  {
   "cell_type": "code",
   "execution_count": 149,
   "metadata": {},
   "outputs": [],
   "source": [
    "index = 2\n",
    "a_type = types[index]\n",
    "df = dfs[index]\n",
    "    \n",
    "xs = features.copy()\n",
    "xs += [\"probend\"]"
   ]
  },
  {
   "cell_type": "code",
   "execution_count": 150,
   "metadata": {},
   "outputs": [],
   "source": [
    "xs.remove('Cooperation_rating')\n",
    "xs.remove('Cooperation_rating_median')\n",
    "xs.remove('Cooperation_rating_comp_to_median')\n",
    "xs.remove('Cooperation_rating_comp_to_max')\n",
    "xs.remove('DD_to_C_rate')"
   ]
  },
  {
   "cell_type": "code",
   "execution_count": 125,
   "metadata": {},
   "outputs": [],
   "source": [
    "plt.figure(figsize=(12,10))\n",
    "\n",
    "cor = df[xs].corr()\n",
    "\n",
    "sns.heatmap(cor, annot=True, cmap=\"viridis\");"
   ]
  },
  {
   "cell_type": "code",
   "execution_count": 151,
   "metadata": {},
   "outputs": [],
   "source": [
    "features_probend = xs.copy()"
   ]
  },
  {
   "cell_type": "code",
   "execution_count": 152,
   "metadata": {},
   "outputs": [
    {
     "name": "stdout",
     "output_type": "stream",
     "text": [
      "============\n",
      "probend\n",
      "============\n",
      "                                 OLS Regression Results                                \n",
      "=======================================================================================\n",
      "Dep. Variable:                      y   R-squared (uncentered):                   0.895\n",
      "Model:                            OLS   Adj. R-squared (uncentered):              0.895\n",
      "Method:                 Least Squares   F-statistic:                          7.773e+05\n",
      "Date:                Fri, 01 Dec 2023   Prob (F-statistic):                        0.00\n",
      "Time:                        14:44:24   Log-Likelihood:                      2.5519e+05\n",
      "No. Observations:             1002950   AIC:                                 -5.104e+05\n",
      "Df Residuals:                 1002939   BIC:                                 -5.102e+05\n",
      "Df Model:                          11                                                  \n",
      "Covariance Type:            nonrobust                                                  \n",
      "===================================================================================================\n",
      "                                      coef    std err          t      P>|t|      [0.025      0.975]\n",
      "---------------------------------------------------------------------------------------------------\n",
      "CC_to_C_rate                        0.0174      0.001     23.967      0.000       0.016       0.019\n",
      "CD_to_C_rate                        0.1820      0.000    374.092      0.000       0.181       0.183\n",
      "DC_to_C_rate                       -0.0298      0.000    -65.626      0.000      -0.031      -0.029\n",
      "SSE                                -0.0413      0.000    -91.106      0.000      -0.042      -0.040\n",
      "Cooperation_rating_max             -0.0795      0.005    -17.221      0.000      -0.089      -0.070\n",
      "Cooperation_rating_min             -0.1713      0.005    -32.454      0.000      -0.182      -0.161\n",
      "Cooperation_rating_mean            -0.0227      0.007     -3.312      0.001      -0.036      -0.009\n",
      "Cooperation_rating_comp_to_min      0.1252      0.002     52.779      0.000       0.121       0.130\n",
      "Cooperation_rating_comp_to_mean     0.5246      0.001    877.895      0.000       0.523       0.526\n",
      "repetitions                       2.19e-05   7.14e-06      3.066      0.002     7.9e-06    3.59e-05\n",
      "probend                             0.0003      0.001      0.252      0.801      -0.002       0.003\n",
      "==============================================================================\n",
      "Omnibus:                    24974.823   Durbin-Watson:                   0.550\n",
      "Prob(Omnibus):                  0.000   Jarque-Bera (JB):            50471.921\n",
      "Skew:                           0.160   Prob(JB):                         0.00\n",
      "Kurtosis:                       4.051   Cond. No.                     2.78e+03\n",
      "==============================================================================\n",
      "\n",
      "Notes:\n",
      "[1] R² is computed without centering (uncentered) since the model does not contain a constant.\n",
      "[2] Standard Errors assume that the covariance matrix of the errors is correctly specified.\n",
      "[3] The condition number is large, 2.78e+03. This might indicate that there are\n",
      "strong multicollinearity or other numerical problems.\n"
     ]
    }
   ],
   "source": [
    "X = df[features_probend].values\n",
    "y = df['Normalized_Rank'].values\n",
    "\n",
    "model = sm.OLS(y, X).fit()\n",
    "\n",
    "print(\"============\")\n",
    "print(f\"{a_type}\")\n",
    "print(\"============\")\n",
    "print(model.summary(xname=xs))"
   ]
  },
  {
   "cell_type": "markdown",
   "metadata": {},
   "source": [
    "**Noisy Probabilistic Ending Tournaments**"
   ]
  },
  {
   "cell_type": "code",
   "execution_count": 153,
   "metadata": {},
   "outputs": [],
   "source": [
    "index = 3\n",
    "a_type = types[index]\n",
    "df = dfs[index]\n",
    "    \n",
    "xs = features.copy()\n",
    "xs += [\"probend\", \"noise\"]"
   ]
  },
  {
   "cell_type": "code",
   "execution_count": 154,
   "metadata": {},
   "outputs": [],
   "source": [
    "xs.remove('Cooperation_rating')\n",
    "xs.remove('Cooperation_rating_median')\n",
    "xs.remove('Cooperation_rating_comp_to_median')\n",
    "xs.remove('Cooperation_rating_comp_to_max')\n",
    "xs.remove('Cooperation_rating_comp_to_min')\n",
    "xs.remove('Cooperation_rating_min')\n",
    "xs.remove('noise')\n",
    "xs.remove('DD_to_C_rate')"
   ]
  },
  {
   "cell_type": "code",
   "execution_count": 130,
   "metadata": {},
   "outputs": [],
   "source": [
    "plt.figure(figsize=(12,10))\n",
    "\n",
    "cor = df[xs].corr()\n",
    "\n",
    "sns.heatmap(cor, annot=True, cmap=\"viridis\");"
   ]
  },
  {
   "cell_type": "code",
   "execution_count": 155,
   "metadata": {},
   "outputs": [],
   "source": [
    "features_probend_noisy = xs.copy()"
   ]
  },
  {
   "cell_type": "code",
   "execution_count": 156,
   "metadata": {},
   "outputs": [
    {
     "name": "stdout",
     "output_type": "stream",
     "text": [
      "============\n",
      "probend_noise\n",
      "============\n",
      "                                 OLS Regression Results                                \n",
      "=======================================================================================\n",
      "Dep. Variable:                      y   R-squared (uncentered):                   0.866\n",
      "Model:                            OLS   Adj. R-squared (uncentered):              0.866\n",
      "Method:                 Least Squares   F-statistic:                          7.172e+05\n",
      "Date:                Fri, 01 Dec 2023   Prob (F-statistic):                        0.00\n",
      "Time:                        14:44:24   Log-Likelihood:                      1.3098e+05\n",
      "No. Observations:             1002950   AIC:                                 -2.619e+05\n",
      "Df Residuals:                 1002941   BIC:                                 -2.618e+05\n",
      "Df Model:                           9                                                  \n",
      "Covariance Type:            nonrobust                                                  \n",
      "===================================================================================================\n",
      "                                      coef    std err          t      P>|t|      [0.025      0.975]\n",
      "---------------------------------------------------------------------------------------------------\n",
      "CC_to_C_rate                        0.1966      0.001    140.900      0.000       0.194       0.199\n",
      "CD_to_C_rate                        0.0234      0.001     18.473      0.000       0.021       0.026\n",
      "DC_to_C_rate                        0.0901      0.001     67.547      0.000       0.087       0.093\n",
      "SSE                                 0.1438      0.001    146.055      0.000       0.142       0.146\n",
      "Cooperation_rating_max             -0.0879      0.001    -68.076      0.000      -0.090      -0.085\n",
      "Cooperation_rating_mean            -0.1093      0.002    -63.119      0.000      -0.113      -0.106\n",
      "Cooperation_rating_comp_to_mean     0.4030      0.001    676.243      0.000       0.402       0.404\n",
      "repetitions                         0.0005   8.01e-06     66.906      0.000       0.001       0.001\n",
      "probend                            -0.1487      0.001   -170.606      0.000      -0.150      -0.147\n",
      "==============================================================================\n",
      "Omnibus:                     5596.940   Durbin-Watson:                   0.243\n",
      "Prob(Omnibus):                  0.000   Jarque-Bera (JB):             5808.537\n",
      "Skew:                          -0.169   Prob(JB):                         0.00\n",
      "Kurtosis:                       3.158   Cond. No.                         599.\n",
      "==============================================================================\n",
      "\n",
      "Notes:\n",
      "[1] R² is computed without centering (uncentered) since the model does not contain a constant.\n",
      "[2] Standard Errors assume that the covariance matrix of the errors is correctly specified.\n"
     ]
    }
   ],
   "source": [
    "X = df[features_probend_noisy].values\n",
    "y = df['Normalized_Rank'].values\n",
    "\n",
    "model = sm.OLS(y, X).fit()\n",
    "\n",
    "print(\"============\")\n",
    "print(f\"{a_type}\")\n",
    "print(\"============\")\n",
    "print(model.summary(xname=xs))"
   ]
  },
  {
   "cell_type": "code",
   "execution_count": 157,
   "metadata": {},
   "outputs": [],
   "source": [
    "tables = []\n",
    "rs = []\n",
    "for i, xs in enumerate([features_standard, features_noisy, features_probend, features_probend_noisy]):\n",
    "    df = dfs[i]\n",
    "\n",
    "    X = df[xs].values\n",
    "    y = df['Normalized_Rank'].values\n",
    "\n",
    "    X = sm.add_constant(X)\n",
    "    model = sm.OLS(y, X).fit()\n",
    "    \n",
    "    table = model.summary2(xname=['constant'] + xs)\n",
    "    rs.append(table.tables[0][2][0] + table.tables[0][3][0])\n",
    "    table = table.tables[1][['Coef.', 'P>|t|']].round(5)\n",
    "    table.index = ['constant'] + [plot.features_labels[index] for index in table.index[1:]]\n",
    "    \n",
    "    tables.append(table)"
   ]
  },
  {
   "cell_type": "code",
   "execution_count": 158,
   "metadata": {},
   "outputs": [],
   "source": [
    "regression_table = pd.concat(tables, axis=1).round(3)"
   ]
  },
  {
   "cell_type": "code",
   "execution_count": 159,
   "metadata": {},
   "outputs": [],
   "source": [
    "file = open('../paper/regression_results_full_dataset.tex', \"w\")\n",
    "table_to_write = regression_table.to_latex().replace('\\$', '$').replace('\\_', '_').replace('NaN', '  -')\n",
    "file.write(table_to_write.replace('\\{', '{').replace('\\}', '}'))\n",
    "file.close()"
   ]
  },
  {
   "cell_type": "code",
   "execution_count": 161,
   "metadata": {
    "scrolled": true
   },
   "outputs": [
    {
     "data": {
      "text/plain": [
       "['Adj. R-squared:0.541',\n",
       " 'Adj. R-squared:0.588',\n",
       " 'Adj. R-squared:0.587',\n",
       " 'Adj. R-squared:0.471']"
      ]
     },
     "execution_count": 161,
     "metadata": {},
     "output_type": "execute_result"
    }
   ],
   "source": [
    "rs"
   ]
  },
  {
   "cell_type": "code",
   "execution_count": 162,
   "metadata": {},
   "outputs": [
    {
     "data": {
      "text/html": [
       "<div>\n",
       "<style scoped>\n",
       "    .dataframe tbody tr th:only-of-type {\n",
       "        vertical-align: middle;\n",
       "    }\n",
       "\n",
       "    .dataframe tbody tr th {\n",
       "        vertical-align: top;\n",
       "    }\n",
       "\n",
       "    .dataframe thead th {\n",
       "        text-align: right;\n",
       "    }\n",
       "</style>\n",
       "<table border=\"1\" class=\"dataframe\">\n",
       "  <thead>\n",
       "    <tr style=\"text-align: right;\">\n",
       "      <th></th>\n",
       "      <th>Coef.</th>\n",
       "      <th>P&gt;|t|</th>\n",
       "      <th>Coef.</th>\n",
       "      <th>P&gt;|t|</th>\n",
       "      <th>Coef.</th>\n",
       "      <th>P&gt;|t|</th>\n",
       "      <th>Coef.</th>\n",
       "      <th>P&gt;|t|</th>\n",
       "    </tr>\n",
       "  </thead>\n",
       "  <tbody>\n",
       "    <tr>\n",
       "      <th>constant</th>\n",
       "      <td>0.695</td>\n",
       "      <td>0.000</td>\n",
       "      <td>0.443</td>\n",
       "      <td>0.0</td>\n",
       "      <td>-0.057</td>\n",
       "      <td>0.018</td>\n",
       "      <td>0.004</td>\n",
       "      <td>0.031</td>\n",
       "    </tr>\n",
       "    <tr>\n",
       "      <th>$CC$ to $C$ rate</th>\n",
       "      <td>-0.042</td>\n",
       "      <td>0.000</td>\n",
       "      <td>0.150</td>\n",
       "      <td>0.0</td>\n",
       "      <td>0.017</td>\n",
       "      <td>0.000</td>\n",
       "      <td>0.197</td>\n",
       "      <td>0.000</td>\n",
       "    </tr>\n",
       "    <tr>\n",
       "      <th>$CD$ to $C$ rate</th>\n",
       "      <td>0.297</td>\n",
       "      <td>0.000</td>\n",
       "      <td>-0.034</td>\n",
       "      <td>0.0</td>\n",
       "      <td>0.182</td>\n",
       "      <td>0.000</td>\n",
       "      <td>0.022</td>\n",
       "      <td>0.000</td>\n",
       "    </tr>\n",
       "    <tr>\n",
       "      <th>$DC$ to $C$ rate</th>\n",
       "      <td>0.198</td>\n",
       "      <td>0.000</td>\n",
       "      <td>0.064</td>\n",
       "      <td>0.0</td>\n",
       "      <td>-0.030</td>\n",
       "      <td>0.000</td>\n",
       "      <td>0.090</td>\n",
       "      <td>0.000</td>\n",
       "    </tr>\n",
       "    <tr>\n",
       "      <th>SSE</th>\n",
       "      <td>0.258</td>\n",
       "      <td>0.000</td>\n",
       "      <td>0.237</td>\n",
       "      <td>0.0</td>\n",
       "      <td>-0.041</td>\n",
       "      <td>0.000</td>\n",
       "      <td>0.144</td>\n",
       "      <td>0.000</td>\n",
       "    </tr>\n",
       "    <tr>\n",
       "      <th>$C_{max}$</th>\n",
       "      <td>-0.068</td>\n",
       "      <td>0.000</td>\n",
       "      <td>NaN</td>\n",
       "      <td>NaN</td>\n",
       "      <td>-0.021</td>\n",
       "      <td>0.403</td>\n",
       "      <td>-0.090</td>\n",
       "      <td>0.000</td>\n",
       "    </tr>\n",
       "    <tr>\n",
       "      <th>$C_{min}$</th>\n",
       "      <td>-0.161</td>\n",
       "      <td>0.000</td>\n",
       "      <td>1.068</td>\n",
       "      <td>0.0</td>\n",
       "      <td>-0.170</td>\n",
       "      <td>0.000</td>\n",
       "      <td>NaN</td>\n",
       "      <td>NaN</td>\n",
       "    </tr>\n",
       "    <tr>\n",
       "      <th>$C_{mean}$</th>\n",
       "      <td>0.117</td>\n",
       "      <td>0.000</td>\n",
       "      <td>-0.722</td>\n",
       "      <td>0.0</td>\n",
       "      <td>-0.024</td>\n",
       "      <td>0.000</td>\n",
       "      <td>-0.112</td>\n",
       "      <td>0.000</td>\n",
       "    </tr>\n",
       "    <tr>\n",
       "      <th>$C_{min}$ / $C_r$</th>\n",
       "      <td>0.057</td>\n",
       "      <td>0.000</td>\n",
       "      <td>-0.544</td>\n",
       "      <td>0.0</td>\n",
       "      <td>0.125</td>\n",
       "      <td>0.000</td>\n",
       "      <td>NaN</td>\n",
       "      <td>NaN</td>\n",
       "    </tr>\n",
       "    <tr>\n",
       "      <th>$C_r$ / $C_{mean}$</th>\n",
       "      <td>-0.468</td>\n",
       "      <td>0.000</td>\n",
       "      <td>0.272</td>\n",
       "      <td>0.0</td>\n",
       "      <td>0.525</td>\n",
       "      <td>0.000</td>\n",
       "      <td>0.403</td>\n",
       "      <td>0.000</td>\n",
       "    </tr>\n",
       "    <tr>\n",
       "      <th>$k$</th>\n",
       "      <td>0.000</td>\n",
       "      <td>0.325</td>\n",
       "      <td>0.000</td>\n",
       "      <td>0.1</td>\n",
       "      <td>0.000</td>\n",
       "      <td>0.002</td>\n",
       "      <td>0.001</td>\n",
       "      <td>0.000</td>\n",
       "    </tr>\n",
       "    <tr>\n",
       "      <th>$n$</th>\n",
       "      <td>0.000</td>\n",
       "      <td>0.000</td>\n",
       "      <td>NaN</td>\n",
       "      <td>NaN</td>\n",
       "      <td>NaN</td>\n",
       "      <td>NaN</td>\n",
       "      <td>NaN</td>\n",
       "      <td>NaN</td>\n",
       "    </tr>\n",
       "    <tr>\n",
       "      <th>memory usage</th>\n",
       "      <td>-0.010</td>\n",
       "      <td>0.000</td>\n",
       "      <td>0.002</td>\n",
       "      <td>0.0</td>\n",
       "      <td>NaN</td>\n",
       "      <td>NaN</td>\n",
       "      <td>NaN</td>\n",
       "      <td>NaN</td>\n",
       "    </tr>\n",
       "    <tr>\n",
       "      <th>$p_n$</th>\n",
       "      <td>NaN</td>\n",
       "      <td>NaN</td>\n",
       "      <td>-0.039</td>\n",
       "      <td>0.0</td>\n",
       "      <td>NaN</td>\n",
       "      <td>NaN</td>\n",
       "      <td>NaN</td>\n",
       "      <td>NaN</td>\n",
       "    </tr>\n",
       "    <tr>\n",
       "      <th>$p_e$</th>\n",
       "      <td>NaN</td>\n",
       "      <td>NaN</td>\n",
       "      <td>NaN</td>\n",
       "      <td>NaN</td>\n",
       "      <td>0.000</td>\n",
       "      <td>0.757</td>\n",
       "      <td>-0.149</td>\n",
       "      <td>0.000</td>\n",
       "    </tr>\n",
       "  </tbody>\n",
       "</table>\n",
       "</div>"
      ],
      "text/plain": [
       "                    Coef.  P>|t|  Coef.  P>|t|  Coef.  P>|t|  Coef.  P>|t|\n",
       "constant            0.695  0.000  0.443    0.0 -0.057  0.018  0.004  0.031\n",
       "$CC$ to $C$ rate   -0.042  0.000  0.150    0.0  0.017  0.000  0.197  0.000\n",
       "$CD$ to $C$ rate    0.297  0.000 -0.034    0.0  0.182  0.000  0.022  0.000\n",
       "$DC$ to $C$ rate    0.198  0.000  0.064    0.0 -0.030  0.000  0.090  0.000\n",
       "SSE                 0.258  0.000  0.237    0.0 -0.041  0.000  0.144  0.000\n",
       "$C_{max}$          -0.068  0.000    NaN    NaN -0.021  0.403 -0.090  0.000\n",
       "$C_{min}$          -0.161  0.000  1.068    0.0 -0.170  0.000    NaN    NaN\n",
       "$C_{mean}$          0.117  0.000 -0.722    0.0 -0.024  0.000 -0.112  0.000\n",
       "$C_{min}$ / $C_r$   0.057  0.000 -0.544    0.0  0.125  0.000    NaN    NaN\n",
       "$C_r$ / $C_{mean}$ -0.468  0.000  0.272    0.0  0.525  0.000  0.403  0.000\n",
       "$k$                 0.000  0.325  0.000    0.1  0.000  0.002  0.001  0.000\n",
       "$n$                 0.000  0.000    NaN    NaN    NaN    NaN    NaN    NaN\n",
       "memory usage       -0.010  0.000  0.002    0.0    NaN    NaN    NaN    NaN\n",
       "$p_n$                 NaN    NaN -0.039    0.0    NaN    NaN    NaN    NaN\n",
       "$p_e$                 NaN    NaN    NaN    NaN  0.000  0.757 -0.149  0.000"
      ]
     },
     "execution_count": 162,
     "metadata": {},
     "output_type": "execute_result"
    }
   ],
   "source": [
    "regression_table"
   ]
  },
  {
   "cell_type": "code",
   "execution_count": null,
   "metadata": {},
   "outputs": [],
   "source": []
  }
 ],
 "metadata": {
  "kernelspec": {
   "display_name": "Python 3",
   "language": "python",
   "name": "python3"
  },
  "language_info": {
   "codemirror_mode": {
    "name": "ipython",
    "version": 3
   },
   "file_extension": ".py",
   "mimetype": "text/x-python",
   "name": "python",
   "nbconvert_exporter": "python",
   "pygments_lexer": "ipython3",
   "version": "3.11.3"
  }
 },
 "nbformat": 4,
 "nbformat_minor": 2
}
