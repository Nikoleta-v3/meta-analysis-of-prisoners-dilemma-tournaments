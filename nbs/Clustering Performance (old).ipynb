{
 "cells": [
  {
   "cell_type": "code",
   "execution_count": 5,
   "metadata": {},
   "outputs": [],
   "source": [
    "import numpy as np\n",
    "import pandas as pd\n",
    "\n",
    "import dask.dataframe as dd\n",
    "import dask_ml.cluster\n",
    "\n",
    "from sklearn.cluster import KMeans\n",
    "from sklearn.metrics import silhouette_samples, silhouette_score"
   ]
  },
  {
   "cell_type": "code",
   "execution_count": 6,
   "metadata": {},
   "outputs": [],
   "source": [
    "import matplotlib.pyplot as plt"
   ]
  },
  {
   "cell_type": "code",
   "execution_count": 7,
   "metadata": {},
   "outputs": [],
   "source": [
    "df = pd.read_csv('../data/standard_with_extra.csv')"
   ]
  },
  {
   "cell_type": "code",
   "execution_count": 9,
   "metadata": {},
   "outputs": [],
   "source": [
    "ddf = dd.read_csv('../data/standard_with_extra.csv').set_index('Unnamed: 0')"
   ]
  },
  {
   "cell_type": "code",
   "execution_count": 10,
   "metadata": {},
   "outputs": [
    {
     "data": {
      "text/plain": [
       "Index(['Unnamed: 0.1', 'Rank', 'Name', 'Median_score', 'Cooperation_rating',\n",
       "       'Wins', 'Initial_C_rate', 'CC_rate', 'CD_rate', 'DC_rate', 'DD_rate',\n",
       "       'CC_to_C_rate', 'CD_to_C_rate', 'DC_to_C_rate', 'DD_to_C_rate', 'turns',\n",
       "       'repetitions', 'size', 'seed', 'SSeeror', 'Stochastic', 'Memory_depth',\n",
       "       'Makes_use_of_game', 'Makes_use_of_length', 'Normalized_Rank'],\n",
       "      dtype='object')"
      ]
     },
     "execution_count": 10,
     "metadata": {},
     "output_type": "execute_result"
    }
   ],
   "source": [
    "ddf.columns"
   ]
  },
  {
   "cell_type": "markdown",
   "metadata": {},
   "source": [
    "**First classification**"
   ]
  },
  {
   "cell_type": "code",
   "execution_count": 11,
   "metadata": {},
   "outputs": [],
   "source": [
    "columns_first_classification = ['CC_rate', 'CC_to_C_rate', 'CD_rate',\n",
    "       'CD_to_C_rate', 'Cooperation_rating', 'DC_rate', 'DC_to_C_rate',\n",
    "       'DD_rate', 'DD_to_C_rate', 'Initial_C_rate', 'Median_score',\n",
    "       'repetitions', 'seed', 'size',\n",
    "       'turns', 'SSeeror']"
   ]
  },
  {
   "cell_type": "code",
   "execution_count": 13,
   "metadata": {},
   "outputs": [],
   "source": [
    "data = ddf[columns_first_classification].compute() #.as_matrix()"
   ]
  },
  {
   "cell_type": "code",
   "execution_count": 15,
   "metadata": {},
   "outputs": [
    {
     "ename": "TypeError",
     "evalue": "Column assignment doesn't support type Array",
     "output_type": "error",
     "traceback": [
      "\u001b[0;31m---------------------------------------------------------------------------\u001b[0m",
      "\u001b[0;31mTypeError\u001b[0m                                 Traceback (most recent call last)",
      "\u001b[0;32m<ipython-input-15-b0d466fd1ff4>\u001b[0m in \u001b[0;36m<module>\u001b[0;34m()\u001b[0m\n\u001b[1;32m      1\u001b[0m \u001b[0;32mfor\u001b[0m \u001b[0mn_clusters\u001b[0m \u001b[0;32min\u001b[0m \u001b[0mrange\u001b[0m\u001b[0;34m(\u001b[0m\u001b[0;36m4\u001b[0m\u001b[0;34m,\u001b[0m \u001b[0;36m10\u001b[0m\u001b[0;34m)\u001b[0m\u001b[0;34m:\u001b[0m\u001b[0;34m\u001b[0m\u001b[0m\n\u001b[1;32m      2\u001b[0m     \u001b[0mkmeans\u001b[0m \u001b[0;34m=\u001b[0m \u001b[0mdask_ml\u001b[0m\u001b[0;34m.\u001b[0m\u001b[0mcluster\u001b[0m\u001b[0;34m.\u001b[0m\u001b[0mKMeans\u001b[0m\u001b[0;34m(\u001b[0m\u001b[0mn_clusters\u001b[0m\u001b[0;34m=\u001b[0m\u001b[0mn_clusters\u001b[0m\u001b[0;34m,\u001b[0m \u001b[0mrandom_state\u001b[0m\u001b[0;34m=\u001b[0m\u001b[0;36m0\u001b[0m\u001b[0;34m)\u001b[0m\u001b[0;34m.\u001b[0m\u001b[0mfit\u001b[0m\u001b[0;34m(\u001b[0m\u001b[0mdata\u001b[0m\u001b[0;34m)\u001b[0m\u001b[0;34m\u001b[0m\u001b[0m\n\u001b[0;32m----> 3\u001b[0;31m     \u001b[0mddf\u001b[0m\u001b[0;34m[\u001b[0m\u001b[0;34m'Clusters: n = %s'\u001b[0m \u001b[0;34m%\u001b[0m \u001b[0mn_clusters\u001b[0m\u001b[0;34m]\u001b[0m \u001b[0;34m=\u001b[0m \u001b[0mkmeans\u001b[0m\u001b[0;34m.\u001b[0m\u001b[0mlabels_\u001b[0m\u001b[0;34m\u001b[0m\u001b[0m\n\u001b[0m",
      "\u001b[0;32m~/anaconda3/envs/axlml/lib/python3.5/site-packages/dask/dataframe/core.py\u001b[0m in \u001b[0;36m__setitem__\u001b[0;34m(self, key, value)\u001b[0m\n\u001b[1;32m   2605\u001b[0m             \u001b[0mdf\u001b[0m \u001b[0;34m=\u001b[0m \u001b[0mself\u001b[0m\u001b[0;34m.\u001b[0m\u001b[0massign\u001b[0m\u001b[0;34m(\u001b[0m\u001b[0;34m**\u001b[0m\u001b[0;34m{\u001b[0m\u001b[0mk\u001b[0m\u001b[0;34m:\u001b[0m \u001b[0mvalue\u001b[0m \u001b[0;32mfor\u001b[0m \u001b[0mk\u001b[0m \u001b[0;32min\u001b[0m \u001b[0mkey\u001b[0m\u001b[0;34m}\u001b[0m\u001b[0;34m)\u001b[0m\u001b[0;34m\u001b[0m\u001b[0m\n\u001b[1;32m   2606\u001b[0m         \u001b[0;32melse\u001b[0m\u001b[0;34m:\u001b[0m\u001b[0;34m\u001b[0m\u001b[0m\n\u001b[0;32m-> 2607\u001b[0;31m             \u001b[0mdf\u001b[0m \u001b[0;34m=\u001b[0m \u001b[0mself\u001b[0m\u001b[0;34m.\u001b[0m\u001b[0massign\u001b[0m\u001b[0;34m(\u001b[0m\u001b[0;34m**\u001b[0m\u001b[0;34m{\u001b[0m\u001b[0mkey\u001b[0m\u001b[0;34m:\u001b[0m \u001b[0mvalue\u001b[0m\u001b[0;34m}\u001b[0m\u001b[0;34m)\u001b[0m\u001b[0;34m\u001b[0m\u001b[0m\n\u001b[0m\u001b[1;32m   2608\u001b[0m \u001b[0;34m\u001b[0m\u001b[0m\n\u001b[1;32m   2609\u001b[0m         \u001b[0mself\u001b[0m\u001b[0;34m.\u001b[0m\u001b[0mdask\u001b[0m \u001b[0;34m=\u001b[0m \u001b[0mdf\u001b[0m\u001b[0;34m.\u001b[0m\u001b[0mdask\u001b[0m\u001b[0;34m\u001b[0m\u001b[0m\n",
      "\u001b[0;32m~/anaconda3/envs/axlml/lib/python3.5/site-packages/dask/dataframe/core.py\u001b[0m in \u001b[0;36massign\u001b[0;34m(self, **kwargs)\u001b[0m\n\u001b[1;32m   2801\u001b[0m                     is_index_like(v)):\n\u001b[1;32m   2802\u001b[0m                 raise TypeError(\"Column assignment doesn't support type \"\n\u001b[0;32m-> 2803\u001b[0;31m                                 \"{0}\".format(type(v).__name__))\n\u001b[0m\u001b[1;32m   2804\u001b[0m             \u001b[0;32mif\u001b[0m \u001b[0mcallable\u001b[0m\u001b[0;34m(\u001b[0m\u001b[0mv\u001b[0m\u001b[0;34m)\u001b[0m\u001b[0;34m:\u001b[0m\u001b[0;34m\u001b[0m\u001b[0m\n\u001b[1;32m   2805\u001b[0m                 \u001b[0mkwargs\u001b[0m\u001b[0;34m[\u001b[0m\u001b[0mk\u001b[0m\u001b[0;34m]\u001b[0m \u001b[0;34m=\u001b[0m \u001b[0mv\u001b[0m\u001b[0;34m(\u001b[0m\u001b[0mself\u001b[0m\u001b[0;34m)\u001b[0m\u001b[0;34m\u001b[0m\u001b[0m\n",
      "\u001b[0;31mTypeError\u001b[0m: Column assignment doesn't support type Array"
     ]
    }
   ],
   "source": [
    "for n_clusters in range(4, 10):\n",
    "    kmeans = dask_ml.cluster.KMeans(n_clusters=n_clusters, random_state=0).fit(data)\n",
    "    ddf['Clusters: n = %s' % n_clusters] = kmeans.labels_"
   ]
  },
  {
   "cell_type": "code",
   "execution_count": 18,
   "metadata": {},
   "outputs": [],
   "source": [
    "labels = dd.from_array(kmeans.labels_)"
   ]
  },
  {
   "cell_type": "code",
   "execution_count": 21,
   "metadata": {},
   "outputs": [
    {
     "ename": "SyntaxError",
     "evalue": "keyword can't be an expression (<ipython-input-21-c97556d8f8a8>, line 1)",
     "output_type": "error",
     "traceback": [
      "\u001b[0;36m  File \u001b[0;32m\"<ipython-input-21-c97556d8f8a8>\"\u001b[0;36m, line \u001b[0;32m1\u001b[0m\n\u001b[0;31m    ddf.assign('labels'=labels)\u001b[0m\n\u001b[0m              ^\u001b[0m\n\u001b[0;31mSyntaxError\u001b[0m\u001b[0;31m:\u001b[0m keyword can't be an expression\n"
     ]
    }
   ],
   "source": [
    "ddf.assign(labels=labels)"
   ]
  },
  {
   "cell_type": "code",
   "execution_count": 107,
   "metadata": {},
   "outputs": [
    {
     "data": {
      "text/html": [
       "<div>\n",
       "<style scoped>\n",
       "    .dataframe tbody tr th:only-of-type {\n",
       "        vertical-align: middle;\n",
       "    }\n",
       "\n",
       "    .dataframe tbody tr th {\n",
       "        vertical-align: top;\n",
       "    }\n",
       "\n",
       "    .dataframe thead th {\n",
       "        text-align: right;\n",
       "    }\n",
       "</style>\n",
       "<table border=\"1\" class=\"dataframe\">\n",
       "  <thead>\n",
       "    <tr style=\"text-align: right;\">\n",
       "      <th></th>\n",
       "      <th>Normalized_Rank</th>\n",
       "      <th>Median_score</th>\n",
       "      <th>Cooperation_rating</th>\n",
       "      <th>Wins</th>\n",
       "    </tr>\n",
       "    <tr>\n",
       "      <th>Clusters: n = 4</th>\n",
       "      <th></th>\n",
       "      <th></th>\n",
       "      <th></th>\n",
       "      <th></th>\n",
       "    </tr>\n",
       "  </thead>\n",
       "  <tbody>\n",
       "    <tr>\n",
       "      <th>0</th>\n",
       "      <td>0.500729</td>\n",
       "      <td>2.386161</td>\n",
       "      <td>0.628737</td>\n",
       "      <td>37.932549</td>\n",
       "    </tr>\n",
       "    <tr>\n",
       "      <th>1</th>\n",
       "      <td>0.499908</td>\n",
       "      <td>2.391406</td>\n",
       "      <td>0.630768</td>\n",
       "      <td>37.581736</td>\n",
       "    </tr>\n",
       "    <tr>\n",
       "      <th>2</th>\n",
       "      <td>0.500213</td>\n",
       "      <td>2.386567</td>\n",
       "      <td>0.629147</td>\n",
       "      <td>38.762468</td>\n",
       "    </tr>\n",
       "    <tr>\n",
       "      <th>3</th>\n",
       "      <td>0.500000</td>\n",
       "      <td>2.379261</td>\n",
       "      <td>0.625390</td>\n",
       "      <td>42.834836</td>\n",
       "    </tr>\n",
       "  </tbody>\n",
       "</table>\n",
       "</div>"
      ],
      "text/plain": [
       "                 Normalized_Rank  Median_score  Cooperation_rating       Wins\n",
       "Clusters: n = 4                                                              \n",
       "0                       0.500729      2.386161            0.628737  37.932549\n",
       "1                       0.499908      2.391406            0.630768  37.581736\n",
       "2                       0.500213      2.386567            0.629147  38.762468\n",
       "3                       0.500000      2.379261            0.625390  42.834836"
      ]
     },
     "execution_count": 107,
     "metadata": {},
     "output_type": "execute_result"
    }
   ],
   "source": [
    "df.groupby('Clusters: n = 4')['Normalized_Rank', \"Median_score\", \"Cooperation_rating\", \"Wins\"].mean()"
   ]
  },
  {
   "cell_type": "code",
   "execution_count": 50,
   "metadata": {},
   "outputs": [
    {
     "data": {
      "text/html": [
       "<div>\n",
       "<style scoped>\n",
       "    .dataframe tbody tr th:only-of-type {\n",
       "        vertical-align: middle;\n",
       "    }\n",
       "\n",
       "    .dataframe tbody tr th {\n",
       "        vertical-align: top;\n",
       "    }\n",
       "\n",
       "    .dataframe thead th {\n",
       "        text-align: right;\n",
       "    }\n",
       "</style>\n",
       "<table border=\"1\" class=\"dataframe\">\n",
       "  <thead>\n",
       "    <tr style=\"text-align: right;\">\n",
       "      <th></th>\n",
       "      <th>Normalized_Rank</th>\n",
       "      <th>Median_score</th>\n",
       "      <th>Cooperation_rating</th>\n",
       "      <th>Wins</th>\n",
       "    </tr>\n",
       "    <tr>\n",
       "      <th>Clusters: n = 4</th>\n",
       "      <th></th>\n",
       "      <th></th>\n",
       "      <th></th>\n",
       "      <th></th>\n",
       "    </tr>\n",
       "  </thead>\n",
       "  <tbody>\n",
       "    <tr>\n",
       "      <th>0</th>\n",
       "      <td>0.5</td>\n",
       "      <td>2.491523</td>\n",
       "      <td>0.682634</td>\n",
       "      <td>29.0</td>\n",
       "    </tr>\n",
       "    <tr>\n",
       "      <th>1</th>\n",
       "      <td>0.5</td>\n",
       "      <td>2.492253</td>\n",
       "      <td>0.683606</td>\n",
       "      <td>29.0</td>\n",
       "    </tr>\n",
       "    <tr>\n",
       "      <th>2</th>\n",
       "      <td>0.5</td>\n",
       "      <td>2.493553</td>\n",
       "      <td>0.683954</td>\n",
       "      <td>31.0</td>\n",
       "    </tr>\n",
       "    <tr>\n",
       "      <th>3</th>\n",
       "      <td>0.5</td>\n",
       "      <td>2.497175</td>\n",
       "      <td>0.678746</td>\n",
       "      <td>34.0</td>\n",
       "    </tr>\n",
       "  </tbody>\n",
       "</table>\n",
       "</div>"
      ],
      "text/plain": [
       "                 Normalized_Rank  Median_score  Cooperation_rating  Wins\n",
       "Clusters: n = 4                                                         \n",
       "0                            0.5      2.491523            0.682634  29.0\n",
       "1                            0.5      2.492253            0.683606  29.0\n",
       "2                            0.5      2.493553            0.683954  31.0\n",
       "3                            0.5      2.497175            0.678746  34.0"
      ]
     },
     "execution_count": 50,
     "metadata": {},
     "output_type": "execute_result"
    }
   ],
   "source": [
    "df.groupby('Clusters: n = 4')['Normalized_Rank', \"Median_score\", \"Cooperation_rating\", \"Wins\"].median()"
   ]
  },
  {
   "cell_type": "code",
   "execution_count": 51,
   "metadata": {},
   "outputs": [
    {
     "data": {
      "text/html": [
       "<div>\n",
       "<style scoped>\n",
       "    .dataframe tbody tr th:only-of-type {\n",
       "        vertical-align: middle;\n",
       "    }\n",
       "\n",
       "    .dataframe tbody tr th {\n",
       "        vertical-align: top;\n",
       "    }\n",
       "\n",
       "    .dataframe thead th {\n",
       "        text-align: right;\n",
       "    }\n",
       "</style>\n",
       "<table border=\"1\" class=\"dataframe\">\n",
       "  <thead>\n",
       "    <tr style=\"text-align: right;\">\n",
       "      <th></th>\n",
       "      <th>Normalized_Rank</th>\n",
       "      <th>Median_score</th>\n",
       "      <th>Cooperation_rating</th>\n",
       "      <th>Wins</th>\n",
       "    </tr>\n",
       "    <tr>\n",
       "      <th>Clusters: n = 4</th>\n",
       "      <th></th>\n",
       "      <th></th>\n",
       "      <th></th>\n",
       "      <th></th>\n",
       "    </tr>\n",
       "  </thead>\n",
       "  <tbody>\n",
       "    <tr>\n",
       "      <th>0</th>\n",
       "      <td>0.0</td>\n",
       "      <td>0.071066</td>\n",
       "      <td>0.0</td>\n",
       "      <td>0.0</td>\n",
       "    </tr>\n",
       "    <tr>\n",
       "      <th>1</th>\n",
       "      <td>0.0</td>\n",
       "      <td>1.151031</td>\n",
       "      <td>0.0</td>\n",
       "      <td>0.0</td>\n",
       "    </tr>\n",
       "    <tr>\n",
       "      <th>2</th>\n",
       "      <td>0.0</td>\n",
       "      <td>1.041545</td>\n",
       "      <td>0.0</td>\n",
       "      <td>0.0</td>\n",
       "    </tr>\n",
       "    <tr>\n",
       "      <th>3</th>\n",
       "      <td>0.0</td>\n",
       "      <td>1.166667</td>\n",
       "      <td>0.0</td>\n",
       "      <td>0.0</td>\n",
       "    </tr>\n",
       "  </tbody>\n",
       "</table>\n",
       "</div>"
      ],
      "text/plain": [
       "                 Normalized_Rank  Median_score  Cooperation_rating  Wins\n",
       "Clusters: n = 4                                                         \n",
       "0                            0.0      0.071066                 0.0   0.0\n",
       "1                            0.0      1.151031                 0.0   0.0\n",
       "2                            0.0      1.041545                 0.0   0.0\n",
       "3                            0.0      1.166667                 0.0   0.0"
      ]
     },
     "execution_count": 51,
     "metadata": {},
     "output_type": "execute_result"
    }
   ],
   "source": [
    "df.groupby('Clusters: n = 4')['Normalized_Rank', \"Median_score\", \"Cooperation_rating\", \"Wins\"].min()"
   ]
  },
  {
   "cell_type": "code",
   "execution_count": 52,
   "metadata": {},
   "outputs": [
    {
     "data": {
      "text/html": [
       "<div>\n",
       "<style scoped>\n",
       "    .dataframe tbody tr th:only-of-type {\n",
       "        vertical-align: middle;\n",
       "    }\n",
       "\n",
       "    .dataframe tbody tr th {\n",
       "        vertical-align: top;\n",
       "    }\n",
       "\n",
       "    .dataframe thead th {\n",
       "        text-align: right;\n",
       "    }\n",
       "</style>\n",
       "<table border=\"1\" class=\"dataframe\">\n",
       "  <thead>\n",
       "    <tr style=\"text-align: right;\">\n",
       "      <th></th>\n",
       "      <th>Normalized_Rank</th>\n",
       "      <th>Median_score</th>\n",
       "      <th>Cooperation_rating</th>\n",
       "      <th>Wins</th>\n",
       "    </tr>\n",
       "    <tr>\n",
       "      <th>Clusters: n = 4</th>\n",
       "      <th></th>\n",
       "      <th></th>\n",
       "      <th></th>\n",
       "      <th></th>\n",
       "    </tr>\n",
       "  </thead>\n",
       "  <tbody>\n",
       "    <tr>\n",
       "      <th>0</th>\n",
       "      <td>3.730769</td>\n",
       "      <td>4.459459</td>\n",
       "      <td>1.0</td>\n",
       "      <td>181.0</td>\n",
       "    </tr>\n",
       "    <tr>\n",
       "      <th>1</th>\n",
       "      <td>1.000000</td>\n",
       "      <td>4.567568</td>\n",
       "      <td>1.0</td>\n",
       "      <td>181.0</td>\n",
       "    </tr>\n",
       "    <tr>\n",
       "      <th>2</th>\n",
       "      <td>1.838710</td>\n",
       "      <td>5.000000</td>\n",
       "      <td>1.0</td>\n",
       "      <td>180.0</td>\n",
       "    </tr>\n",
       "    <tr>\n",
       "      <th>3</th>\n",
       "      <td>1.000000</td>\n",
       "      <td>5.000000</td>\n",
       "      <td>1.0</td>\n",
       "      <td>181.0</td>\n",
       "    </tr>\n",
       "  </tbody>\n",
       "</table>\n",
       "</div>"
      ],
      "text/plain": [
       "                 Normalized_Rank  Median_score  Cooperation_rating   Wins\n",
       "Clusters: n = 4                                                          \n",
       "0                       3.730769      4.459459                 1.0  181.0\n",
       "1                       1.000000      4.567568                 1.0  181.0\n",
       "2                       1.838710      5.000000                 1.0  180.0\n",
       "3                       1.000000      5.000000                 1.0  181.0"
      ]
     },
     "execution_count": 52,
     "metadata": {},
     "output_type": "execute_result"
    }
   ],
   "source": [
    "df.groupby('Clusters: n = 4')['Normalized_Rank', \"Median_score\", \"Cooperation_rating\", \"Wins\"].max()"
   ]
  },
  {
   "cell_type": "code",
   "execution_count": 86,
   "metadata": {},
   "outputs": [],
   "source": [
    "strategy = 'Tit For Tat'\n",
    "n_clusters = 4"
   ]
  },
  {
   "cell_type": "code",
   "execution_count": 87,
   "metadata": {},
   "outputs": [
    {
     "data": {
      "text/plain": [
       "Clusters: n = 4\n",
       "0    2021\n",
       "1    1232\n",
       "2    1602\n",
       "3     988\n",
       "Name: Clusters: n = 4, dtype: int64"
      ]
     },
     "execution_count": 87,
     "metadata": {},
     "output_type": "execute_result"
    }
   ],
   "source": [
    "df[df['Name'] == strategy].groupby('Clusters: n = %s' %n_clusters)['Clusters: n = %s' %n_clusters].count()"
   ]
  },
  {
   "cell_type": "code",
   "execution_count": 88,
   "metadata": {},
   "outputs": [
    {
     "data": {
      "image/png": "[encoded data removed]",
      "text/plain": [
       "<Figure size 432x288 with 1 Axes>"
      ]
     },
     "metadata": {},
     "output_type": "display_data"
    }
   ],
   "source": [
    "plt.figure()\n",
    "plt.hist(df[df['Name'] == 'Tit For Tat']['Clusters: n = 4']);\n",
    "\n",
    "plt.xticks(range(n_clusters), range(n_clusters));"
   ]
  },
  {
   "cell_type": "markdown",
   "metadata": {},
   "source": [
    "**Second Classification**"
   ]
  },
  {
   "cell_type": "code",
   "execution_count": 104,
   "metadata": {},
   "outputs": [],
   "source": [
    "columns_second_classification = ['CC_rate', 'CC_to_C_rate', 'CD_rate',\n",
    "       'CD_to_C_rate', 'Cooperation_rating', 'DC_rate', 'DC_to_C_rate',\n",
    "       'DD_rate', 'DD_to_C_rate', 'Initial_C_rate', 'Median_score',\n",
    "       'repetitions', 'seed', 'size',\n",
    "       'turns', 'SSeeror', 'Stochastic',  'Makes_use_of_game',\n",
    "       'Makes_use_of_length']"
   ]
  },
  {
   "cell_type": "code",
   "execution_count": 105,
   "metadata": {},
   "outputs": [],
   "source": [
    "second_data = df[columns_second_classification].as_matrix()"
   ]
  },
  {
   "cell_type": "code",
   "execution_count": 106,
   "metadata": {},
   "outputs": [],
   "source": [
    "for n_clusters in range(4, 11):\n",
    "    kmeans = KMeans(n_clusters=n_clusters, random_state=0).fit(second_data)\n",
    "    df['Second Clusters: n = %s' % n_clusters] = kmeans.labels_"
   ]
  },
  {
   "cell_type": "code",
   "execution_count": 110,
   "metadata": {},
   "outputs": [
    {
     "data": {
      "text/html": [
       "<div>\n",
       "<style scoped>\n",
       "    .dataframe tbody tr th:only-of-type {\n",
       "        vertical-align: middle;\n",
       "    }\n",
       "\n",
       "    .dataframe tbody tr th {\n",
       "        vertical-align: top;\n",
       "    }\n",
       "\n",
       "    .dataframe thead th {\n",
       "        text-align: right;\n",
       "    }\n",
       "</style>\n",
       "<table border=\"1\" class=\"dataframe\">\n",
       "  <thead>\n",
       "    <tr style=\"text-align: right;\">\n",
       "      <th></th>\n",
       "      <th>Normalized_Rank</th>\n",
       "      <th>Median_score</th>\n",
       "      <th>Cooperation_rating</th>\n",
       "      <th>Wins</th>\n",
       "    </tr>\n",
       "    <tr>\n",
       "      <th>Second Clusters: n = 4</th>\n",
       "      <th></th>\n",
       "      <th></th>\n",
       "      <th></th>\n",
       "      <th></th>\n",
       "    </tr>\n",
       "  </thead>\n",
       "  <tbody>\n",
       "    <tr>\n",
       "      <th>0</th>\n",
       "      <td>0.5</td>\n",
       "      <td>2.491523</td>\n",
       "      <td>0.682634</td>\n",
       "      <td>29.0</td>\n",
       "    </tr>\n",
       "    <tr>\n",
       "      <th>1</th>\n",
       "      <td>0.5</td>\n",
       "      <td>2.492253</td>\n",
       "      <td>0.683606</td>\n",
       "      <td>29.0</td>\n",
       "    </tr>\n",
       "    <tr>\n",
       "      <th>2</th>\n",
       "      <td>0.5</td>\n",
       "      <td>2.493553</td>\n",
       "      <td>0.683954</td>\n",
       "      <td>31.0</td>\n",
       "    </tr>\n",
       "    <tr>\n",
       "      <th>3</th>\n",
       "      <td>0.5</td>\n",
       "      <td>2.497175</td>\n",
       "      <td>0.678746</td>\n",
       "      <td>34.0</td>\n",
       "    </tr>\n",
       "  </tbody>\n",
       "</table>\n",
       "</div>"
      ],
      "text/plain": [
       "                        Normalized_Rank  Median_score  Cooperation_rating  \\\n",
       "Second Clusters: n = 4                                                      \n",
       "0                                   0.5      2.491523            0.682634   \n",
       "1                                   0.5      2.492253            0.683606   \n",
       "2                                   0.5      2.493553            0.683954   \n",
       "3                                   0.5      2.497175            0.678746   \n",
       "\n",
       "                        Wins  \n",
       "Second Clusters: n = 4        \n",
       "0                       29.0  \n",
       "1                       29.0  \n",
       "2                       31.0  \n",
       "3                       34.0  "
      ]
     },
     "execution_count": 110,
     "metadata": {},
     "output_type": "execute_result"
    }
   ],
   "source": [
    "df.groupby('Second Clusters: n = 4')['Normalized_Rank', \"Median_score\", \"Cooperation_rating\", \"Wins\"].median()"
   ]
  },
  {
   "cell_type": "code",
   "execution_count": 111,
   "metadata": {},
   "outputs": [
    {
     "data": {
      "text/html": [
       "<div>\n",
       "<style scoped>\n",
       "    .dataframe tbody tr th:only-of-type {\n",
       "        vertical-align: middle;\n",
       "    }\n",
       "\n",
       "    .dataframe tbody tr th {\n",
       "        vertical-align: top;\n",
       "    }\n",
       "\n",
       "    .dataframe thead th {\n",
       "        text-align: right;\n",
       "    }\n",
       "</style>\n",
       "<table border=\"1\" class=\"dataframe\">\n",
       "  <thead>\n",
       "    <tr style=\"text-align: right;\">\n",
       "      <th></th>\n",
       "      <th>Normalized_Rank</th>\n",
       "      <th>Median_score</th>\n",
       "      <th>Cooperation_rating</th>\n",
       "      <th>Wins</th>\n",
       "    </tr>\n",
       "    <tr>\n",
       "      <th>Second Clusters: n = 4</th>\n",
       "      <th></th>\n",
       "      <th></th>\n",
       "      <th></th>\n",
       "      <th></th>\n",
       "    </tr>\n",
       "  </thead>\n",
       "  <tbody>\n",
       "    <tr>\n",
       "      <th>0</th>\n",
       "      <td>0.500729</td>\n",
       "      <td>2.386161</td>\n",
       "      <td>0.628737</td>\n",
       "      <td>37.932549</td>\n",
       "    </tr>\n",
       "    <tr>\n",
       "      <th>1</th>\n",
       "      <td>0.499908</td>\n",
       "      <td>2.391406</td>\n",
       "      <td>0.630768</td>\n",
       "      <td>37.581736</td>\n",
       "    </tr>\n",
       "    <tr>\n",
       "      <th>2</th>\n",
       "      <td>0.500213</td>\n",
       "      <td>2.386567</td>\n",
       "      <td>0.629147</td>\n",
       "      <td>38.762468</td>\n",
       "    </tr>\n",
       "    <tr>\n",
       "      <th>3</th>\n",
       "      <td>0.500000</td>\n",
       "      <td>2.379261</td>\n",
       "      <td>0.625390</td>\n",
       "      <td>42.834836</td>\n",
       "    </tr>\n",
       "  </tbody>\n",
       "</table>\n",
       "</div>"
      ],
      "text/plain": [
       "                        Normalized_Rank  Median_score  Cooperation_rating  \\\n",
       "Second Clusters: n = 4                                                      \n",
       "0                              0.500729      2.386161            0.628737   \n",
       "1                              0.499908      2.391406            0.630768   \n",
       "2                              0.500213      2.386567            0.629147   \n",
       "3                              0.500000      2.379261            0.625390   \n",
       "\n",
       "                             Wins  \n",
       "Second Clusters: n = 4             \n",
       "0                       37.932549  \n",
       "1                       37.581736  \n",
       "2                       38.762468  \n",
       "3                       42.834836  "
      ]
     },
     "execution_count": 111,
     "metadata": {},
     "output_type": "execute_result"
    }
   ],
   "source": [
    "df.groupby('Second Clusters: n = 4')['Normalized_Rank', \"Median_score\", \"Cooperation_rating\", \"Wins\"].mean()"
   ]
  },
  {
   "cell_type": "code",
   "execution_count": 112,
   "metadata": {},
   "outputs": [
    {
     "data": {
      "text/html": [
       "<div>\n",
       "<style scoped>\n",
       "    .dataframe tbody tr th:only-of-type {\n",
       "        vertical-align: middle;\n",
       "    }\n",
       "\n",
       "    .dataframe tbody tr th {\n",
       "        vertical-align: top;\n",
       "    }\n",
       "\n",
       "    .dataframe thead th {\n",
       "        text-align: right;\n",
       "    }\n",
       "</style>\n",
       "<table border=\"1\" class=\"dataframe\">\n",
       "  <thead>\n",
       "    <tr style=\"text-align: right;\">\n",
       "      <th></th>\n",
       "      <th>Normalized_Rank</th>\n",
       "      <th>Median_score</th>\n",
       "      <th>Cooperation_rating</th>\n",
       "      <th>Wins</th>\n",
       "    </tr>\n",
       "    <tr>\n",
       "      <th>Second Clusters: n = 4</th>\n",
       "      <th></th>\n",
       "      <th></th>\n",
       "      <th></th>\n",
       "      <th></th>\n",
       "    </tr>\n",
       "  </thead>\n",
       "  <tbody>\n",
       "    <tr>\n",
       "      <th>0</th>\n",
       "      <td>0.0</td>\n",
       "      <td>0.071066</td>\n",
       "      <td>0.0</td>\n",
       "      <td>0.0</td>\n",
       "    </tr>\n",
       "    <tr>\n",
       "      <th>1</th>\n",
       "      <td>0.0</td>\n",
       "      <td>1.151031</td>\n",
       "      <td>0.0</td>\n",
       "      <td>0.0</td>\n",
       "    </tr>\n",
       "    <tr>\n",
       "      <th>2</th>\n",
       "      <td>0.0</td>\n",
       "      <td>1.041545</td>\n",
       "      <td>0.0</td>\n",
       "      <td>0.0</td>\n",
       "    </tr>\n",
       "    <tr>\n",
       "      <th>3</th>\n",
       "      <td>0.0</td>\n",
       "      <td>1.166667</td>\n",
       "      <td>0.0</td>\n",
       "      <td>0.0</td>\n",
       "    </tr>\n",
       "  </tbody>\n",
       "</table>\n",
       "</div>"
      ],
      "text/plain": [
       "                        Normalized_Rank  Median_score  Cooperation_rating  \\\n",
       "Second Clusters: n = 4                                                      \n",
       "0                                   0.0      0.071066                 0.0   \n",
       "1                                   0.0      1.151031                 0.0   \n",
       "2                                   0.0      1.041545                 0.0   \n",
       "3                                   0.0      1.166667                 0.0   \n",
       "\n",
       "                        Wins  \n",
       "Second Clusters: n = 4        \n",
       "0                        0.0  \n",
       "1                        0.0  \n",
       "2                        0.0  \n",
       "3                        0.0  "
      ]
     },
     "execution_count": 112,
     "metadata": {},
     "output_type": "execute_result"
    }
   ],
   "source": [
    "df.groupby('Second Clusters: n = 4')['Normalized_Rank', \"Median_score\", \"Cooperation_rating\", \"Wins\"].min()"
   ]
  },
  {
   "cell_type": "code",
   "execution_count": 113,
   "metadata": {},
   "outputs": [
    {
     "data": {
      "text/html": [
       "<div>\n",
       "<style scoped>\n",
       "    .dataframe tbody tr th:only-of-type {\n",
       "        vertical-align: middle;\n",
       "    }\n",
       "\n",
       "    .dataframe tbody tr th {\n",
       "        vertical-align: top;\n",
       "    }\n",
       "\n",
       "    .dataframe thead th {\n",
       "        text-align: right;\n",
       "    }\n",
       "</style>\n",
       "<table border=\"1\" class=\"dataframe\">\n",
       "  <thead>\n",
       "    <tr style=\"text-align: right;\">\n",
       "      <th></th>\n",
       "      <th>Normalized_Rank</th>\n",
       "      <th>Median_score</th>\n",
       "      <th>Cooperation_rating</th>\n",
       "      <th>Wins</th>\n",
       "    </tr>\n",
       "    <tr>\n",
       "      <th>Second Clusters: n = 4</th>\n",
       "      <th></th>\n",
       "      <th></th>\n",
       "      <th></th>\n",
       "      <th></th>\n",
       "    </tr>\n",
       "  </thead>\n",
       "  <tbody>\n",
       "    <tr>\n",
       "      <th>0</th>\n",
       "      <td>3.730769</td>\n",
       "      <td>4.459459</td>\n",
       "      <td>1.0</td>\n",
       "      <td>181.0</td>\n",
       "    </tr>\n",
       "    <tr>\n",
       "      <th>1</th>\n",
       "      <td>1.000000</td>\n",
       "      <td>4.567568</td>\n",
       "      <td>1.0</td>\n",
       "      <td>181.0</td>\n",
       "    </tr>\n",
       "    <tr>\n",
       "      <th>2</th>\n",
       "      <td>1.838710</td>\n",
       "      <td>5.000000</td>\n",
       "      <td>1.0</td>\n",
       "      <td>180.0</td>\n",
       "    </tr>\n",
       "    <tr>\n",
       "      <th>3</th>\n",
       "      <td>1.000000</td>\n",
       "      <td>5.000000</td>\n",
       "      <td>1.0</td>\n",
       "      <td>181.0</td>\n",
       "    </tr>\n",
       "  </tbody>\n",
       "</table>\n",
       "</div>"
      ],
      "text/plain": [
       "                        Normalized_Rank  Median_score  Cooperation_rating  \\\n",
       "Second Clusters: n = 4                                                      \n",
       "0                              3.730769      4.459459                 1.0   \n",
       "1                              1.000000      4.567568                 1.0   \n",
       "2                              1.838710      5.000000                 1.0   \n",
       "3                              1.000000      5.000000                 1.0   \n",
       "\n",
       "                         Wins  \n",
       "Second Clusters: n = 4         \n",
       "0                       181.0  \n",
       "1                       181.0  \n",
       "2                       180.0  \n",
       "3                       181.0  "
      ]
     },
     "execution_count": 113,
     "metadata": {},
     "output_type": "execute_result"
    }
   ],
   "source": [
    "df.groupby('Second Clusters: n = 4')['Normalized_Rank', \"Median_score\", \"Cooperation_rating\", \"Wins\"].max()"
   ]
  },
  {
   "cell_type": "markdown",
   "metadata": {},
   "source": [
    "**Clusters normalised rank**"
   ]
  },
  {
   "cell_type": "code",
   "execution_count": 144,
   "metadata": {},
   "outputs": [
    {
     "data": {
      "image/png": "[encoded data removed]",
      "text/plain": [
       "<Figure size 1080x288 with 4 Axes>"
      ]
     },
     "metadata": {},
     "output_type": "display_data"
    },
    {
     "data": {
      "image/png": "[encoded data removed]",
      "text/plain": [
       "<Figure size 1152x288 with 5 Axes>"
      ]
     },
     "metadata": {},
     "output_type": "display_data"
    },
    {
     "data": {
      "image/png": "[encoded data removed]",
      "text/plain": [
       "<Figure size 1224x288 with 6 Axes>"
      ]
     },
     "metadata": {},
     "output_type": "display_data"
    },
    {
     "data": {
      "image/png": "[encoded data removed]",
      "text/plain": [
       "<Figure size 1296x288 with 7 Axes>"
      ]
     },
     "metadata": {},
     "output_type": "display_data"
    },
    {
     "data": {
      "image/png": "[encoded data removed]",
      "text/plain": [
       "<Figure size 1368x288 with 8 Axes>"
      ]
     },
     "metadata": {},
     "output_type": "display_data"
    },
    {
     "data": {
      "image/png": "[encoded data removed]",
      "text/plain": [
       "<Figure size 1440x288 with 9 Axes>"
      ]
     },
     "metadata": {},
     "output_type": "display_data"
    },
    {
     "data": {
      "image/png": "[encoded data removed]",
      "text/plain": [
       "<Figure size 1512x288 with 10 Axes>"
      ]
     },
     "metadata": {},
     "output_type": "display_data"
    }
   ],
   "source": [
    "for n_clusters in range(4, 11):\n",
    "    fig, axes = plt.subplots(nrows=1, ncols=n_clusters, figsize =(11 + n_clusters, 4));\n",
    "    \n",
    "    for i, ax in enumerate(axes):\n",
    "        ax.set_title('Norm. Ranks Cluster %s' % (i + 1))\n",
    "        ax.get_yaxis().set_ticks([])\n",
    "        ax.hist(df[df['Second Clusters: n = %s' %n_clusters] == i]['Normalized_Rank'])"
   ]
  },
  {
   "cell_type": "code",
   "execution_count": 149,
   "metadata": {},
   "outputs": [
    {
     "data": {
      "image/png": "[encoded data removed]",
      "text/plain": [
       "<Figure size 1080x288 with 4 Axes>"
      ]
     },
     "metadata": {},
     "output_type": "display_data"
    },
    {
     "data": {
      "image/png": "[encoded data removed]",
      "text/plain": [
       "<Figure size 1152x288 with 5 Axes>"
      ]
     },
     "metadata": {},
     "output_type": "display_data"
    },
    {
     "data": {
      "image/png": "[encoded data removed]",
      "text/plain": [
       "<Figure size 1224x288 with 6 Axes>"
      ]
     },
     "metadata": {},
     "output_type": "display_data"
    },
    {
     "data": {
      "image/png": "[encoded data removed]",
      "text/plain": [
       "<Figure size 1296x288 with 7 Axes>"
      ]
     },
     "metadata": {},
     "output_type": "display_data"
    },
    {
     "data": {
      "image/png": "[encoded data removed]",
      "text/plain": [
       "<Figure size 1368x288 with 8 Axes>"
      ]
     },
     "metadata": {},
     "output_type": "display_data"
    },
    {
     "data": {
      "image/png": "[encoded data removed]",
      "text/plain": [
       "<Figure size 1440x288 with 9 Axes>"
      ]
     },
     "metadata": {},
     "output_type": "display_data"
    },
    {
     "data": {
      "image/png": "[encoded data removed]",
      "text/plain": [
       "<Figure size 1512x288 with 10 Axes>"
      ]
     },
     "metadata": {},
     "output_type": "display_data"
    }
   ],
   "source": [
    "for n_clusters in range(4, 11):\n",
    "    fig, axes = plt.subplots(nrows=1, ncols=n_clusters, figsize =(11 + n_clusters, 4));\n",
    "    \n",
    "    for i, ax in enumerate(axes):\n",
    "        ax.set_title('Coop Rating Cluster %s' % (i + 1))\n",
    "        ax.get_yaxis().set_ticks([])\n",
    "        ax.hist(df[df['Second Clusters: n = %s' %n_clusters] == i][\"Cooperation_rating\"])"
   ]
  },
  {
   "cell_type": "code",
   "execution_count": 148,
   "metadata": {},
   "outputs": [
    {
     "data": {
      "image/png": "[encoded data removed]",
      "text/plain": [
       "<Figure size 1080x288 with 4 Axes>"
      ]
     },
     "metadata": {},
     "output_type": "display_data"
    },
    {
     "data": {
      "image/png": "[encoded data removed]",
      "text/plain": [
       "<Figure size 1152x288 with 5 Axes>"
      ]
     },
     "metadata": {},
     "output_type": "display_data"
    },
    {
     "data": {
      "image/png": "[encoded data removed]",
      "text/plain": [
       "<Figure size 1224x288 with 6 Axes>"
      ]
     },
     "metadata": {},
     "output_type": "display_data"
    },
    {
     "data": {
      "image/png": "[encoded data removed]",
      "text/plain": [
       "<Figure size 1296x288 with 7 Axes>"
      ]
     },
     "metadata": {},
     "output_type": "display_data"
    },
    {
     "data": {
      "image/png": "[encoded data removed]",
      "text/plain": [
       "<Figure size 1368x288 with 8 Axes>"
      ]
     },
     "metadata": {},
     "output_type": "display_data"
    },
    {
     "data": {
      "image/png": "[encoded data removed]",
      "text/plain": [
       "<Figure size 1440x288 with 9 Axes>"
      ]
     },
     "metadata": {},
     "output_type": "display_data"
    },
    {
     "data": {
      "image/png": "[encoded data removed]",
      "text/plain": [
       "<Figure size 1512x288 with 10 Axes>"
      ]
     },
     "metadata": {},
     "output_type": "display_data"
    }
   ],
   "source": [
    "for n_clusters in range(4, 11):\n",
    "    fig, axes = plt.subplots(nrows=1, ncols=n_clusters, figsize =(11 + n_clusters, 4));\n",
    "    \n",
    "    for i, ax in enumerate(axes):\n",
    "        ax.set_title('Wins Cluster %s' % (i + 1))\n",
    "        ax.get_yaxis().set_ticks([])\n",
    "        ax.hist(df[df['Second Clusters: n = %s' %n_clusters] == i]['Wins'])"
   ]
  },
  {
   "cell_type": "code",
   "execution_count": 8,
   "metadata": {},
   "outputs": [],
   "source": [
    "columns_expr_three = ['Normalized_Rank', 'Median_score', ]"
   ]
  },
  {
   "cell_type": "code",
   "execution_count": 9,
   "metadata": {},
   "outputs": [
    {
     "name": "stderr",
     "output_type": "stream",
     "text": [
      "/home/nightwing/anaconda3/envs/axlml/lib/python3.5/site-packages/ipykernel_launcher.py:1: FutureWarning: Method .as_matrix will be removed in a future version. Use .values instead.\n",
      "  \"\"\"Entry point for launching an IPython kernel.\n"
     ]
    }
   ],
   "source": [
    "data = df[columns_expr_three].as_matrix()"
   ]
  },
  {
   "cell_type": "code",
   "execution_count": 10,
   "metadata": {},
   "outputs": [],
   "source": [
    "for n_clusters in range(4, 10):\n",
    "    kmeans = KMeans(n_clusters=n_clusters, random_state=0).fit(data)\n",
    "    df['Third Clusters: n = %s' % n_clusters] = kmeans.labels_"
   ]
  },
  {
   "cell_type": "code",
   "execution_count": 11,
   "metadata": {},
   "outputs": [
    {
     "data": {
      "text/html": [
       "<div>\n",
       "<style scoped>\n",
       "    .dataframe tbody tr th:only-of-type {\n",
       "        vertical-align: middle;\n",
       "    }\n",
       "\n",
       "    .dataframe tbody tr th {\n",
       "        vertical-align: top;\n",
       "    }\n",
       "\n",
       "    .dataframe thead tr th {\n",
       "        text-align: left;\n",
       "    }\n",
       "\n",
       "    .dataframe thead tr:last-of-type th {\n",
       "        text-align: right;\n",
       "    }\n",
       "</style>\n",
       "<table border=\"1\" class=\"dataframe\">\n",
       "  <thead>\n",
       "    <tr>\n",
       "      <th></th>\n",
       "      <th colspan=\"8\" halign=\"left\">Normalized_Rank</th>\n",
       "      <th colspan=\"2\" halign=\"left\">Median_score</th>\n",
       "      <th>...</th>\n",
       "      <th colspan=\"2\" halign=\"left\">Cooperation_rating</th>\n",
       "      <th colspan=\"8\" halign=\"left\">Wins</th>\n",
       "    </tr>\n",
       "    <tr>\n",
       "      <th></th>\n",
       "      <th>count</th>\n",
       "      <th>mean</th>\n",
       "      <th>std</th>\n",
       "      <th>min</th>\n",
       "      <th>25%</th>\n",
       "      <th>50%</th>\n",
       "      <th>75%</th>\n",
       "      <th>max</th>\n",
       "      <th>count</th>\n",
       "      <th>mean</th>\n",
       "      <th>...</th>\n",
       "      <th>75%</th>\n",
       "      <th>max</th>\n",
       "      <th>count</th>\n",
       "      <th>mean</th>\n",
       "      <th>std</th>\n",
       "      <th>min</th>\n",
       "      <th>25%</th>\n",
       "      <th>50%</th>\n",
       "      <th>75%</th>\n",
       "      <th>max</th>\n",
       "    </tr>\n",
       "    <tr>\n",
       "      <th>Third Clusters: n = 4</th>\n",
       "      <th></th>\n",
       "      <th></th>\n",
       "      <th></th>\n",
       "      <th></th>\n",
       "      <th></th>\n",
       "      <th></th>\n",
       "      <th></th>\n",
       "      <th></th>\n",
       "      <th></th>\n",
       "      <th></th>\n",
       "      <th></th>\n",
       "      <th></th>\n",
       "      <th></th>\n",
       "      <th></th>\n",
       "      <th></th>\n",
       "      <th></th>\n",
       "      <th></th>\n",
       "      <th></th>\n",
       "      <th></th>\n",
       "      <th></th>\n",
       "      <th></th>\n",
       "    </tr>\n",
       "  </thead>\n",
       "  <tbody>\n",
       "    <tr>\n",
       "      <th>0</th>\n",
       "      <td>272200.0</td>\n",
       "      <td>0.111235</td>\n",
       "      <td>0.069802</td>\n",
       "      <td>0.00</td>\n",
       "      <td>0.051948</td>\n",
       "      <td>0.109589</td>\n",
       "      <td>0.166667</td>\n",
       "      <td>0.500000</td>\n",
       "      <td>272200.0</td>\n",
       "      <td>2.781716</td>\n",
       "      <td>...</td>\n",
       "      <td>0.740704</td>\n",
       "      <td>1.0</td>\n",
       "      <td>272200.0</td>\n",
       "      <td>35.890355</td>\n",
       "      <td>27.731186</td>\n",
       "      <td>0.0</td>\n",
       "      <td>19.0</td>\n",
       "      <td>30.0</td>\n",
       "      <td>43.0</td>\n",
       "      <td>176.0</td>\n",
       "    </tr>\n",
       "    <tr>\n",
       "      <th>1</th>\n",
       "      <td>288446.0</td>\n",
       "      <td>0.874638</td>\n",
       "      <td>0.089679</td>\n",
       "      <td>0.50</td>\n",
       "      <td>0.810000</td>\n",
       "      <td>0.878453</td>\n",
       "      <td>0.942857</td>\n",
       "      <td>3.730769</td>\n",
       "      <td>288446.0</td>\n",
       "      <td>1.935758</td>\n",
       "      <td>...</td>\n",
       "      <td>0.717835</td>\n",
       "      <td>1.0</td>\n",
       "      <td>288446.0</td>\n",
       "      <td>60.126318</td>\n",
       "      <td>39.781478</td>\n",
       "      <td>0.0</td>\n",
       "      <td>31.0</td>\n",
       "      <td>50.0</td>\n",
       "      <td>80.0</td>\n",
       "      <td>181.0</td>\n",
       "    </tr>\n",
       "    <tr>\n",
       "      <th>2</th>\n",
       "      <td>355551.0</td>\n",
       "      <td>0.376418</td>\n",
       "      <td>0.096304</td>\n",
       "      <td>0.00</td>\n",
       "      <td>0.298851</td>\n",
       "      <td>0.374233</td>\n",
       "      <td>0.450000</td>\n",
       "      <td>1.000000</td>\n",
       "      <td>355551.0</td>\n",
       "      <td>2.581216</td>\n",
       "      <td>...</td>\n",
       "      <td>0.839421</td>\n",
       "      <td>1.0</td>\n",
       "      <td>355551.0</td>\n",
       "      <td>17.426105</td>\n",
       "      <td>21.911674</td>\n",
       "      <td>0.0</td>\n",
       "      <td>1.0</td>\n",
       "      <td>10.0</td>\n",
       "      <td>25.0</td>\n",
       "      <td>178.0</td>\n",
       "    </tr>\n",
       "    <tr>\n",
       "      <th>3</th>\n",
       "      <td>282593.0</td>\n",
       "      <td>0.648677</td>\n",
       "      <td>0.094599</td>\n",
       "      <td>0.25</td>\n",
       "      <td>0.578947</td>\n",
       "      <td>0.641975</td>\n",
       "      <td>0.704918</td>\n",
       "      <td>1.384615</td>\n",
       "      <td>282593.0</td>\n",
       "      <td>2.218143</td>\n",
       "      <td>...</td>\n",
       "      <td>0.860137</td>\n",
       "      <td>1.0</td>\n",
       "      <td>282593.0</td>\n",
       "      <td>48.181852</td>\n",
       "      <td>36.199082</td>\n",
       "      <td>0.0</td>\n",
       "      <td>20.0</td>\n",
       "      <td>43.0</td>\n",
       "      <td>71.0</td>\n",
       "      <td>180.0</td>\n",
       "    </tr>\n",
       "  </tbody>\n",
       "</table>\n",
       "<p>4 rows × 32 columns</p>\n",
       "</div>"
      ],
      "text/plain": [
       "                      Normalized_Rank                                      \\\n",
       "                                count      mean       std   min       25%   \n",
       "Third Clusters: n = 4                                                       \n",
       "0                            272200.0  0.111235  0.069802  0.00  0.051948   \n",
       "1                            288446.0  0.874638  0.089679  0.50  0.810000   \n",
       "2                            355551.0  0.376418  0.096304  0.00  0.298851   \n",
       "3                            282593.0  0.648677  0.094599  0.25  0.578947   \n",
       "\n",
       "                                                    Median_score            \\\n",
       "                            50%       75%       max        count      mean   \n",
       "Third Clusters: n = 4                                                        \n",
       "0                      0.109589  0.166667  0.500000     272200.0  2.781716   \n",
       "1                      0.878453  0.942857  3.730769     288446.0  1.935758   \n",
       "2                      0.374233  0.450000  1.000000     355551.0  2.581216   \n",
       "3                      0.641975  0.704918  1.384615     282593.0  2.218143   \n",
       "\n",
       "                       ... Cooperation_rating           Wins             \\\n",
       "                       ...                75%  max     count       mean   \n",
       "Third Clusters: n = 4  ...                                                \n",
       "0                      ...           0.740704  1.0  272200.0  35.890355   \n",
       "1                      ...           0.717835  1.0  288446.0  60.126318   \n",
       "2                      ...           0.839421  1.0  355551.0  17.426105   \n",
       "3                      ...           0.860137  1.0  282593.0  48.181852   \n",
       "\n",
       "                                                                \n",
       "                             std  min   25%   50%   75%    max  \n",
       "Third Clusters: n = 4                                           \n",
       "0                      27.731186  0.0  19.0  30.0  43.0  176.0  \n",
       "1                      39.781478  0.0  31.0  50.0  80.0  181.0  \n",
       "2                      21.911674  0.0   1.0  10.0  25.0  178.0  \n",
       "3                      36.199082  0.0  20.0  43.0  71.0  180.0  \n",
       "\n",
       "[4 rows x 32 columns]"
      ]
     },
     "execution_count": 11,
     "metadata": {},
     "output_type": "execute_result"
    }
   ],
   "source": [
    "df.groupby('Third Clusters: n = 4')['Normalized_Rank', \"Median_score\", \"Cooperation_rating\", \"Wins\"].describe()"
   ]
  },
  {
   "cell_type": "code",
   "execution_count": 12,
   "metadata": {},
   "outputs": [
    {
     "data": {
      "text/html": [
       "<div>\n",
       "<style scoped>\n",
       "    .dataframe tbody tr th:only-of-type {\n",
       "        vertical-align: middle;\n",
       "    }\n",
       "\n",
       "    .dataframe tbody tr th {\n",
       "        vertical-align: top;\n",
       "    }\n",
       "\n",
       "    .dataframe thead th {\n",
       "        text-align: right;\n",
       "    }\n",
       "</style>\n",
       "<table border=\"1\" class=\"dataframe\">\n",
       "  <thead>\n",
       "    <tr style=\"text-align: right;\">\n",
       "      <th></th>\n",
       "      <th>Normalized_Rank</th>\n",
       "      <th>Median_score</th>\n",
       "      <th>Cooperation_rating</th>\n",
       "      <th>Wins</th>\n",
       "    </tr>\n",
       "    <tr>\n",
       "      <th>Third Clusters: n = 4</th>\n",
       "      <th></th>\n",
       "      <th></th>\n",
       "      <th></th>\n",
       "      <th></th>\n",
       "    </tr>\n",
       "  </thead>\n",
       "  <tbody>\n",
       "    <tr>\n",
       "      <th>0</th>\n",
       "      <td>0.111235</td>\n",
       "      <td>2.781716</td>\n",
       "      <td>0.673225</td>\n",
       "      <td>35.890355</td>\n",
       "    </tr>\n",
       "    <tr>\n",
       "      <th>1</th>\n",
       "      <td>0.874638</td>\n",
       "      <td>1.935758</td>\n",
       "      <td>0.474158</td>\n",
       "      <td>60.126318</td>\n",
       "    </tr>\n",
       "    <tr>\n",
       "      <th>2</th>\n",
       "      <td>0.376418</td>\n",
       "      <td>2.581216</td>\n",
       "      <td>0.766817</td>\n",
       "      <td>17.426105</td>\n",
       "    </tr>\n",
       "    <tr>\n",
       "      <th>3</th>\n",
       "      <td>0.648677</td>\n",
       "      <td>2.218143</td>\n",
       "      <td>0.569114</td>\n",
       "      <td>48.181852</td>\n",
       "    </tr>\n",
       "  </tbody>\n",
       "</table>\n",
       "</div>"
      ],
      "text/plain": [
       "                       Normalized_Rank  Median_score  Cooperation_rating  \\\n",
       "Third Clusters: n = 4                                                      \n",
       "0                             0.111235      2.781716            0.673225   \n",
       "1                             0.874638      1.935758            0.474158   \n",
       "2                             0.376418      2.581216            0.766817   \n",
       "3                             0.648677      2.218143            0.569114   \n",
       "\n",
       "                            Wins  \n",
       "Third Clusters: n = 4             \n",
       "0                      35.890355  \n",
       "1                      60.126318  \n",
       "2                      17.426105  \n",
       "3                      48.181852  "
      ]
     },
     "execution_count": 12,
     "metadata": {},
     "output_type": "execute_result"
    }
   ],
   "source": [
    "df.groupby('Third Clusters: n = 4')['Normalized_Rank', \"Median_score\", \"Cooperation_rating\", \"Wins\"].mean()"
   ]
  },
  {
   "cell_type": "code",
   "execution_count": 13,
   "metadata": {},
   "outputs": [
    {
     "data": {
      "image/png": "[encoded data removed]",
      "text/plain": [
       "<Figure size 432x288 with 1 Axes>"
      ]
     },
     "metadata": {},
     "output_type": "display_data"
    }
   ],
   "source": [
    "plt.figure()\n",
    "plt.scatter(df['Normalized_Rank'], df['Median_score'], c=df['Third Clusters: n = 4']);"
   ]
  },
  {
   "cell_type": "code",
   "execution_count": 14,
   "metadata": {},
   "outputs": [
    {
     "data": {
      "image/png": "[encoded data removed]",
      "text/plain": [
       "<Figure size 432x288 with 1 Axes>"
      ]
     },
     "metadata": {},
     "output_type": "display_data"
    }
   ],
   "source": [
    "plt.hist(df.groupby('Name')['Third Clusters: n = 4'].var());"
   ]
  },
  {
   "cell_type": "code",
   "execution_count": 15,
   "metadata": {},
   "outputs": [
    {
     "data": {
      "text/plain": [
       "Name\n",
       "Worse and Worse 3                                      0.005216\n",
       "Soft Go By Majority: 40                                0.021982\n",
       "Soft Go By Majority: 5                                 0.022645\n",
       "Nice Average Copier                                    0.023009\n",
       "Dynamic Two Tits For Tat                               0.032627\n",
       "DoubleCrosser: ('D', 'D')                              0.033312\n",
       "BackStabber: ('D', 'D')                                0.038068\n",
       "Thumper                                                0.041009\n",
       "Adaptive Tit For Tat: 0.5                              0.042783\n",
       "Meta Majority Finite Memory: 78 players                0.043833\n",
       "Soft Go By Majority                                    0.046910\n",
       "Hard Tit For 2 Tats                                    0.047824\n",
       "Inverse                                                0.054008\n",
       "Tit For 2 Tats                                         0.061028\n",
       "Ripoff                                                 0.065056\n",
       "Soft Go By Majority: 20                                0.065083\n",
       "Gradual Killer: ('D', 'D', 'D', 'D', 'D', 'C', 'C')    0.065321\n",
       "Average Copier                                         0.068853\n",
       "Tit For Tat                                            0.073323\n",
       "Slow Tit For Two Tats 2                                0.073376\n",
       "Firm But Fair                                          0.074866\n",
       "Soft Go By Majority: 10                                0.080024\n",
       "Evolved FSM 16                                         0.086310\n",
       "EugineNier: ('D',)                                     0.090575\n",
       "Appeaser                                               0.100699\n",
       "Defector Hunter                                        0.102494\n",
       "Meta Majority: 173 players                             0.104225\n",
       "VeryBad                                                0.104537\n",
       "Alternator Hunter                                      0.104823\n",
       "Doubler                                                0.104936\n",
       "                                                         ...   \n",
       "ZD-Extort-2 v2: 0.125, 0.5, 1                          0.802184\n",
       "Hard Go By Majority: 40                                0.813211\n",
       "CollectiveStrategy                                     0.819423\n",
       "ZD-Extort-2: 0.1111111111111111, 0.5                   0.832265\n",
       "Fortress3                                              0.840553\n",
       "Retaliate: 0.1                                         0.864512\n",
       "Level Punisher                                         0.877617\n",
       "Once Bitten                                            0.881013\n",
       "Hard Go By Majority                                    0.883429\n",
       "Meta Mixer: 173 players                                0.920649\n",
       "Limited Retaliate: 0.1, 20                             0.925498\n",
       "ZD-SET-2: 0.25, 0.0, 2                                 0.928828\n",
       "Meta Winner Long Memory: 95 players                    0.929349\n",
       "Opposite Grudger                                       0.934913\n",
       "Meta Winner: 173 players                               0.955004\n",
       "Meta Winner Memory One: 30 players                     0.960825\n",
       "Forgiver                                               0.963898\n",
       "Meta Winner Finite Memory: 78 players                  0.973193\n",
       "Retaliate 3: 0.05                                      0.986795\n",
       "Meta Winner Deterministic: 126 players                 0.986915\n",
       "Retaliate 2: 0.08                                      0.998764\n",
       "Limited Retaliate 2: 0.08, 15                          1.009273\n",
       "Fool Me Forever                                        1.012901\n",
       "TF2                                                    1.013459\n",
       "Shubik                                                 1.016227\n",
       "Inverse Punisher                                       1.020928\n",
       "EasyGo                                                 1.026223\n",
       "Meta Winner Stochastic: 47 players                     1.026874\n",
       "Meta Winner Ensemble: 173 players                      1.030333\n",
       "Davis: 10                                              1.040334\n",
       "Name: Third Clusters: n = 4, Length: 194, dtype: float64"
      ]
     },
     "execution_count": 15,
     "metadata": {},
     "output_type": "execute_result"
    }
   ],
   "source": [
    "df.groupby('Name')['Third Clusters: n = 4'].var().sort_values()"
   ]
  },
  {
   "cell_type": "code",
   "execution_count": 167,
   "metadata": {},
   "outputs": [
    {
     "data": {
      "image/png": "[encoded data removed]",
      "text/plain": [
       "<Figure size 432x288 with 1 Axes>"
      ]
     },
     "metadata": {},
     "output_type": "display_data"
    }
   ],
   "source": [
    "plt.figure()\n",
    "plt.hist(df[df['Name'] == 'TF2']['Third Clusters: n = 4']);\n",
    "\n",
    "plt.xticks(range(n_clusters), range(n_clusters));"
   ]
  },
  {
   "cell_type": "code",
   "execution_count": null,
   "metadata": {},
   "outputs": [],
   "source": [
    "for n_clusters in range(4, 11):\n",
    "    fig, axes = plt.subplots(nrows=1, ncols=n_clusters, figsize =(11 + n_clusters, 4));\n",
    "    \n",
    "    for i, ax in enumerate(axes):\n",
    "        ax.set_title('Norm. Ranks Cluster %s' % (i + 1))\n",
    "        ax.get_yaxis().set_ticks([])\n",
    "        ax.hist(df[df['Second Clusters: n = %s' %n_clusters] == i]['Normalized_Rank'])"
   ]
  },
  {
   "cell_type": "code",
   "execution_count": 139,
   "metadata": {},
   "outputs": [
    {
     "data": {
      "text/plain": [
       "array([3, 0, 2, 1])"
      ]
     },
     "execution_count": 139,
     "metadata": {},
     "output_type": "execute_result"
    }
   ],
   "source": [
    "df['Second Clusters: n = 4'].unique()"
   ]
  },
  {
   "cell_type": "markdown",
   "metadata": {},
   "source": [
    "**Validation of n_clusters**"
   ]
  },
  {
   "cell_type": "code",
   "execution_count": 34,
   "metadata": {},
   "outputs": [],
   "source": [
    "clusterer = KMeans(n_clusters=10, random_state=0)"
   ]
  },
  {
   "cell_type": "code",
   "execution_count": 10,
   "metadata": {},
   "outputs": [],
   "source": [
    "cluster_labels = clusterer.fit_predict(data)"
   ]
  },
  {
   "cell_type": "code",
   "execution_count": 12,
   "metadata": {},
   "outputs": [],
   "source": [
    "# silhouette_avg = silhouette_score(data, cluster_labels)"
   ]
  },
  {
   "cell_type": "code",
   "execution_count": 15,
   "metadata": {},
   "outputs": [],
   "source": [
    "# sample_silhouette_values = silhouette_samples(data, cluster_labels)"
   ]
  },
  {
   "cell_type": "code",
   "execution_count": 13,
   "metadata": {},
   "outputs": [],
   "source": [
    "silhouette_avgs = []\n",
    "for n_clusters in range(4, 10):\n",
    "    clusterer = KMeans(n_clusters=n_clusters, random_state=1)\n",
    "    cluster_labels = clusterer.fit_predict(data)\n",
    "\n",
    "\n",
    "    silhouette_avg = silhouette_score(data, cluster_labels)\n",
    "    \n",
    "    silhouette_avgs.append(silhouette_avg)"
   ]
  }
 ],
 "metadata": {
  "kernelspec": {
   "display_name": "axlml",
   "language": "python",
   "name": "axlml"
  },
  "language_info": {
   "codemirror_mode": {
    "name": "ipython",
    "version": 3
   },
   "file_extension": ".py",
   "mimetype": "text/x-python",
   "name": "python",
   "nbconvert_exporter": "python",
   "pygments_lexer": "ipython3",
   "version": "3.5.2"
  }
 },
 "nbformat": 4,
 "nbformat_minor": 2
}
