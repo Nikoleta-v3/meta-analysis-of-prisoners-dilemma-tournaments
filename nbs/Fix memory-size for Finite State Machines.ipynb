{
 "cells": [
  {
   "cell_type": "code",
   "execution_count": 1,
   "metadata": {},
   "outputs": [],
   "source": [
    "import pandas as pd\n",
    "import numpy as np"
   ]
  },
  {
   "cell_type": "code",
   "execution_count": 2,
   "metadata": {},
   "outputs": [
    {
     "name": "stderr",
     "output_type": "stream",
     "text": [
      "//anaconda3/envs/axlml/lib/python3.6/site-packages/numpy/lib/arraysetops.py:472: FutureWarning: elementwise comparison failed; returning scalar instead, but in the future will perform elementwise comparison\n",
      "  mask |= (ar1 == a)\n"
     ]
    }
   ],
   "source": [
    "dfs = []\n",
    "for name in ['standard', 'noise', 'probend', 'probend_noise']:\n",
    "    df = pd.read_csv('../data/%s_3_processed.csv' % name, index_col=0\n",
    "                           )\n",
    "    df['type'] = name\n",
    "    dfs.append(df)"
   ]
  },
  {
   "cell_type": "code",
   "execution_count": 10,
   "metadata": {},
   "outputs": [
    {
     "data": {
      "text/plain": [
       "0    1.000000\n",
       "1    0.119403\n",
       "2    1.000000\n",
       "3    0.007463\n",
       "4    0.014925\n",
       "Name: memory_usage, dtype: float64"
      ]
     },
     "execution_count": 10,
     "metadata": {},
     "output_type": "execute_result"
    }
   ],
   "source": [
    "dfs[0]['memory_usage'].head()"
   ]
  },
  {
   "cell_type": "code",
   "execution_count": 8,
   "metadata": {},
   "outputs": [
    {
     "data": {
      "text/html": [
       "<div>\n",
       "<style scoped>\n",
       "    .dataframe tbody tr th:only-of-type {\n",
       "        vertical-align: middle;\n",
       "    }\n",
       "\n",
       "    .dataframe tbody tr th {\n",
       "        vertical-align: top;\n",
       "    }\n",
       "\n",
       "    .dataframe thead th {\n",
       "        text-align: right;\n",
       "    }\n",
       "</style>\n",
       "<table border=\"1\" class=\"dataframe\">\n",
       "  <thead>\n",
       "    <tr style=\"text-align: right;\">\n",
       "      <th></th>\n",
       "      <th>Rank</th>\n",
       "      <th>Name</th>\n",
       "      <th>Median_score</th>\n",
       "      <th>Cooperation_rating</th>\n",
       "      <th>Wins</th>\n",
       "      <th>Initial_C_rate</th>\n",
       "      <th>CC_rate</th>\n",
       "      <th>CD_rate</th>\n",
       "      <th>DC_rate</th>\n",
       "      <th>DD_rate</th>\n",
       "      <th>...</th>\n",
       "      <th>Cooperation_rating_max</th>\n",
       "      <th>Cooperation_rating_min</th>\n",
       "      <th>Cooperation_rating_median</th>\n",
       "      <th>Cooperation_rating_mean</th>\n",
       "      <th>Cooperation_rating_comp_to_max</th>\n",
       "      <th>Cooperation_rating_comp_to_min</th>\n",
       "      <th>Cooperation_rating_comp_to_median</th>\n",
       "      <th>Cooperation_rating_comp_to_mean</th>\n",
       "      <th>memory_usage</th>\n",
       "      <th>type</th>\n",
       "    </tr>\n",
       "  </thead>\n",
       "  <tbody>\n",
       "    <tr>\n",
       "      <th>0</th>\n",
       "      <td>0</td>\n",
       "      <td>EvolvedLookerUp2_2_2</td>\n",
       "      <td>2.969925</td>\n",
       "      <td>0.704614</td>\n",
       "      <td>28.0</td>\n",
       "      <td>1.0</td>\n",
       "      <td>0.639084</td>\n",
       "      <td>0.065530</td>\n",
       "      <td>0.189481</td>\n",
       "      <td>0.105905</td>\n",
       "      <td>...</td>\n",
       "      <td>0.966144</td>\n",
       "      <td>0.0</td>\n",
       "      <td>0.664537</td>\n",
       "      <td>0.60628</td>\n",
       "      <td>0.729305</td>\n",
       "      <td>0.0</td>\n",
       "      <td>1.060307</td>\n",
       "      <td>1.162192</td>\n",
       "      <td>1.000000</td>\n",
       "      <td>standard</td>\n",
       "    </tr>\n",
       "    <tr>\n",
       "      <th>1</th>\n",
       "      <td>1</td>\n",
       "      <td>Evolved FSM 16 Noise 05</td>\n",
       "      <td>2.874888</td>\n",
       "      <td>0.696800</td>\n",
       "      <td>21.0</td>\n",
       "      <td>1.0</td>\n",
       "      <td>0.676353</td>\n",
       "      <td>0.020448</td>\n",
       "      <td>0.135146</td>\n",
       "      <td>0.168054</td>\n",
       "      <td>...</td>\n",
       "      <td>0.966144</td>\n",
       "      <td>0.0</td>\n",
       "      <td>0.664537</td>\n",
       "      <td>0.60628</td>\n",
       "      <td>0.721218</td>\n",
       "      <td>0.0</td>\n",
       "      <td>1.048550</td>\n",
       "      <td>1.149304</td>\n",
       "      <td>0.119403</td>\n",
       "      <td>standard</td>\n",
       "    </tr>\n",
       "    <tr>\n",
       "      <th>2</th>\n",
       "      <td>2</td>\n",
       "      <td>PSO Gambler 1_1_1</td>\n",
       "      <td>2.874216</td>\n",
       "      <td>0.684317</td>\n",
       "      <td>23.0</td>\n",
       "      <td>1.0</td>\n",
       "      <td>0.650701</td>\n",
       "      <td>0.033616</td>\n",
       "      <td>0.151543</td>\n",
       "      <td>0.164140</td>\n",
       "      <td>...</td>\n",
       "      <td>0.966144</td>\n",
       "      <td>0.0</td>\n",
       "      <td>0.664537</td>\n",
       "      <td>0.60628</td>\n",
       "      <td>0.708298</td>\n",
       "      <td>0.0</td>\n",
       "      <td>1.029765</td>\n",
       "      <td>1.128714</td>\n",
       "      <td>1.000000</td>\n",
       "      <td>standard</td>\n",
       "    </tr>\n",
       "    <tr>\n",
       "      <th>3</th>\n",
       "      <td>3</td>\n",
       "      <td>PSO Gambler Mem1</td>\n",
       "      <td>2.861493</td>\n",
       "      <td>0.705582</td>\n",
       "      <td>23.0</td>\n",
       "      <td>1.0</td>\n",
       "      <td>0.663295</td>\n",
       "      <td>0.042287</td>\n",
       "      <td>0.144599</td>\n",
       "      <td>0.149819</td>\n",
       "      <td>...</td>\n",
       "      <td>0.966144</td>\n",
       "      <td>0.0</td>\n",
       "      <td>0.664537</td>\n",
       "      <td>0.60628</td>\n",
       "      <td>0.730308</td>\n",
       "      <td>0.0</td>\n",
       "      <td>1.061764</td>\n",
       "      <td>1.163789</td>\n",
       "      <td>0.007463</td>\n",
       "      <td>standard</td>\n",
       "    </tr>\n",
       "    <tr>\n",
       "      <th>4</th>\n",
       "      <td>4</td>\n",
       "      <td>Winner12</td>\n",
       "      <td>2.834701</td>\n",
       "      <td>0.681854</td>\n",
       "      <td>20.0</td>\n",
       "      <td>1.0</td>\n",
       "      <td>0.650588</td>\n",
       "      <td>0.031267</td>\n",
       "      <td>0.140920</td>\n",
       "      <td>0.177226</td>\n",
       "      <td>...</td>\n",
       "      <td>0.966144</td>\n",
       "      <td>0.0</td>\n",
       "      <td>0.664537</td>\n",
       "      <td>0.60628</td>\n",
       "      <td>0.705749</td>\n",
       "      <td>0.0</td>\n",
       "      <td>1.026059</td>\n",
       "      <td>1.124652</td>\n",
       "      <td>0.014925</td>\n",
       "      <td>standard</td>\n",
       "    </tr>\n",
       "  </tbody>\n",
       "</table>\n",
       "<p>5 rows × 37 columns</p>\n",
       "</div>"
      ],
      "text/plain": [
       "   Rank                     Name  Median_score  Cooperation_rating  Wins  \\\n",
       "0     0     EvolvedLookerUp2_2_2      2.969925            0.704614  28.0   \n",
       "1     1  Evolved FSM 16 Noise 05      2.874888            0.696800  21.0   \n",
       "2     2        PSO Gambler 1_1_1      2.874216            0.684317  23.0   \n",
       "3     3         PSO Gambler Mem1      2.861493            0.705582  23.0   \n",
       "4     4                 Winner12      2.834701            0.681854  20.0   \n",
       "\n",
       "   Initial_C_rate   CC_rate   CD_rate   DC_rate   DD_rate  ...  \\\n",
       "0             1.0  0.639084  0.065530  0.189481  0.105905  ...   \n",
       "1             1.0  0.676353  0.020448  0.135146  0.168054  ...   \n",
       "2             1.0  0.650701  0.033616  0.151543  0.164140  ...   \n",
       "3             1.0  0.663295  0.042287  0.144599  0.149819  ...   \n",
       "4             1.0  0.650588  0.031267  0.140920  0.177226  ...   \n",
       "\n",
       "   Cooperation_rating_max  Cooperation_rating_min  Cooperation_rating_median  \\\n",
       "0                0.966144                     0.0                   0.664537   \n",
       "1                0.966144                     0.0                   0.664537   \n",
       "2                0.966144                     0.0                   0.664537   \n",
       "3                0.966144                     0.0                   0.664537   \n",
       "4                0.966144                     0.0                   0.664537   \n",
       "\n",
       "   Cooperation_rating_mean  Cooperation_rating_comp_to_max  \\\n",
       "0                  0.60628                        0.729305   \n",
       "1                  0.60628                        0.721218   \n",
       "2                  0.60628                        0.708298   \n",
       "3                  0.60628                        0.730308   \n",
       "4                  0.60628                        0.705749   \n",
       "\n",
       "   Cooperation_rating_comp_to_min  Cooperation_rating_comp_to_median  \\\n",
       "0                             0.0                           1.060307   \n",
       "1                             0.0                           1.048550   \n",
       "2                             0.0                           1.029765   \n",
       "3                             0.0                           1.061764   \n",
       "4                             0.0                           1.026059   \n",
       "\n",
       "   Cooperation_rating_comp_to_mean  memory_usage      type  \n",
       "0                         1.162192      1.000000  standard  \n",
       "1                         1.149304      0.119403  standard  \n",
       "2                         1.128714      1.000000  standard  \n",
       "3                         1.163789      0.007463  standard  \n",
       "4                         1.124652      0.014925  standard  \n",
       "\n",
       "[5 rows x 37 columns]"
      ]
     },
     "execution_count": 8,
     "metadata": {},
     "output_type": "execute_result"
    }
   ],
   "source": [
    "dfs[0].head()"
   ]
  },
  {
   "cell_type": "code",
   "execution_count": 34,
   "metadata": {},
   "outputs": [
    {
     "name": "stderr",
     "output_type": "stream",
     "text": [
      "//anaconda3/envs/axlml/lib/python3.6/site-packages/ipykernel_launcher.py:1: SettingWithCopyWarning: \n",
      "A value is trying to be set on a copy of a slice from a DataFrame.\n",
      "Try using .loc[row_indexer,col_indexer] = value instead\n",
      "\n",
      "See the caveats in the documentation: http://pandas.pydata.org/pandas-docs/stable/indexing.html#indexing-view-versus-copy\n",
      "  \"\"\"Entry point for launching an IPython kernel.\n"
     ]
    }
   ],
   "source": [
    "std[std['Name'].str.contains('FSM')]['Memory_depth'] = np.inf"
   ]
  },
  {
   "cell_type": "code",
   "execution_count": 35,
   "metadata": {},
   "outputs": [
    {
     "data": {
      "text/plain": [
       "1          16.0\n",
       "103        16.0\n",
       "203        16.0\n",
       "304        16.0\n",
       "405        16.0\n",
       "506        16.0\n",
       "609        16.0\n",
       "709        16.0\n",
       "809        16.0\n",
       "910        16.0\n",
       "1012       16.0\n",
       "1114       16.0\n",
       "1214       16.0\n",
       "1314       16.0\n",
       "1415       16.0\n",
       "1516       16.0\n",
       "1617       16.0\n",
       "1718       16.0\n",
       "1819       16.0\n",
       "1921       16.0\n",
       "2021       16.0\n",
       "2122       16.0\n",
       "2124       16.0\n",
       "2128        4.0\n",
       "2310       16.0\n",
       "2311       16.0\n",
       "2316        4.0\n",
       "2497       16.0\n",
       "2498       16.0\n",
       "2504        4.0\n",
       "           ... \n",
       "1003123    16.0\n",
       "1003124    16.0\n",
       "1003251    16.0\n",
       "1003252    16.0\n",
       "1003379    16.0\n",
       "1003380    16.0\n",
       "1003507    16.0\n",
       "1003508    16.0\n",
       "1003635    16.0\n",
       "1003636    16.0\n",
       "1003763    16.0\n",
       "1003764    16.0\n",
       "1003891    16.0\n",
       "1003892    16.0\n",
       "1004019    16.0\n",
       "1004020    16.0\n",
       "1004225    16.0\n",
       "1004226    16.0\n",
       "1004275    16.0\n",
       "1004276    16.0\n",
       "1004403    16.0\n",
       "1004404    16.0\n",
       "1004531    16.0\n",
       "1004532    16.0\n",
       "1004659    16.0\n",
       "1004660    16.0\n",
       "1004787    16.0\n",
       "1004788    16.0\n",
       "1004915    16.0\n",
       "1004916    16.0\n",
       "Name: Memory_depth, Length: 15764, dtype: float64"
      ]
     },
     "execution_count": 35,
     "metadata": {},
     "output_type": "execute_result"
    }
   ],
   "source": [
    "std[std['Name'].str.contains('FSM')]['Memory_depth']"
   ]
  },
  {
   "cell_type": "code",
   "execution_count": 22,
   "metadata": {},
   "outputs": [
    {
     "data": {
      "text/plain": [
       "Index(['Unnamed: 0', 'Rank', 'Name', 'Median_score', 'Cooperation_rating',\n",
       "       'Wins', 'Initial_C_rate', 'CC_rate', 'CD_rate', 'DC_rate', 'DD_rate',\n",
       "       'CC_to_C_rate', 'CD_to_C_rate', 'DC_to_C_rate', 'DD_to_C_rate', 'turns',\n",
       "       'repetitions', 'size', 'seed', 'Normalized_Rank', 'SSE',\n",
       "       'cluster_on_0.05', 'cluster_on_0.25', 'cluster_on_0.5', 'Stochastic',\n",
       "       'Memory_depth', 'Makes_use_of_game', 'Makes_use_of_length',\n",
       "       'Cooperation_rating_max', 'Cooperation_rating_min',\n",
       "       'Cooperation_rating_median', 'Cooperation_rating_mean',\n",
       "       'Cooperation_rating_comp_to_max', 'Cooperation_rating_comp_to_min',\n",
       "       'Cooperation_rating_comp_to_median', 'Cooperation_rating_comp_to_mean',\n",
       "       'memory_usage'],\n",
       "      dtype='object')"
      ]
     },
     "execution_count": 22,
     "metadata": {},
     "output_type": "execute_result"
    }
   ],
   "source": [
    "std.columns"
   ]
  },
  {
   "cell_type": "markdown",
   "metadata": {},
   "source": [
    "There are three FSM strategies in the data set. The memory size for these is not correct. "
   ]
  }
 ],
 "metadata": {
  "kernelspec": {
   "display_name": "axlml",
   "language": "python",
   "name": "axlml"
  },
  "language_info": {
   "codemirror_mode": {
    "name": "ipython",
    "version": 3
   },
   "file_extension": ".py",
   "mimetype": "text/x-python",
   "name": "python",
   "nbconvert_exporter": "python",
   "pygments_lexer": "ipython3",
   "version": "3.6.7"
  }
 },
 "nbformat": 4,
 "nbformat_minor": 2
}
