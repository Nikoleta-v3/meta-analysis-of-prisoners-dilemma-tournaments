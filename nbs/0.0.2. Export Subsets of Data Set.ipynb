{
 "cells": [
  {
   "cell_type": "code",
   "execution_count": 1,
   "id": "949c53e9",
   "metadata": {},
   "outputs": [],
   "source": [
    "import pandas as pd"
   ]
  },
  {
   "cell_type": "code",
   "execution_count": 2,
   "id": "e745defd",
   "metadata": {},
   "outputs": [],
   "source": [
    "dfs = []\n",
    "\n",
    "for name in ['standard', 'noise', 'probend', 'probend_noise']:\n",
    "    df = pd.read_csv('../data/%s_processed.csv' % name, index_col=0)\n",
    "    df['type'] = name\n",
    "    dfs.append(df)"
   ]
  },
  {
   "cell_type": "markdown",
   "id": "aeb7ea35",
   "metadata": {},
   "source": [
    "**Noisy Subset**"
   ]
  },
  {
   "cell_type": "code",
   "execution_count": 9,
   "id": "ca95f70e",
   "metadata": {},
   "outputs": [],
   "source": [
    "dfs[1] = dfs[1][dfs[1]['noise'] <= 0.1]"
   ]
  },
  {
   "cell_type": "code",
   "execution_count": 10,
   "id": "eeb183e7",
   "metadata": {},
   "outputs": [],
   "source": [
    "dfs[1].to_csv(\"../data/subset_noise_processed.csv\")"
   ]
  },
  {
   "cell_type": "markdown",
   "id": "c4b08085",
   "metadata": {},
   "source": [
    "**Probend Subset**"
   ]
  },
  {
   "cell_type": "code",
   "execution_count": 11,
   "id": "31a060bd",
   "metadata": {},
   "outputs": [],
   "source": [
    "dfs[2] = dfs[2][dfs[2]['probend'] <= 0.1]"
   ]
  },
  {
   "cell_type": "code",
   "execution_count": 12,
   "id": "936ebf5c",
   "metadata": {},
   "outputs": [],
   "source": [
    "dfs[2].to_csv(\"../data/subset_probend_processed.csv\")"
   ]
  },
  {
   "cell_type": "markdown",
   "id": "6015ec94",
   "metadata": {},
   "source": [
    "**Noisy Probend Subset**"
   ]
  },
  {
   "cell_type": "code",
   "execution_count": 13,
   "id": "7e2b8972",
   "metadata": {},
   "outputs": [],
   "source": [
    "dfs[3] = dfs[3][(dfs[3]['probend'] <= 0.1) & (dfs[3]['noise'] <= 0.1)]"
   ]
  },
  {
   "cell_type": "code",
   "execution_count": 14,
   "id": "2a4a991a",
   "metadata": {},
   "outputs": [],
   "source": [
    "dfs[3].to_csv(\"../data/subset_probend_noise_processed.csv\")"
   ]
  },
  {
   "cell_type": "code",
   "execution_count": null,
   "id": "9fffbbda",
   "metadata": {},
   "outputs": [],
   "source": []
  }
 ],
 "metadata": {
  "kernelspec": {
   "display_name": "Python 3",
   "language": "python",
   "name": "python3"
  },
  "language_info": {
   "codemirror_mode": {
    "name": "ipython",
    "version": 3
   },
   "file_extension": ".py",
   "mimetype": "text/x-python",
   "name": "python",
   "nbconvert_exporter": "python",
   "pygments_lexer": "ipython3",
   "version": "3.11.3"
  }
 },
 "nbformat": 4,
 "nbformat_minor": 5
}
