{
 "cells": [
  {
   "cell_type": "markdown",
   "metadata": {},
   "source": [
    "A.0.0. Seperating tournament types\n",
    "----------------------------------\n",
    "\n",
    "The are four type of tournaments in our experiment *(standar, noisy, probabilistic ending, noisy + probabilistic ending)*. Here we are creating individual dataframes with several information in each tournament for each type.\n",
    "\n",
    "The data frames, include information such:\n",
    "\n",
    "- seed\n",
    "- normalised rank of high cooperator $\\bar{r_{C}}$\n",
    "- normalised rank of low cooperator $\\bar{r_{D}}$\n",
    "- highest coop $C^{*}_{r}$\n",
    "- lowest coop $\\tilde{C_{r}}$\n",
    "- mean coop $\\bar{C_{r}}$\n",
    "- median coop $\\breve{C_{r}}$\n",
    "- size"
   ]
  },
  {
   "cell_type": "code",
   "execution_count": 1,
   "metadata": {
    "collapsed": true
   },
   "outputs": [],
   "source": [
    "import pandas as pd"
   ]
  },
  {
   "cell_type": "code",
   "execution_count": 3,
   "metadata": {
    "collapsed": true
   },
   "outputs": [],
   "source": [
    "df = pd.read_csv('/home/nightwing/rsc/axlml/src/data/df.csv')"
   ]
  },
  {
   "cell_type": "code",
   "execution_count": 4,
   "metadata": {
    "collapsed": true
   },
   "outputs": [],
   "source": [
    "standar_tournaments = df[(df['noise'].isnull()) & (df['probend'].isnull())]"
   ]
  },
  {
   "cell_type": "code",
   "execution_count": 4,
   "metadata": {
    "collapsed": true
   },
   "outputs": [],
   "source": [
    "noisy_tournaments = df[(~df['noise'].isnull()) & (df['probend'].isnull())]"
   ]
  },
  {
   "cell_type": "code",
   "execution_count": 5,
   "metadata": {
    "collapsed": true
   },
   "outputs": [],
   "source": [
    "probend_tournaments = df[(df['noise'].isnull()) & (df['turns'].isnull())]"
   ]
  },
  {
   "cell_type": "code",
   "execution_count": 6,
   "metadata": {
    "collapsed": true
   },
   "outputs": [],
   "source": [
    "noisy_probend_tournaments = df[(~df['noise'].isnull()) & (df['turns'].isnull())]"
   ]
  },
  {
   "cell_type": "code",
   "execution_count": 7,
   "metadata": {
    "collapsed": true
   },
   "outputs": [],
   "source": [
    "for df, name in [[standar_tournaments, 'standar'], [noisy_tournaments, 'noise'],\n",
    "                 [probend_tournaments, 'probend'], [noisy_probend_tournaments, 'noisy probend']]:\n",
    "\n",
    "    df['Normalized_Rank'] = df.apply(lambda row: row['Rank'] / row['size'], axis=1)\n",
    "    \n",
    "    max_coop = df.groupby(['seed'], sort=False)['Cooperation_rating'].max()\n",
    "    min_coop = df.groupby(['seed'], sort=False)['Cooperation_rating'].min()\n",
    "    mean_coop = df.groupby(['seed'], sort=False)['Cooperation_rating'].mean()\n",
    "    median_coop = df.groupby(['seed'], sort=False)['Cooperation_rating'].median()\n",
    "    std = df.groupby(['seed'], sort=False)['Cooperation_rating'].std()\n",
    "    \n",
    "    coop_w = df[df['Rank'] == 0].reset_index()['Cooperation_rating']\n",
    "    coop_l = df.loc[df.groupby(['seed'], sort=False)['Rank'].idxmax()].reset_index()['Cooperation_rating']\n",
    "    \n",
    "    norm_rank_c = df.loc[df.groupby(['seed'], sort=False)['Cooperation_rating'].idxmax()].reset_index()['Normalized_Rank']\n",
    "    norm_rank_d = df.loc[df.groupby(['seed'], sort=False)['Cooperation_rating'].idxmin()].reset_index()['Normalized_Rank']\n",
    "    \n",
    "    norm_rank_c = norm_rank_c\n",
    "    norm_rank_d = norm_rank_d\n",
    "    \n",
    "    size = df.groupby(['seed'])['size'].max()\n",
    "    \n",
    "    df = pd.DataFrame({'norm rank C': norm_rank_c, 'norm rank D': norm_rank_d, \n",
    "                       'winner coop': coop_w, 'loser coop': coop_l, 'max coop': max_coop, 'min coop': min_coop,\n",
    "                       'mean coop': mean_coop, 'median coop': median_coop, 'size': size,\n",
    "                       'std': std}).reset_index()\n",
    "    df.to_csv('data/{}_tournaments.csv'.format(name), index=False)"
   ]
  },
  {
   "cell_type": "code",
   "execution_count": 12,
   "metadata": {
    "collapsed": true
   },
   "outputs": [],
   "source": [
    "frame = pd.read_csv('data/noise_tournaments.csv')"
   ]
  },
  {
   "cell_type": "code",
   "execution_count": 13,
   "metadata": {},
   "outputs": [
    {
     "data": {
      "text/plain": [
       "index          False\n",
       "loser coop     False\n",
       "max coop       False\n",
       "mean coop      False\n",
       "median coop    False\n",
       "min coop       False\n",
       "norm rank C    False\n",
       "norm rank D    False\n",
       "size           False\n",
       "std            False\n",
       "winner coop    False\n",
       "dtype: bool"
      ]
     },
     "execution_count": 13,
     "metadata": {},
     "output_type": "execute_result"
    }
   ],
   "source": [
    "frame.isnull().any()"
   ]
  },
  {
   "cell_type": "code",
   "execution_count": null,
   "metadata": {
    "collapsed": true
   },
   "outputs": [],
   "source": []
  }
 ],
 "metadata": {
  "anaconda-cloud": {},
  "kernelspec": {
   "display_name": "Python [conda env:axlml]",
   "language": "python",
   "name": "conda-env-axlml-py"
  },
  "language_info": {
   "codemirror_mode": {
    "name": "ipython",
    "version": 3
   },
   "file_extension": ".py",
   "mimetype": "text/x-python",
   "name": "python",
   "nbconvert_exporter": "python",
   "pygments_lexer": "ipython3",
   "version": "3.5.2"
  }
 },
 "nbformat": 4,
 "nbformat_minor": 1
}
