{
 "cells": [
  {
   "cell_type": "code",
   "execution_count": 66,
   "metadata": {
    "collapsed": false
   },
   "outputs": [],
   "source": [
    "%matplotlib inline\n",
    "import pandas as pd\n",
    "import seaborn as sns\n",
    "import matplotlib.pyplot as plt"
   ]
  },
  {
   "cell_type": "code",
   "execution_count": 67,
   "metadata": {
    "collapsed": false
   },
   "outputs": [
    {
     "name": "stdout",
     "output_type": "stream",
     "text": [
      "\r\n",
      "Welcome to Raven, ARCCA's HPC System\r\n",
      "\r\n",
      "This system is for authorised users, if you do not have authorised access \r\n",
      "please disconnect immediately and contact arcca@cardiff.ac.uk for assistance.\r\n",
      "\r\n",
      "For new users please note the following:\r\n",
      " * the username contains only lowercase letters.\r\n",
      " * for security, the password field will stay empty whilst you type but it is\r\n",
      "   being entered.\r\n",
      "\r\n"
     ]
    }
   ],
   "source": [
    "# Sync the data\n",
    "!rsync -r raven:/scratch/smavak/axlml/data/ data"
   ]
  },
  {
   "cell_type": "code",
   "execution_count": 68,
   "metadata": {
    "collapsed": false
   },
   "outputs": [
    {
     "data": {
      "text/html": [
       "<div>\n",
       "<table border=\"1\" class=\"dataframe\">\n",
       "  <thead>\n",
       "    <tr style=\"text-align: right;\">\n",
       "      <th></th>\n",
       "      <th>noise</th>\n",
       "      <th>probend</th>\n",
       "      <th>repetitions</th>\n",
       "      <th>seed</th>\n",
       "      <th>size</th>\n",
       "      <th>turns</th>\n",
       "    </tr>\n",
       "  </thead>\n",
       "  <tbody>\n",
       "    <tr>\n",
       "      <th>count</th>\n",
       "      <td>333.000000</td>\n",
       "      <td>333.000000</td>\n",
       "      <td>333.000000</td>\n",
       "      <td>333.000000</td>\n",
       "      <td>333.000000</td>\n",
       "      <td>333.000000</td>\n",
       "    </tr>\n",
       "    <tr>\n",
       "      <th>mean</th>\n",
       "      <td>0.494481</td>\n",
       "      <td>0.511652</td>\n",
       "      <td>54.465465</td>\n",
       "      <td>166.000000</td>\n",
       "      <td>38.201201</td>\n",
       "      <td>100.729730</td>\n",
       "    </tr>\n",
       "    <tr>\n",
       "      <th>std</th>\n",
       "      <td>0.298480</td>\n",
       "      <td>0.280763</td>\n",
       "      <td>25.741934</td>\n",
       "      <td>96.273049</td>\n",
       "      <td>44.661360</td>\n",
       "      <td>58.408142</td>\n",
       "    </tr>\n",
       "    <tr>\n",
       "      <th>min</th>\n",
       "      <td>0.001849</td>\n",
       "      <td>0.000374</td>\n",
       "      <td>10.000000</td>\n",
       "      <td>0.000000</td>\n",
       "      <td>2.000000</td>\n",
       "      <td>1.000000</td>\n",
       "    </tr>\n",
       "    <tr>\n",
       "      <th>25%</th>\n",
       "      <td>0.208423</td>\n",
       "      <td>0.266155</td>\n",
       "      <td>33.000000</td>\n",
       "      <td>83.000000</td>\n",
       "      <td>2.000000</td>\n",
       "      <td>52.000000</td>\n",
       "    </tr>\n",
       "    <tr>\n",
       "      <th>50%</th>\n",
       "      <td>0.503099</td>\n",
       "      <td>0.507584</td>\n",
       "      <td>53.000000</td>\n",
       "      <td>166.000000</td>\n",
       "      <td>3.000000</td>\n",
       "      <td>97.000000</td>\n",
       "    </tr>\n",
       "    <tr>\n",
       "      <th>75%</th>\n",
       "      <td>0.752098</td>\n",
       "      <td>0.758946</td>\n",
       "      <td>76.000000</td>\n",
       "      <td>249.000000</td>\n",
       "      <td>71.000000</td>\n",
       "      <td>152.000000</td>\n",
       "    </tr>\n",
       "    <tr>\n",
       "      <th>max</th>\n",
       "      <td>0.998080</td>\n",
       "      <td>0.995985</td>\n",
       "      <td>100.000000</td>\n",
       "      <td>332.000000</td>\n",
       "      <td>133.000000</td>\n",
       "      <td>200.000000</td>\n",
       "    </tr>\n",
       "  </tbody>\n",
       "</table>\n",
       "</div>"
      ],
      "text/plain": [
       "            noise     probend  repetitions        seed        size       turns\n",
       "count  333.000000  333.000000   333.000000  333.000000  333.000000  333.000000\n",
       "mean     0.494481    0.511652    54.465465  166.000000   38.201201  100.729730\n",
       "std      0.298480    0.280763    25.741934   96.273049   44.661360   58.408142\n",
       "min      0.001849    0.000374    10.000000    0.000000    2.000000    1.000000\n",
       "25%      0.208423    0.266155    33.000000   83.000000    2.000000   52.000000\n",
       "50%      0.503099    0.507584    53.000000  166.000000    3.000000   97.000000\n",
       "75%      0.752098    0.758946    76.000000  249.000000   71.000000  152.000000\n",
       "max      0.998080    0.995985   100.000000  332.000000  133.000000  200.000000"
      ]
     },
     "execution_count": 68,
     "metadata": {},
     "output_type": "execute_result"
    }
   ],
   "source": [
    "# Read in the parameters file\n",
    "p_df = pd.read_csv(\"data/parameters.csv\")\n",
    "p_df.describe()"
   ]
  },
  {
   "cell_type": "code",
   "execution_count": 69,
   "metadata": {
    "collapsed": false
   },
   "outputs": [
    {
     "data": {
      "image/png": "[encoded data removed]",
      "text/plain": [
       "<matplotlib.figure.Figure at 0x108fbcf98>"
      ]
     },
     "metadata": {},
     "output_type": "display_data"
    }
   ],
   "source": [
    "plt.hist(p_df.repetitions)\n",
    "plt.title(\"Repetitions\");"
   ]
  },
  {
   "cell_type": "code",
   "execution_count": 70,
   "metadata": {
    "collapsed": false
   },
   "outputs": [
    {
     "data": {
      "image/png": "[encoded data removed]",
      "text/plain": [
       "<matplotlib.figure.Figure at 0x10a2d25c0>"
      ]
     },
     "metadata": {},
     "output_type": "display_data"
    }
   ],
   "source": [
    "plt.hist(p_df.turns)\n",
    "plt.title(\"Turns\");"
   ]
  },
  {
   "cell_type": "code",
   "execution_count": 71,
   "metadata": {
    "collapsed": false
   },
   "outputs": [
    {
     "data": {
      "image/png": "[encoded data removed]",
      "text/plain": [
       "<matplotlib.figure.Figure at 0x109ccd208>"
      ]
     },
     "metadata": {},
     "output_type": "display_data"
    }
   ],
   "source": [
    "plt.hist(p_df['size'])\n",
    "plt.title(\"Size\");"
   ]
  },
  {
   "cell_type": "code",
   "execution_count": 72,
   "metadata": {
    "collapsed": false
   },
   "outputs": [
    {
     "data": {
      "image/png": "[encoded data removed]",
      "text/plain": [
       "<matplotlib.figure.Figure at 0x10a94c080>"
      ]
     },
     "metadata": {},
     "output_type": "display_data"
    }
   ],
   "source": [
    "plt.hist(p_df['probend'])\n",
    "plt.title(\"Prob end\");"
   ]
  },
  {
   "cell_type": "code",
   "execution_count": 73,
   "metadata": {
    "collapsed": false
   },
   "outputs": [
    {
     "data": {
      "text/plain": [
       "('1.14.0', 145)"
      ]
     },
     "execution_count": 73,
     "metadata": {},
     "output_type": "execute_result"
    }
   ],
   "source": [
    "import axelrod as axl\n",
    "axl.__version__, len(axl.strategies)  # Using 1.14: 145 strategies"
   ]
  },
  {
   "cell_type": "code",
   "execution_count": 65,
   "metadata": {
    "collapsed": false
   },
   "outputs": [
    {
     "data": {
      "text/plain": [
       "0"
      ]
     },
     "execution_count": 65,
     "metadata": {},
     "output_type": "execute_result"
    }
   ],
   "source": [
    "played_strategies = set(pd.unique((p_df.ix[:,1:-5]).values.ravel()))\n",
    "strategies = set(s().__repr__() for s in axl.strategies)\n",
    "len(strategies - played_strategies)  # Al strategies have been played"
   ]
  }
 ],
 "metadata": {
  "anaconda-cloud": {},
  "kernelspec": {
   "display_name": "Python [conda env:axlml]",
   "language": "python",
   "name": "conda-env-axlml-py"
  },
  "language_info": {
   "codemirror_mode": {
    "name": "ipython",
    "version": 3
   },
   "file_extension": ".py",
   "mimetype": "text/x-python",
   "name": "python",
   "nbconvert_exporter": "python",
   "pygments_lexer": "ipython3",
   "version": "3.5.2"
  }
 },
 "nbformat": 4,
 "nbformat_minor": 1
}
